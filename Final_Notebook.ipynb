{
 "metadata": {
  "language_info": {
   "codemirror_mode": {
    "name": "ipython",
    "version": 3
   },
   "file_extension": ".py",
   "mimetype": "text/x-python",
   "name": "python",
   "nbconvert_exporter": "python",
   "pygments_lexer": "ipython3",
   "version": 3
  },
  "orig_nbformat": 2
 },
 "nbformat": 4,
 "nbformat_minor": 2,
 "cells": [
  {
   "source": [
    "# Overview"
   ],
   "cell_type": "markdown",
   "metadata": {}
  },
  {
   "source": [
    "# Business Proposal"
   ],
   "cell_type": "markdown",
   "metadata": {}
  },
  {
   "source": [
    "# EDA"
   ],
   "cell_type": "markdown",
   "metadata": {}
  },
  {
   "cell_type": "code",
   "execution_count": null,
   "metadata": {},
   "outputs": [],
   "source": [
    "import pandas as pd  \n",
    "import numpy as np\n",
    "import matplotlib.pyplot as plt\n",
    "import matplotlib\n",
    "plt.style.use('fivethirtyeight')\n",
    "%matplotlib inline\n",
    "%config InlineBackend.figure_format = 'retina'\n",
    "\n",
    "from collections import Counter\n",
    "import re as regex\n",
    "import pickle\n",
    "\n",
    "import plotly\n",
    "from plotly import graph_objs\n",
    "import plotly.graph_objs as go\n",
    "import chart_studio.plotly as py\n",
    "plotly.offline.init_notebook_mode()\n",
    "from IPython.core.interactiveshell import InteractiveShell\n",
    "import plotly.figure_factory as ff\n",
    "InteractiveShell.ast_node_interactivity = 'all'\n",
    "from plotly.offline import iplot\n",
    "\n",
    "from sklearn.model_selection import train_test_split\n",
    "\n",
    "\n",
    "import nltk\n",
    "from nltk.corpus import stopwords\n",
    "import string\n",
    "from sklearn.feature_extraction.text import TfidfVectorizer, CountVectorizer\n",
    "from yellowbrick.text import FreqDistVisualizer\n",
    "from yellowbrick.text.tsne import tsne\n",
    "from wordcloud import WordCloud\n",
    "from nltk.stem.porter import PorterStemmer\n",
    "from textblob import TextBlob\n",
    "from textblob import Word"
   ]
  },
  {
   "cell_type": "code",
   "execution_count": null,
   "metadata": {},
   "outputs": [],
   "source": [
    "df = pd.read_csv(\"../data/labeled_data.csv\")\n",
    "df.head()"
   ]
  },
  {
   "cell_type": "code",
   "execution_count": null,
   "metadata": {},
   "outputs": [],
   "source": [
    "df.shape"
   ]
  },
  {
   "cell_type": "code",
   "execution_count": null,
   "metadata": {},
   "outputs": [],
   "source": [
    "df = df.drop(\"Unnamed: 0\", axis=1)\n",
    "df = df.rename(columns={\"hate_speech\": 'hate', \"offensive_language\": 'offensive'})"
   ]
  },
  {
   "cell_type": "code",
   "execution_count": null,
   "metadata": {},
   "outputs": [],
   "source": [
    "hate = len(df[df['class'] == 0])\n",
    "off = len(df[df['class'] == 1])\n",
    "neu = len(df[df['class'] == 2])\n",
    "dist = [\n",
    "    graph_objs.Bar(\n",
    "        x=[\"hate\",\"offensive\",\"neutral\"],\n",
    "        y=[hate, off, neu],\n",
    ")]\n",
    "plotly.offline.iplot({\"data\":dist, \"layout\":graph_objs.Layout(title=\"Class Distribution\")})"
   ]
  },
  {
   "cell_type": "code",
   "execution_count": null,
   "metadata": {},
   "outputs": [],
   "source": [
    "df3['class'] = df3['class'].replace([2], 1)\n",
    "df3['class'] = df3['class'].replace([0, 1], [1, 0])\n",
    "df3 = df3.rename(columns={\"class\": \"target\"})"
   ]
  },
  {
   "cell_type": "code",
   "execution_count": null,
   "metadata": {},
   "outputs": [],
   "source": [
    "preprocess_tweet(df3, 'tweet')"
   ]
  },
  {
   "source": [
    "## Preprocessing Function\n",
    "\n",
    "- We removed callouts or usernames, which is preceded by @\n",
    "- We removed character references, which includes HTML character references, but also emojis, unicode characters\n",
    "- We removed the hash from the hashtags and decided to keep some of them because the hashtags are words or word-like and were used to connect represent similar content across users\n",
    "- We removed the Twitter codes RT and QT for retweet and quotetweet\n",
    "- We removed the HTML links since a lot of users linking a website reference as part of the tweet\n",
    "- We then removed any punctuation\n",
    "- We then lowercased all the tweets\n",
    "- We removed any numbers and number containing words\n",
    "- We removed any extra whitespace and any leading and trailing whitespace\n"
   ],
   "cell_type": "markdown",
   "metadata": {}
  },
  {
   "cell_type": "code",
   "execution_count": null,
   "metadata": {},
   "outputs": [],
   "source": [
    "preprocess_tweet(df3, 'tweet')"
   ]
  },
  {
   "source": [
    "# Baseline Model"
   ],
   "cell_type": "markdown",
   "metadata": {}
  },
  {
   "cell_type": "code",
   "execution_count": null,
   "metadata": {},
   "outputs": [],
   "source": [
    "X = df3.tweet\n",
    "y = df3.target\n",
    "X_tr, X_val, y_tr, y_val = train_test_split(X, y, test_size=0.2, random_state=42)"
   ]
  },
  {
   "cell_type": "code",
   "execution_count": null,
   "metadata": {},
   "outputs": [],
   "source": [
    "train = pd.concat([X_tr, y_tr], axis=1).reset_index()\n",
    "train = train.drop(columns=['index'], axis=1)\n",
    "train.head()"
   ]
  },
  {
   "cell_type": "code",
   "execution_count": null,
   "metadata": {},
   "outputs": [],
   "source": [
    "val = pd.concat([X_val, y_val], axis=1).reset_index()\n",
    "val = val.drop(columns=['index'], axis=1)"
   ]
  },
  {
   "cell_type": "code",
   "execution_count": null,
   "metadata": {},
   "outputs": [],
   "source": [
    "stop_words = set(stopwords.words('english'))\n",
    "stop_list = [''.join(c for c in s if c not in string.punctuation) for s in stop_words]\n",
    "\n",
    "train.tweet = train.tweet.apply(lambda x: re.sub(r'\\b\\w{1,2}\\b', '', str(x)))\n",
    "val.tweet = val.tweet.apply(lambda x: re.sub(r'\\b\\w{1,2}\\b', '', str(x)))"
   ]
  },
  {
   "cell_type": "code",
   "execution_count": null,
   "metadata": {},
   "outputs": [],
   "source": [
    "zero = train[train.target == 0]\n",
    "one = train[train.target == 1]\n"
   ]
  },
  {
   "cell_type": "code",
   "execution_count": null,
   "metadata": {},
   "outputs": [],
   "source": []
  },
  {
   "source": [
    "# Class Imbalance"
   ],
   "cell_type": "markdown",
   "metadata": {}
  },
  {
   "source": [
    "# API"
   ],
   "cell_type": "markdown",
   "metadata": {}
  },
  {
   "source": [
    "# Further Modeling"
   ],
   "cell_type": "markdown",
   "metadata": {}
  },
  {
   "source": [
    "# Analysis"
   ],
   "cell_type": "markdown",
   "metadata": {}
  },
  {
   "source": [
    "# Next Steps"
   ],
   "cell_type": "markdown",
   "metadata": {}
  },
  {
   "cell_type": "code",
   "execution_count": null,
   "metadata": {},
   "outputs": [],
   "source": []
  }
 ]
}