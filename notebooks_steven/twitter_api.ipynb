{
 "metadata": {
  "language_info": {
   "codemirror_mode": {
    "name": "ipython",
    "version": 3
   },
   "file_extension": ".py",
   "mimetype": "text/x-python",
   "name": "python",
   "nbconvert_exporter": "python",
   "pygments_lexer": "ipython3",
   "version": "3.9.2-final"
  },
  "orig_nbformat": 2,
  "kernelspec": {
   "name": "python3",
   "display_name": "Python 3",
   "language": "python"
  }
 },
 "nbformat": 4,
 "nbformat_minor": 2,
 "cells": [
  {
   "source": [
    "# Twitter API Workbook"
   ],
   "cell_type": "markdown",
   "metadata": {}
  },
  {
   "cell_type": "code",
   "execution_count": 3,
   "metadata": {},
   "outputs": [],
   "source": [
    "import pandas as pd\n",
    "import json\n",
    "import re\n",
    "import requests\n",
    "import pickle\n",
    "import config\n",
    "from utils import *"
   ]
  },
  {
   "source": [
    "## Database 1"
   ],
   "cell_type": "markdown",
   "metadata": {}
  },
  {
   "cell_type": "code",
   "execution_count": 4,
   "metadata": {},
   "outputs": [
    {
     "output_type": "execute_result",
     "data": {
      "text/plain": [
       "              Tweet ID              User ID  Hate Probability  \\\n",
       "0  1242513753733808128  1037398540698312704          0.625769   \n",
       "1  1242355882119155713  1242352444136247298          0.793170   \n",
       "2  1242280806711611392             14369596          0.664656   \n",
       "3  1242484533875707910  1067189627721850880          0.798824   \n",
       "4  1242433526407917568           3139806542          0.969103   \n",
       "\n",
       "   Counterhate Probability  Neutral Probability Label  \n",
       "0                 0.210356             0.063975  Hate  \n",
       "1                 0.133605             0.008983  Hate  \n",
       "2                 0.447038             0.075040  Hate  \n",
       "3                 0.015304             0.112250  Hate  \n",
       "4                 0.001253             0.092968  Hate  "
      ],
      "text/html": "<div>\n<style scoped>\n    .dataframe tbody tr th:only-of-type {\n        vertical-align: middle;\n    }\n\n    .dataframe tbody tr th {\n        vertical-align: top;\n    }\n\n    .dataframe thead th {\n        text-align: right;\n    }\n</style>\n<table border=\"1\" class=\"dataframe\">\n  <thead>\n    <tr style=\"text-align: right;\">\n      <th></th>\n      <th>Tweet ID</th>\n      <th>User ID</th>\n      <th>Hate Probability</th>\n      <th>Counterhate Probability</th>\n      <th>Neutral Probability</th>\n      <th>Label</th>\n    </tr>\n  </thead>\n  <tbody>\n    <tr>\n      <th>0</th>\n      <td>1242513753733808128</td>\n      <td>1037398540698312704</td>\n      <td>0.625769</td>\n      <td>0.210356</td>\n      <td>0.063975</td>\n      <td>Hate</td>\n    </tr>\n    <tr>\n      <th>1</th>\n      <td>1242355882119155713</td>\n      <td>1242352444136247298</td>\n      <td>0.793170</td>\n      <td>0.133605</td>\n      <td>0.008983</td>\n      <td>Hate</td>\n    </tr>\n    <tr>\n      <th>2</th>\n      <td>1242280806711611392</td>\n      <td>14369596</td>\n      <td>0.664656</td>\n      <td>0.447038</td>\n      <td>0.075040</td>\n      <td>Hate</td>\n    </tr>\n    <tr>\n      <th>3</th>\n      <td>1242484533875707910</td>\n      <td>1067189627721850880</td>\n      <td>0.798824</td>\n      <td>0.015304</td>\n      <td>0.112250</td>\n      <td>Hate</td>\n    </tr>\n    <tr>\n      <th>4</th>\n      <td>1242433526407917568</td>\n      <td>3139806542</td>\n      <td>0.969103</td>\n      <td>0.001253</td>\n      <td>0.092968</td>\n      <td>Hate</td>\n    </tr>\n  </tbody>\n</table>\n</div>"
     },
     "metadata": {},
     "execution_count": 4
    }
   ],
   "source": [
    "df = pd.read_csv('../data/hate.csv')\n",
    "df.head()"
   ]
  },
  {
   "cell_type": "code",
   "execution_count": 5,
   "metadata": {},
   "outputs": [
    {
     "output_type": "stream",
     "name": "stdout",
     "text": [
      "<class 'pandas.core.frame.DataFrame'>\nRangeIndex: 891204 entries, 0 to 891203\nData columns (total 6 columns):\n #   Column                   Non-Null Count   Dtype  \n---  ------                   --------------   -----  \n 0   Tweet ID                 891204 non-null  int64  \n 1   User ID                  891204 non-null  int64  \n 2   Hate Probability         891204 non-null  float64\n 3   Counterhate Probability  891204 non-null  float64\n 4   Neutral Probability      891204 non-null  float64\n 5   Label                    891204 non-null  object \ndtypes: float64(3), int64(2), object(1)\nmemory usage: 40.8+ MB\n"
     ]
    }
   ],
   "source": [
    "df.info()"
   ]
  },
  {
   "cell_type": "code",
   "execution_count": 23,
   "metadata": {},
   "outputs": [
    {
     "output_type": "execute_result",
     "data": {
      "text/plain": [
       "    index                   id                 user      hate     chate  \\\n",
       "0  560314  1240976182494908416   884055068265164801  0.999974  0.000520   \n",
       "1  515476  1238239331879464960  1136405401770106880  0.999966  0.000625   \n",
       "2  396712  1247813175996792834  1234197517006450688  0.999959  0.003865   \n",
       "3  424027  1245317927823233024  1232772980763054081  0.999958  0.001476   \n",
       "4  380359  1241373862756888577            907414928  0.999952  0.018423   \n",
       "\n",
       "    neutral label  \n",
       "0  0.000382  Hate  \n",
       "1  0.000105  Hate  \n",
       "2  0.000018  Hate  \n",
       "3  0.000318  Hate  \n",
       "4  0.000788  Hate  "
      ],
      "text/html": "<div>\n<style scoped>\n    .dataframe tbody tr th:only-of-type {\n        vertical-align: middle;\n    }\n\n    .dataframe tbody tr th {\n        vertical-align: top;\n    }\n\n    .dataframe thead th {\n        text-align: right;\n    }\n</style>\n<table border=\"1\" class=\"dataframe\">\n  <thead>\n    <tr style=\"text-align: right;\">\n      <th></th>\n      <th>index</th>\n      <th>id</th>\n      <th>user</th>\n      <th>hate</th>\n      <th>chate</th>\n      <th>neutral</th>\n      <th>label</th>\n    </tr>\n  </thead>\n  <tbody>\n    <tr>\n      <th>0</th>\n      <td>560314</td>\n      <td>1240976182494908416</td>\n      <td>884055068265164801</td>\n      <td>0.999974</td>\n      <td>0.000520</td>\n      <td>0.000382</td>\n      <td>Hate</td>\n    </tr>\n    <tr>\n      <th>1</th>\n      <td>515476</td>\n      <td>1238239331879464960</td>\n      <td>1136405401770106880</td>\n      <td>0.999966</td>\n      <td>0.000625</td>\n      <td>0.000105</td>\n      <td>Hate</td>\n    </tr>\n    <tr>\n      <th>2</th>\n      <td>396712</td>\n      <td>1247813175996792834</td>\n      <td>1234197517006450688</td>\n      <td>0.999959</td>\n      <td>0.003865</td>\n      <td>0.000018</td>\n      <td>Hate</td>\n    </tr>\n    <tr>\n      <th>3</th>\n      <td>424027</td>\n      <td>1245317927823233024</td>\n      <td>1232772980763054081</td>\n      <td>0.999958</td>\n      <td>0.001476</td>\n      <td>0.000318</td>\n      <td>Hate</td>\n    </tr>\n    <tr>\n      <th>4</th>\n      <td>380359</td>\n      <td>1241373862756888577</td>\n      <td>907414928</td>\n      <td>0.999952</td>\n      <td>0.018423</td>\n      <td>0.000788</td>\n      <td>Hate</td>\n    </tr>\n  </tbody>\n</table>\n</div>"
     },
     "metadata": {},
     "execution_count": 23
    }
   ],
   "source": [
    "sorted_df = df.sort_values(by='Hate Probability', ascending=False).reset_index()\n",
    "sorted_df.columns= ['index', 'id', 'user', 'hate', 'chate', 'neutral', 'label']\n",
    "sorted_df.head()"
   ]
  },
  {
   "cell_type": "code",
   "execution_count": 41,
   "metadata": {},
   "outputs": [
    {
     "output_type": "execute_result",
     "data": {
      "text/plain": [
       "                    id\n",
       "0  1240976182494908416\n",
       "1  1238239331879464960\n",
       "2  1247813175996792834\n",
       "3  1245317927823233024\n",
       "4  1241373862756888577"
      ],
      "text/html": "<div>\n<style scoped>\n    .dataframe tbody tr th:only-of-type {\n        vertical-align: middle;\n    }\n\n    .dataframe tbody tr th {\n        vertical-align: top;\n    }\n\n    .dataframe thead th {\n        text-align: right;\n    }\n</style>\n<table border=\"1\" class=\"dataframe\">\n  <thead>\n    <tr style=\"text-align: right;\">\n      <th></th>\n      <th>id</th>\n    </tr>\n  </thead>\n  <tbody>\n    <tr>\n      <th>0</th>\n      <td>1240976182494908416</td>\n    </tr>\n    <tr>\n      <th>1</th>\n      <td>1238239331879464960</td>\n    </tr>\n    <tr>\n      <th>2</th>\n      <td>1247813175996792834</td>\n    </tr>\n    <tr>\n      <th>3</th>\n      <td>1245317927823233024</td>\n    </tr>\n    <tr>\n      <th>4</th>\n      <td>1241373862756888577</td>\n    </tr>\n  </tbody>\n</table>\n</div>"
     },
     "metadata": {},
     "execution_count": 41
    }
   ],
   "source": [
    "id_list = sorted_df.id\n",
    "df1 = id_list.iloc[0:2000]\n",
    "df1.columns = ['id']\n",
    "df1 = df1.to_frame()\n",
    "df1.head()"
   ]
  },
  {
   "cell_type": "code",
   "execution_count": 42,
   "metadata": {},
   "outputs": [
    {
     "output_type": "stream",
     "name": "stderr",
     "text": [
      "100%|██████████| 20/20 [00:09<00:00,  2.20it/s]\n"
     ]
    }
   ],
   "source": [
    "hate_id = group_list(list(df1.id))\n",
    "df_hate = tweets_request(hate_id)"
   ]
  },
  {
   "cell_type": "code",
   "execution_count": 60,
   "metadata": {},
   "outputs": [
    {
     "output_type": "execute_result",
     "data": {
      "text/plain": [
       "                author_id                created_at  \\\n",
       "0      884055068265164801  2020-03-20T12:19:12.000Z   \n",
       "1     1136405401770106880  2020-03-12T23:03:56.000Z   \n",
       "2               907414928  2020-03-21T14:39:27.000Z   \n",
       "3     1134698470760017920  2020-03-13T22:13:08.000Z   \n",
       "4                35525602  2020-03-19T22:56:27.000Z   \n",
       "...                   ...                       ...   \n",
       "1002  1179030516973985794  2020-04-09T11:04:30.000Z   \n",
       "1003             79188351  2020-04-11T16:49:33.000Z   \n",
       "1004           1537476354  2020-03-30T13:23:34.000Z   \n",
       "1005  1035477817092239362  2020-04-07T19:42:55.000Z   \n",
       "1006  1244582003229339648  2020-04-03T14:21:39.000Z   \n",
       "\n",
       "                                                   text                   id  \n",
       "0     Fuck the ding dongs. Fuck the ching chongs. An...  1240976182494908416  \n",
       "1     Fuck china fuck China fuck China\\nFuck China f...  1238239331879464960  \n",
       "2     I do n’t believe this is eating bats, which is...  1241373862756888577  \n",
       "3     @Peoples_Pundit CCP Wuhan Virus, more Chinese ...  1238588936391290880  \n",
       "4     Dr. Sean Lin said call it what it is - #ChinaV...  1240774162760617984  \n",
       "...                                                 ...                  ...  \n",
       "1002  @jorge_guajardo Do not trust the CCP. They lie...  1248205139577430016  \n",
       "1003  @MarkSimoneNY Quarantine China from the world ...  1249016750852771845  \n",
       "1004  @MarlowNYC BS - Wuhan Doctor Ai Fen has now di...  1244616256583618560  \n",
       "1005  @wadewang85 @ccp_is_loser @IntyMedia @realDona...  1247610829773684744  \n",
       "1006  @FernandoAmandi China must pay the price for c...  1246080426478678016  \n",
       "\n",
       "[1007 rows x 4 columns]"
      ],
      "text/html": "<div>\n<style scoped>\n    .dataframe tbody tr th:only-of-type {\n        vertical-align: middle;\n    }\n\n    .dataframe tbody tr th {\n        vertical-align: top;\n    }\n\n    .dataframe thead th {\n        text-align: right;\n    }\n</style>\n<table border=\"1\" class=\"dataframe\">\n  <thead>\n    <tr style=\"text-align: right;\">\n      <th></th>\n      <th>author_id</th>\n      <th>created_at</th>\n      <th>text</th>\n      <th>id</th>\n    </tr>\n  </thead>\n  <tbody>\n    <tr>\n      <th>0</th>\n      <td>884055068265164801</td>\n      <td>2020-03-20T12:19:12.000Z</td>\n      <td>Fuck the ding dongs. Fuck the ching chongs. An...</td>\n      <td>1240976182494908416</td>\n    </tr>\n    <tr>\n      <th>1</th>\n      <td>1136405401770106880</td>\n      <td>2020-03-12T23:03:56.000Z</td>\n      <td>Fuck china fuck China fuck China\\nFuck China f...</td>\n      <td>1238239331879464960</td>\n    </tr>\n    <tr>\n      <th>2</th>\n      <td>907414928</td>\n      <td>2020-03-21T14:39:27.000Z</td>\n      <td>I do n’t believe this is eating bats, which is...</td>\n      <td>1241373862756888577</td>\n    </tr>\n    <tr>\n      <th>3</th>\n      <td>1134698470760017920</td>\n      <td>2020-03-13T22:13:08.000Z</td>\n      <td>@Peoples_Pundit CCP Wuhan Virus, more Chinese ...</td>\n      <td>1238588936391290880</td>\n    </tr>\n    <tr>\n      <th>4</th>\n      <td>35525602</td>\n      <td>2020-03-19T22:56:27.000Z</td>\n      <td>Dr. Sean Lin said call it what it is - #ChinaV...</td>\n      <td>1240774162760617984</td>\n    </tr>\n    <tr>\n      <th>...</th>\n      <td>...</td>\n      <td>...</td>\n      <td>...</td>\n      <td>...</td>\n    </tr>\n    <tr>\n      <th>1002</th>\n      <td>1179030516973985794</td>\n      <td>2020-04-09T11:04:30.000Z</td>\n      <td>@jorge_guajardo Do not trust the CCP. They lie...</td>\n      <td>1248205139577430016</td>\n    </tr>\n    <tr>\n      <th>1003</th>\n      <td>79188351</td>\n      <td>2020-04-11T16:49:33.000Z</td>\n      <td>@MarkSimoneNY Quarantine China from the world ...</td>\n      <td>1249016750852771845</td>\n    </tr>\n    <tr>\n      <th>1004</th>\n      <td>1537476354</td>\n      <td>2020-03-30T13:23:34.000Z</td>\n      <td>@MarlowNYC BS - Wuhan Doctor Ai Fen has now di...</td>\n      <td>1244616256583618560</td>\n    </tr>\n    <tr>\n      <th>1005</th>\n      <td>1035477817092239362</td>\n      <td>2020-04-07T19:42:55.000Z</td>\n      <td>@wadewang85 @ccp_is_loser @IntyMedia @realDona...</td>\n      <td>1247610829773684744</td>\n    </tr>\n    <tr>\n      <th>1006</th>\n      <td>1244582003229339648</td>\n      <td>2020-04-03T14:21:39.000Z</td>\n      <td>@FernandoAmandi China must pay the price for c...</td>\n      <td>1246080426478678016</td>\n    </tr>\n  </tbody>\n</table>\n<p>1007 rows × 4 columns</p>\n</div>"
     },
     "metadata": {},
     "execution_count": 60
    }
   ],
   "source": [
    "df_hate = df_hate.reset_index(drop=True)\n",
    "df_hate"
   ]
  },
  {
   "cell_type": "code",
   "execution_count": 61,
   "metadata": {},
   "outputs": [],
   "source": [
    "pickle.dump(df_hate, open(\"../pickle/anti_asian_1000.pickle\", \"wb\"))"
   ]
  },
  {
   "source": [
    "# Database 2"
   ],
   "cell_type": "markdown",
   "metadata": {}
  },
  {
   "cell_type": "code",
   "execution_count": 58,
   "metadata": {},
   "outputs": [
    {
     "output_type": "execute_result",
     "data": {
      "text/plain": [
       "                   id   label\n",
       "0  572341498827522049  racism\n",
       "1  572340476503724032  racism\n",
       "2  572334712804384768  racism\n",
       "3  572332655397629952  racism\n",
       "4  575949086055997440  racism"
      ],
      "text/html": "<div>\n<style scoped>\n    .dataframe tbody tr th:only-of-type {\n        vertical-align: middle;\n    }\n\n    .dataframe tbody tr th {\n        vertical-align: top;\n    }\n\n    .dataframe thead th {\n        text-align: right;\n    }\n</style>\n<table border=\"1\" class=\"dataframe\">\n  <thead>\n    <tr style=\"text-align: right;\">\n      <th></th>\n      <th>id</th>\n      <th>label</th>\n    </tr>\n  </thead>\n  <tbody>\n    <tr>\n      <th>0</th>\n      <td>572341498827522049</td>\n      <td>racism</td>\n    </tr>\n    <tr>\n      <th>1</th>\n      <td>572340476503724032</td>\n      <td>racism</td>\n    </tr>\n    <tr>\n      <th>2</th>\n      <td>572334712804384768</td>\n      <td>racism</td>\n    </tr>\n    <tr>\n      <th>3</th>\n      <td>572332655397629952</td>\n      <td>racism</td>\n    </tr>\n    <tr>\n      <th>4</th>\n      <td>575949086055997440</td>\n      <td>racism</td>\n    </tr>\n  </tbody>\n</table>\n</div>"
     },
     "metadata": {},
     "execution_count": 58
    }
   ],
   "source": [
    "df2 = pd.read_csv('../data/hate_add.csv')\n",
    "df2.columns = ['id', 'label']\n",
    "df2.head()"
   ]
  },
  {
   "cell_type": "code",
   "execution_count": 48,
   "metadata": {},
   "outputs": [
    {
     "output_type": "execute_result",
     "data": {
      "text/plain": [
       "none      11559\n",
       "sexism     3378\n",
       "racism     1969\n",
       "Name: label, dtype: int64"
      ]
     },
     "metadata": {},
     "execution_count": 48
    }
   ],
   "source": [
    "df2.label.value_counts()"
   ]
  },
  {
   "cell_type": "code",
   "execution_count": 51,
   "metadata": {},
   "outputs": [],
   "source": [
    "df_racsex = df2[(df2['label']=='racism') | (df2['label']=='sexism')]"
   ]
  },
  {
   "cell_type": "code",
   "execution_count": 55,
   "metadata": {},
   "outputs": [
    {
     "output_type": "stream",
     "name": "stderr",
     "text": [
      "100%|██████████| 54/54 [00:22<00:00,  2.42it/s]\n"
     ]
    }
   ],
   "source": [
    "racsex_id = group_list(list(df_racsex.id))\n",
    "df_rac_sex = tweets_request(racsex_id)"
   ]
  },
  {
   "cell_type": "code",
   "execution_count": 62,
   "metadata": {},
   "outputs": [
    {
     "output_type": "execute_result",
     "data": {
      "text/plain": [
       "                      id   author_id                created_at  \\\n",
       "0     572341498827522049   110114783  2015-03-02T10:23:41.000Z   \n",
       "1     572340476503724032    38650214  2015-03-02T10:19:37.000Z   \n",
       "2     572334712804384768  2587278392  2015-03-02T09:56:43.000Z   \n",
       "3     572332655397629952  2601524623  2015-03-02T09:48:33.000Z   \n",
       "4     446460991396917248   930620467  2014-03-20T01:39:29.000Z   \n",
       "...                  ...         ...                       ...   \n",
       "2736  569990621315919872  2756873076  2015-02-23T22:42:08.000Z   \n",
       "2737  570244879265206272  2756873076  2015-02-24T15:32:28.000Z   \n",
       "2738  571013698111860736  2756873076  2015-02-26T18:27:29.000Z   \n",
       "2739  571304517930774528  2756873076  2015-02-27T13:43:06.000Z   \n",
       "2740  575664315627216896  2756873076  2015-03-11T14:27:22.000Z   \n",
       "\n",
       "                                                   text  \n",
       "0     Drasko they didn't cook half a bird you idiot ...  \n",
       "1     Hopefully someone cooks Drasko in the next ep ...  \n",
       "2     of course you were born in serbia...you're as ...  \n",
       "3     These girls are the equivalent of the irritati...  \n",
       "4     RT @YesYoureRacist: At least you're only a tin...  \n",
       "...                                                 ...  \n",
       "2736  RT @Superjutah: @MT8_9 £34,000 is £9000 above ...  \n",
       "2737  RT @DufresneFrank: “@gabystama: @DufresneFrank...  \n",
       "2738  RT @BoycottBrandy: @ActionFlickDoc this person...  \n",
       "2739  RT @Lyall: Patriarchy™ will expel me if I divu...  \n",
       "2740  RT @AsheSchow: Women’s Studies: Learn how to t...  \n",
       "\n",
       "[2741 rows x 4 columns]"
      ],
      "text/html": "<div>\n<style scoped>\n    .dataframe tbody tr th:only-of-type {\n        vertical-align: middle;\n    }\n\n    .dataframe tbody tr th {\n        vertical-align: top;\n    }\n\n    .dataframe thead th {\n        text-align: right;\n    }\n</style>\n<table border=\"1\" class=\"dataframe\">\n  <thead>\n    <tr style=\"text-align: right;\">\n      <th></th>\n      <th>id</th>\n      <th>author_id</th>\n      <th>created_at</th>\n      <th>text</th>\n    </tr>\n  </thead>\n  <tbody>\n    <tr>\n      <th>0</th>\n      <td>572341498827522049</td>\n      <td>110114783</td>\n      <td>2015-03-02T10:23:41.000Z</td>\n      <td>Drasko they didn't cook half a bird you idiot ...</td>\n    </tr>\n    <tr>\n      <th>1</th>\n      <td>572340476503724032</td>\n      <td>38650214</td>\n      <td>2015-03-02T10:19:37.000Z</td>\n      <td>Hopefully someone cooks Drasko in the next ep ...</td>\n    </tr>\n    <tr>\n      <th>2</th>\n      <td>572334712804384768</td>\n      <td>2587278392</td>\n      <td>2015-03-02T09:56:43.000Z</td>\n      <td>of course you were born in serbia...you're as ...</td>\n    </tr>\n    <tr>\n      <th>3</th>\n      <td>572332655397629952</td>\n      <td>2601524623</td>\n      <td>2015-03-02T09:48:33.000Z</td>\n      <td>These girls are the equivalent of the irritati...</td>\n    </tr>\n    <tr>\n      <th>4</th>\n      <td>446460991396917248</td>\n      <td>930620467</td>\n      <td>2014-03-20T01:39:29.000Z</td>\n      <td>RT @YesYoureRacist: At least you're only a tin...</td>\n    </tr>\n    <tr>\n      <th>...</th>\n      <td>...</td>\n      <td>...</td>\n      <td>...</td>\n      <td>...</td>\n    </tr>\n    <tr>\n      <th>2736</th>\n      <td>569990621315919872</td>\n      <td>2756873076</td>\n      <td>2015-02-23T22:42:08.000Z</td>\n      <td>RT @Superjutah: @MT8_9 £34,000 is £9000 above ...</td>\n    </tr>\n    <tr>\n      <th>2737</th>\n      <td>570244879265206272</td>\n      <td>2756873076</td>\n      <td>2015-02-24T15:32:28.000Z</td>\n      <td>RT @DufresneFrank: “@gabystama: @DufresneFrank...</td>\n    </tr>\n    <tr>\n      <th>2738</th>\n      <td>571013698111860736</td>\n      <td>2756873076</td>\n      <td>2015-02-26T18:27:29.000Z</td>\n      <td>RT @BoycottBrandy: @ActionFlickDoc this person...</td>\n    </tr>\n    <tr>\n      <th>2739</th>\n      <td>571304517930774528</td>\n      <td>2756873076</td>\n      <td>2015-02-27T13:43:06.000Z</td>\n      <td>RT @Lyall: Patriarchy™ will expel me if I divu...</td>\n    </tr>\n    <tr>\n      <th>2740</th>\n      <td>575664315627216896</td>\n      <td>2756873076</td>\n      <td>2015-03-11T14:27:22.000Z</td>\n      <td>RT @AsheSchow: Women’s Studies: Learn how to t...</td>\n    </tr>\n  </tbody>\n</table>\n<p>2741 rows × 4 columns</p>\n</div>"
     },
     "metadata": {},
     "execution_count": 62
    }
   ],
   "source": [
    "df_rac_sex = df_rac_sex.reset_index(drop=True)\n",
    "df_rac_sex"
   ]
  },
  {
   "cell_type": "code",
   "execution_count": 63,
   "metadata": {},
   "outputs": [],
   "source": [
    "pickle.dump(df_rac_sex, open(\"../pickle/rac_sex_2741.pickle\", \"wb\"))"
   ]
  },
  {
   "cell_type": "code",
   "execution_count": null,
   "metadata": {},
   "outputs": [],
   "source": []
  }
 ]
}