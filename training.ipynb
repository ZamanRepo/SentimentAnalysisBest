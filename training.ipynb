{
 "metadata": {
  "language_info": {
   "codemirror_mode": {
    "name": "ipython",
    "version": 3
   },
   "file_extension": ".py",
   "mimetype": "text/x-python",
   "name": "python",
   "nbconvert_exporter": "python",
   "pygments_lexer": "ipython3",
   "version": "3.9.1-final"
  },
  "orig_nbformat": 2,
  "kernelspec": {
   "name": "python3",
   "display_name": "Python 3.9.1 64-bit ('learn-env': conda)",
   "metadata": {
    "interpreter": {
     "hash": "80773cdecc613a186b9eac051636553d2ff0f99c57590601666ed713bd5d0256"
    }
   }
  }
 },
 "nbformat": 4,
 "nbformat_minor": 2,
 "cells": [
  {
   "cell_type": "code",
   "execution_count": 36,
   "metadata": {},
   "outputs": [],
   "source": [
    "import pandas as pd  \n",
    "import numpy as np\n",
    "import matplotlib.pyplot as plt\n",
    "plt.style.use('fivethirtyeight')\n",
    "\n",
    "%matplotlib inline\n",
    "%config InlineBackend.figure_format = 'retina'"
   ]
  },
  {
   "cell_type": "code",
   "execution_count": 201,
   "metadata": {},
   "outputs": [
    {
     "output_type": "execute_result",
     "data": {
      "text/plain": [
       "   Unnamed: 0  count  hate_speech  offensive_language  neither  class  \\\n",
       "0           0      3            0                   0        3      2   \n",
       "1           1      3            0                   3        0      1   \n",
       "2           2      3            0                   3        0      1   \n",
       "3           3      3            0                   2        1      1   \n",
       "4           4      6            0                   6        0      1   \n",
       "\n",
       "                                               tweet  \n",
       "0  !!! RT @mayasolovely: As a woman you shouldn't...  \n",
       "1  !!!!! RT @mleew17: boy dats cold...tyga dwn ba...  \n",
       "2  !!!!!!! RT @UrKindOfBrand Dawg!!!! RT @80sbaby...  \n",
       "3  !!!!!!!!! RT @C_G_Anderson: @viva_based she lo...  \n",
       "4  !!!!!!!!!!!!! RT @ShenikaRoberts: The shit you...  "
      ],
      "text/html": "<div>\n<style scoped>\n    .dataframe tbody tr th:only-of-type {\n        vertical-align: middle;\n    }\n\n    .dataframe tbody tr th {\n        vertical-align: top;\n    }\n\n    .dataframe thead th {\n        text-align: right;\n    }\n</style>\n<table border=\"1\" class=\"dataframe\">\n  <thead>\n    <tr style=\"text-align: right;\">\n      <th></th>\n      <th>Unnamed: 0</th>\n      <th>count</th>\n      <th>hate_speech</th>\n      <th>offensive_language</th>\n      <th>neither</th>\n      <th>class</th>\n      <th>tweet</th>\n    </tr>\n  </thead>\n  <tbody>\n    <tr>\n      <th>0</th>\n      <td>0</td>\n      <td>3</td>\n      <td>0</td>\n      <td>0</td>\n      <td>3</td>\n      <td>2</td>\n      <td>!!! RT @mayasolovely: As a woman you shouldn't...</td>\n    </tr>\n    <tr>\n      <th>1</th>\n      <td>1</td>\n      <td>3</td>\n      <td>0</td>\n      <td>3</td>\n      <td>0</td>\n      <td>1</td>\n      <td>!!!!! RT @mleew17: boy dats cold...tyga dwn ba...</td>\n    </tr>\n    <tr>\n      <th>2</th>\n      <td>2</td>\n      <td>3</td>\n      <td>0</td>\n      <td>3</td>\n      <td>0</td>\n      <td>1</td>\n      <td>!!!!!!! RT @UrKindOfBrand Dawg!!!! RT @80sbaby...</td>\n    </tr>\n    <tr>\n      <th>3</th>\n      <td>3</td>\n      <td>3</td>\n      <td>0</td>\n      <td>2</td>\n      <td>1</td>\n      <td>1</td>\n      <td>!!!!!!!!! RT @C_G_Anderson: @viva_based she lo...</td>\n    </tr>\n    <tr>\n      <th>4</th>\n      <td>4</td>\n      <td>6</td>\n      <td>0</td>\n      <td>6</td>\n      <td>0</td>\n      <td>1</td>\n      <td>!!!!!!!!!!!!! RT @ShenikaRoberts: The shit you...</td>\n    </tr>\n  </tbody>\n</table>\n</div>"
     },
     "metadata": {},
     "execution_count": 201
    }
   ],
   "source": [
    "df = pd.read_csv(\"data/labeled_data.csv\")\n",
    "df.head()"
   ]
  },
  {
   "cell_type": "code",
   "execution_count": 202,
   "metadata": {},
   "outputs": [],
   "source": [
    "df = df.drop(\"Unnamed: 0\", axis=1)"
   ]
  },
  {
   "cell_type": "code",
   "execution_count": 203,
   "metadata": {},
   "outputs": [
    {
     "output_type": "execute_result",
     "data": {
      "text/plain": [
       "   count  hate_speech  offensive_language  neither  class  \\\n",
       "0      3            0                   0        3      2   \n",
       "1      3            0                   3        0      1   \n",
       "2      3            0                   3        0      1   \n",
       "3      3            0                   2        1      1   \n",
       "4      6            0                   6        0      1   \n",
       "\n",
       "                                               tweet  \n",
       "0  !!! RT @mayasolovely: As a woman you shouldn't...  \n",
       "1  !!!!! RT @mleew17: boy dats cold...tyga dwn ba...  \n",
       "2  !!!!!!! RT @UrKindOfBrand Dawg!!!! RT @80sbaby...  \n",
       "3  !!!!!!!!! RT @C_G_Anderson: @viva_based she lo...  \n",
       "4  !!!!!!!!!!!!! RT @ShenikaRoberts: The shit you...  "
      ],
      "text/html": "<div>\n<style scoped>\n    .dataframe tbody tr th:only-of-type {\n        vertical-align: middle;\n    }\n\n    .dataframe tbody tr th {\n        vertical-align: top;\n    }\n\n    .dataframe thead th {\n        text-align: right;\n    }\n</style>\n<table border=\"1\" class=\"dataframe\">\n  <thead>\n    <tr style=\"text-align: right;\">\n      <th></th>\n      <th>count</th>\n      <th>hate_speech</th>\n      <th>offensive_language</th>\n      <th>neither</th>\n      <th>class</th>\n      <th>tweet</th>\n    </tr>\n  </thead>\n  <tbody>\n    <tr>\n      <th>0</th>\n      <td>3</td>\n      <td>0</td>\n      <td>0</td>\n      <td>3</td>\n      <td>2</td>\n      <td>!!! RT @mayasolovely: As a woman you shouldn't...</td>\n    </tr>\n    <tr>\n      <th>1</th>\n      <td>3</td>\n      <td>0</td>\n      <td>3</td>\n      <td>0</td>\n      <td>1</td>\n      <td>!!!!! RT @mleew17: boy dats cold...tyga dwn ba...</td>\n    </tr>\n    <tr>\n      <th>2</th>\n      <td>3</td>\n      <td>0</td>\n      <td>3</td>\n      <td>0</td>\n      <td>1</td>\n      <td>!!!!!!! RT @UrKindOfBrand Dawg!!!! RT @80sbaby...</td>\n    </tr>\n    <tr>\n      <th>3</th>\n      <td>3</td>\n      <td>0</td>\n      <td>2</td>\n      <td>1</td>\n      <td>1</td>\n      <td>!!!!!!!!! RT @C_G_Anderson: @viva_based she lo...</td>\n    </tr>\n    <tr>\n      <th>4</th>\n      <td>6</td>\n      <td>0</td>\n      <td>6</td>\n      <td>0</td>\n      <td>1</td>\n      <td>!!!!!!!!!!!!! RT @ShenikaRoberts: The shit you...</td>\n    </tr>\n  </tbody>\n</table>\n</div>"
     },
     "metadata": {},
     "execution_count": 203
    }
   ],
   "source": [
    "df.head()"
   ]
  },
  {
   "cell_type": "code",
   "execution_count": 204,
   "metadata": {},
   "outputs": [
    {
     "output_type": "execute_result",
     "data": {
      "text/plain": [
       "   count  hate  offensive  neither  class  \\\n",
       "0      3     0          0        3      2   \n",
       "1      3     0          3        0      1   \n",
       "2      3     0          3        0      1   \n",
       "3      3     0          2        1      1   \n",
       "4      6     0          6        0      1   \n",
       "\n",
       "                                               tweet  \n",
       "0  !!! RT @mayasolovely: As a woman you shouldn't...  \n",
       "1  !!!!! RT @mleew17: boy dats cold...tyga dwn ba...  \n",
       "2  !!!!!!! RT @UrKindOfBrand Dawg!!!! RT @80sbaby...  \n",
       "3  !!!!!!!!! RT @C_G_Anderson: @viva_based she lo...  \n",
       "4  !!!!!!!!!!!!! RT @ShenikaRoberts: The shit you...  "
      ],
      "text/html": "<div>\n<style scoped>\n    .dataframe tbody tr th:only-of-type {\n        vertical-align: middle;\n    }\n\n    .dataframe tbody tr th {\n        vertical-align: top;\n    }\n\n    .dataframe thead th {\n        text-align: right;\n    }\n</style>\n<table border=\"1\" class=\"dataframe\">\n  <thead>\n    <tr style=\"text-align: right;\">\n      <th></th>\n      <th>count</th>\n      <th>hate</th>\n      <th>offensive</th>\n      <th>neither</th>\n      <th>class</th>\n      <th>tweet</th>\n    </tr>\n  </thead>\n  <tbody>\n    <tr>\n      <th>0</th>\n      <td>3</td>\n      <td>0</td>\n      <td>0</td>\n      <td>3</td>\n      <td>2</td>\n      <td>!!! RT @mayasolovely: As a woman you shouldn't...</td>\n    </tr>\n    <tr>\n      <th>1</th>\n      <td>3</td>\n      <td>0</td>\n      <td>3</td>\n      <td>0</td>\n      <td>1</td>\n      <td>!!!!! RT @mleew17: boy dats cold...tyga dwn ba...</td>\n    </tr>\n    <tr>\n      <th>2</th>\n      <td>3</td>\n      <td>0</td>\n      <td>3</td>\n      <td>0</td>\n      <td>1</td>\n      <td>!!!!!!! RT @UrKindOfBrand Dawg!!!! RT @80sbaby...</td>\n    </tr>\n    <tr>\n      <th>3</th>\n      <td>3</td>\n      <td>0</td>\n      <td>2</td>\n      <td>1</td>\n      <td>1</td>\n      <td>!!!!!!!!! RT @C_G_Anderson: @viva_based she lo...</td>\n    </tr>\n    <tr>\n      <th>4</th>\n      <td>6</td>\n      <td>0</td>\n      <td>6</td>\n      <td>0</td>\n      <td>1</td>\n      <td>!!!!!!!!!!!!! RT @ShenikaRoberts: The shit you...</td>\n    </tr>\n  </tbody>\n</table>\n</div>"
     },
     "metadata": {},
     "execution_count": 204
    }
   ],
   "source": [
    "df = df.rename(columns={\"hate_speech\": 'hate', \"offensive_language\": 'offensive'})\n",
    "df.head()"
   ]
  },
  {
   "cell_type": "code",
   "execution_count": 205,
   "metadata": {},
   "outputs": [],
   "source": [
    "pd.set_option(\"display.max_rows\", 200)\n",
    "pd.set_option(\"display.max_columns\", 200)"
   ]
  },
  {
   "cell_type": "code",
   "execution_count": 206,
   "metadata": {},
   "outputs": [
    {
     "output_type": "execute_result",
     "data": {
      "text/plain": [
       "0     !!! RT @mayasolovely: As a woman you shouldn't...\n",
       "1     !!!!! RT @mleew17: boy dats cold...tyga dwn ba...\n",
       "2     !!!!!!! RT @UrKindOfBrand Dawg!!!! RT @80sbaby...\n",
       "3     !!!!!!!!! RT @C_G_Anderson: @viva_based she lo...\n",
       "4     !!!!!!!!!!!!! RT @ShenikaRoberts: The shit you...\n",
       "5     !!!!!!!!!!!!!!!!!!\"@T_Madison_x: The shit just...\n",
       "6     !!!!!!\"@__BrighterDays: I can not just sit up ...\n",
       "7     !!!!&#8220;@selfiequeenbri: cause I'm tired of...\n",
       "8     \" &amp; you might not get ya bitch back &amp; ...\n",
       "9     \" @rhythmixx_ :hobbies include: fighting Maria...\n",
       "10    \" Keeks is a bitch she curves everyone \" lol I...\n",
       "11                   \" Murda Gang bitch its Gang Land \"\n",
       "12    \" So hoes that smoke are losers ? \" yea ... go...\n",
       "13        \" bad bitches is the only thing that i like \"\n",
       "14                              \" bitch get up off me \"\n",
       "15                      \" bitch nigga miss me with it \"\n",
       "16                               \" bitch plz whatever \"\n",
       "17                            \" bitch who do you love \"\n",
       "18                   \" bitches get cut off everyday B \"\n",
       "19                   \" black bottle &amp; a bad bitch \"\n",
       "20                 \" broke bitch cant tell me nothing \"\n",
       "21                      \" cancel that bitch like Nino \"\n",
       "22              \" cant you see these hoes wont change \"\n",
       "23    \" fuck no that bitch dont even suck dick \" &#1...\n",
       "24    \" got ya bitch tip toeing on my hardwood floor...\n",
       "25       \" her pussy lips like Heaven doors \" &#128524;\n",
       "26                         \" hoe what its hitting for \"\n",
       "27    \" i met that pussy on Ocean Dr . i gave that p...\n",
       "28       \" i need a trippy bitch who fuck on Hennessy \"\n",
       "29    \" i spend my money how i want bitch its my bus...\n",
       "Name: tweet, dtype: object"
      ]
     },
     "metadata": {},
     "execution_count": 206
    }
   ],
   "source": [
    "df.tweet.head(30)"
   ]
  },
  {
   "cell_type": "code",
   "execution_count": 207,
   "metadata": {},
   "outputs": [
    {
     "output_type": "stream",
     "name": "stdout",
     "text": [
      "                                                   tweet  word_ct\n0      !!! RT @mayasolovely: As a woman you shouldn't...       25\n1      !!!!! RT @mleew17: boy dats cold...tyga dwn ba...       16\n2      !!!!!!! RT @UrKindOfBrand Dawg!!!! RT @80sbaby...       21\n3      !!!!!!!!! RT @C_G_Anderson: @viva_based she lo...        9\n4      !!!!!!!!!!!!! RT @ShenikaRoberts: The shit you...       26\n...                                                  ...      ...\n24778  you's a muthaf***in lie &#8220;@LifeAsKing: @2...       19\n24779  you've gone and broke the wrong heart baby, an...       13\n24780  young buck wanna eat!!.. dat nigguh like I ain...       13\n24781              youu got wild bitches tellin you lies        7\n24782  ~~Ruffled | Ntac Eileen Dahlia - Beautiful col...       18\n\n[24783 rows x 2 columns]\n"
     ]
    }
   ],
   "source": [
    "def num_of_words(df, col):\n",
    "    df['word_ct'] = df[col].apply(lambda x: len(str(x).split(\" \")))\n",
    "    print(df[[col, 'word_ct']])\n",
    "\n",
    "num_of_words(df, 'tweet')"
   ]
  },
  {
   "cell_type": "code",
   "execution_count": 208,
   "metadata": {},
   "outputs": [
    {
     "output_type": "execute_result",
     "data": {
      "text/plain": [
       "9     1398\n",
       "10    1391\n",
       "7     1358\n",
       "11    1340\n",
       "8     1335\n",
       "12    1270\n",
       "13    1232\n",
       "6     1095\n",
       "14    1091\n",
       "16    1063\n",
       "15    1033\n",
       "18    1023\n",
       "5      957\n",
       "17     925\n",
       "19     856\n",
       "21     839\n",
       "20     835\n",
       "22     810\n",
       "23     778\n",
       "4      725\n",
       "24     668\n",
       "25     617\n",
       "26     512\n",
       "3      455\n",
       "27     396\n",
       "28     247\n",
       "2      210\n",
       "29     169\n",
       "30      81\n",
       "31      43\n",
       "32      17\n",
       "1        8\n",
       "33       5\n",
       "36       1\n",
       "Name: word_ct, dtype: int64"
      ]
     },
     "metadata": {},
     "execution_count": 208
    }
   ],
   "source": [
    "df.word_ct.value_counts().sort_values(ascending=False)"
   ]
  },
  {
   "cell_type": "code",
   "execution_count": 209,
   "metadata": {},
   "outputs": [
    {
     "output_type": "stream",
     "name": "stdout",
     "text": [
      "                                                   tweet  char_ct\n0      !!! RT @mayasolovely: As a woman you shouldn't...      140\n1      !!!!! RT @mleew17: boy dats cold...tyga dwn ba...       85\n2      !!!!!!! RT @UrKindOfBrand Dawg!!!! RT @80sbaby...      120\n3      !!!!!!!!! RT @C_G_Anderson: @viva_based she lo...       62\n4      !!!!!!!!!!!!! RT @ShenikaRoberts: The shit you...      137\n...                                                  ...      ...\n24778  you's a muthaf***in lie &#8220;@LifeAsKing: @2...      146\n24779  you've gone and broke the wrong heart baby, an...       70\n24780  young buck wanna eat!!.. dat nigguh like I ain...       67\n24781              youu got wild bitches tellin you lies       37\n24782  ~~Ruffled | Ntac Eileen Dahlia - Beautiful col...      127\n\n[24783 rows x 2 columns]\n"
     ]
    }
   ],
   "source": [
    "def num_of_chars(df, col):\n",
    "    df['char_ct'] = df[col].str.len()\n",
    "    print(df[[col, 'char_ct']])\n",
    "\n",
    "num_of_chars(df, 'tweet')"
   ]
  },
  {
   "cell_type": "code",
   "execution_count": 210,
   "metadata": {},
   "outputs": [
    {
     "output_type": "execute_result",
     "data": {
      "text/plain": [
       "146    794\n",
       "140    423\n",
       "139    277\n",
       "64     246\n",
       "58     245\n",
       "      ... \n",
       "311      1\n",
       "343      1\n",
       "455      1\n",
       "255      1\n",
       "447      1\n",
       "Name: char_ct, Length: 250, dtype: int64"
      ]
     },
     "metadata": {},
     "execution_count": 210
    }
   ],
   "source": [
    "df.char_ct.value_counts().sort_values(ascending=False)"
   ]
  },
  {
   "cell_type": "code",
   "execution_count": 211,
   "metadata": {},
   "outputs": [
    {
     "output_type": "stream",
     "name": "stdout",
     "text": [
      "                                               tweet   avg_wrd\n0  !!! RT @mayasolovely: As a woman you shouldn't...  4.640000\n1  !!!!! RT @mleew17: boy dats cold...tyga dwn ba...  4.375000\n2  !!!!!!! RT @UrKindOfBrand Dawg!!!! RT @80sbaby...  4.761905\n3  !!!!!!!!! RT @C_G_Anderson: @viva_based she lo...  6.000000\n4  !!!!!!!!!!!!! RT @ShenikaRoberts: The shit you...  4.307692\n"
     ]
    }
   ],
   "source": [
    "def avg_word(sentence):\n",
    "    words = sentence.split()\n",
    "    return (sum(len(word) for word in words)/len(words))\n",
    "\n",
    "def avg_word_length(df, col):\n",
    "    df['avg_wrd'] = df[col].apply(lambda x: avg_word(x))\n",
    "    print(df[[col, 'avg_wrd']].head())\n",
    "\n",
    "avg_word_length(df, 'tweet')"
   ]
  },
  {
   "cell_type": "code",
   "execution_count": null,
   "metadata": {},
   "outputs": [],
   "source": []
  },
  {
   "cell_type": "code",
   "execution_count": 212,
   "metadata": {},
   "outputs": [],
   "source": [
    "import nltk\n",
    "from nltk.corpus import stopwords\n",
    "stop = stopwords.words('english')"
   ]
  },
  {
   "cell_type": "code",
   "execution_count": 213,
   "metadata": {},
   "outputs": [
    {
     "output_type": "stream",
     "name": "stdout",
     "text": [
      "                                               tweet  stopwords\n0  !!! RT @mayasolovely: As a woman you shouldn't...         11\n1  !!!!! RT @mleew17: boy dats cold...tyga dwn ba...          3\n2  !!!!!!! RT @UrKindOfBrand Dawg!!!! RT @80sbaby...          6\n3  !!!!!!!!! RT @C_G_Anderson: @viva_based she lo...          2\n4  !!!!!!!!!!!!! RT @ShenikaRoberts: The shit you...         12\n"
     ]
    }
   ],
   "source": [
    "def stop_words(df, col):\n",
    "    df['stopwords'] = df[col].apply(lambda x: len([x for x in x.split() if x in stop]))\n",
    "    print(df[[col, 'stopwords']].head())\n",
    "\n",
    "stop_words(df, 'tweet')"
   ]
  },
  {
   "cell_type": "code",
   "execution_count": 214,
   "metadata": {},
   "outputs": [
    {
     "output_type": "stream",
     "name": "stdout",
     "text": [
      "                                               tweet  hashtags\n0  !!! RT @mayasolovely: As a woman you shouldn't...         0\n1  !!!!! RT @mleew17: boy dats cold...tyga dwn ba...         0\n2  !!!!!!! RT @UrKindOfBrand Dawg!!!! RT @80sbaby...         0\n3  !!!!!!!!! RT @C_G_Anderson: @viva_based she lo...         0\n4  !!!!!!!!!!!!! RT @ShenikaRoberts: The shit you...         0\n"
     ]
    }
   ],
   "source": [
    "def hash_tags(df, col):\n",
    "    df['hashtags'] = df[col].apply(lambda x: len([x for x in x.split() if x.startswith('#')]))\n",
    "    print(df[[col, 'hashtags']].head())\n",
    "\n",
    "hash_tags(df, 'tweet')"
   ]
  },
  {
   "cell_type": "code",
   "execution_count": 215,
   "metadata": {},
   "outputs": [
    {
     "output_type": "execute_result",
     "data": {
      "text/plain": [
       "0     22719\n",
       "1      1422\n",
       "2       384\n",
       "3        99\n",
       "4        82\n",
       "5        31\n",
       "6        16\n",
       "7        14\n",
       "8         8\n",
       "9         4\n",
       "11        3\n",
       "10        1\n",
       "Name: hashtags, dtype: int64"
      ]
     },
     "metadata": {},
     "execution_count": 215
    }
   ],
   "source": [
    "df.hashtags.value_counts()"
   ]
  },
  {
   "cell_type": "code",
   "execution_count": 216,
   "metadata": {},
   "outputs": [
    {
     "output_type": "stream",
     "name": "stdout",
     "text": [
      "                                               tweet  numerics\n0  !!! RT @mayasolovely: As a woman you shouldn't...         0\n1  !!!!! RT @mleew17: boy dats cold...tyga dwn ba...         0\n2  !!!!!!! RT @UrKindOfBrand Dawg!!!! RT @80sbaby...         0\n3  !!!!!!!!! RT @C_G_Anderson: @viva_based she lo...         0\n4  !!!!!!!!!!!!! RT @ShenikaRoberts: The shit you...         0\n"
     ]
    }
   ],
   "source": [
    "def num_numerics(df, col):\n",
    "    df['numerics'] = df[col].apply(lambda x: len([x for x in x.split() if x.isdigit()]))\n",
    "    print(df[[col, 'numerics']].head())\n",
    "\n",
    "num_numerics(df, 'tweet')"
   ]
  },
  {
   "cell_type": "code",
   "execution_count": 217,
   "metadata": {},
   "outputs": [
    {
     "output_type": "execute_result",
     "data": {
      "text/plain": [
       "0    23634\n",
       "1      961\n",
       "2      159\n",
       "3       20\n",
       "4        7\n",
       "5        2\n",
       "Name: numerics, dtype: int64"
      ]
     },
     "metadata": {},
     "execution_count": 217
    }
   ],
   "source": [
    "df.numerics.value_counts()"
   ]
  },
  {
   "cell_type": "code",
   "execution_count": 218,
   "metadata": {},
   "outputs": [
    {
     "output_type": "stream",
     "name": "stdout",
     "text": [
      "                                               tweet  callouts\n0  !!! RT @mayasolovely: As a woman you shouldn't...         1\n1  !!!!! RT @mleew17: boy dats cold...tyga dwn ba...         1\n2  !!!!!!! RT @UrKindOfBrand Dawg!!!! RT @80sbaby...         2\n3  !!!!!!!!! RT @C_G_Anderson: @viva_based she lo...         2\n4  !!!!!!!!!!!!! RT @ShenikaRoberts: The shit you...         1\n"
     ]
    }
   ],
   "source": [
    "def num_callouts(df, col):\n",
    "    df['callouts'] = df[col].apply(lambda x: len([x for x in x.split() if x.startswith('@')]))\n",
    "    print(df[[col, 'callouts']].head())\n",
    "\n",
    "num_callouts(df, 'tweet')"
   ]
  },
  {
   "cell_type": "code",
   "execution_count": 219,
   "metadata": {},
   "outputs": [
    {
     "output_type": "execute_result",
     "data": {
      "text/plain": [
       "0     11680\n",
       "1     10355\n",
       "2      1982\n",
       "3       537\n",
       "4       135\n",
       "5        42\n",
       "6        37\n",
       "7         8\n",
       "9         3\n",
       "8         3\n",
       "10        1\n",
       "Name: callouts, dtype: int64"
      ]
     },
     "metadata": {},
     "execution_count": 219
    }
   ],
   "source": [
    "df.callouts.value_counts()"
   ]
  },
  {
   "cell_type": "code",
   "execution_count": null,
   "metadata": {},
   "outputs": [],
   "source": []
  },
  {
   "cell_type": "code",
   "execution_count": 220,
   "metadata": {},
   "outputs": [
    {
     "output_type": "execute_result",
     "data": {
      "text/plain": [
       "   count  hate  offensive  neither  class  \\\n",
       "0      3     0          0        3      2   \n",
       "1      3     0          3        0      1   \n",
       "2      3     0          3        0      1   \n",
       "3      3     0          2        1      1   \n",
       "4      6     0          6        0      1   \n",
       "\n",
       "                                               tweet  word_ct  char_ct  \\\n",
       "0  !!! RT @mayasolovely: As a woman you shouldn't...       25      140   \n",
       "1  !!!!! RT @mleew17: boy dats cold...tyga dwn ba...       16       85   \n",
       "2  !!!!!!! RT @UrKindOfBrand Dawg!!!! RT @80sbaby...       21      120   \n",
       "3  !!!!!!!!! RT @C_G_Anderson: @viva_based she lo...        9       62   \n",
       "4  !!!!!!!!!!!!! RT @ShenikaRoberts: The shit you...       26      137   \n",
       "\n",
       "    avg_wrd  stopwords  hashtags  numerics  callouts  \n",
       "0  4.640000         11         0         0         1  \n",
       "1  4.375000          3         0         0         1  \n",
       "2  4.761905          6         0         0         2  \n",
       "3  6.000000          2         0         0         2  \n",
       "4  4.307692         12         0         0         1  "
      ],
      "text/html": "<div>\n<style scoped>\n    .dataframe tbody tr th:only-of-type {\n        vertical-align: middle;\n    }\n\n    .dataframe tbody tr th {\n        vertical-align: top;\n    }\n\n    .dataframe thead th {\n        text-align: right;\n    }\n</style>\n<table border=\"1\" class=\"dataframe\">\n  <thead>\n    <tr style=\"text-align: right;\">\n      <th></th>\n      <th>count</th>\n      <th>hate</th>\n      <th>offensive</th>\n      <th>neither</th>\n      <th>class</th>\n      <th>tweet</th>\n      <th>word_ct</th>\n      <th>char_ct</th>\n      <th>avg_wrd</th>\n      <th>stopwords</th>\n      <th>hashtags</th>\n      <th>numerics</th>\n      <th>callouts</th>\n    </tr>\n  </thead>\n  <tbody>\n    <tr>\n      <th>0</th>\n      <td>3</td>\n      <td>0</td>\n      <td>0</td>\n      <td>3</td>\n      <td>2</td>\n      <td>!!! RT @mayasolovely: As a woman you shouldn't...</td>\n      <td>25</td>\n      <td>140</td>\n      <td>4.640000</td>\n      <td>11</td>\n      <td>0</td>\n      <td>0</td>\n      <td>1</td>\n    </tr>\n    <tr>\n      <th>1</th>\n      <td>3</td>\n      <td>0</td>\n      <td>3</td>\n      <td>0</td>\n      <td>1</td>\n      <td>!!!!! RT @mleew17: boy dats cold...tyga dwn ba...</td>\n      <td>16</td>\n      <td>85</td>\n      <td>4.375000</td>\n      <td>3</td>\n      <td>0</td>\n      <td>0</td>\n      <td>1</td>\n    </tr>\n    <tr>\n      <th>2</th>\n      <td>3</td>\n      <td>0</td>\n      <td>3</td>\n      <td>0</td>\n      <td>1</td>\n      <td>!!!!!!! RT @UrKindOfBrand Dawg!!!! RT @80sbaby...</td>\n      <td>21</td>\n      <td>120</td>\n      <td>4.761905</td>\n      <td>6</td>\n      <td>0</td>\n      <td>0</td>\n      <td>2</td>\n    </tr>\n    <tr>\n      <th>3</th>\n      <td>3</td>\n      <td>0</td>\n      <td>2</td>\n      <td>1</td>\n      <td>1</td>\n      <td>!!!!!!!!! RT @C_G_Anderson: @viva_based she lo...</td>\n      <td>9</td>\n      <td>62</td>\n      <td>6.000000</td>\n      <td>2</td>\n      <td>0</td>\n      <td>0</td>\n      <td>2</td>\n    </tr>\n    <tr>\n      <th>4</th>\n      <td>6</td>\n      <td>0</td>\n      <td>6</td>\n      <td>0</td>\n      <td>1</td>\n      <td>!!!!!!!!!!!!! RT @ShenikaRoberts: The shit you...</td>\n      <td>26</td>\n      <td>137</td>\n      <td>4.307692</td>\n      <td>12</td>\n      <td>0</td>\n      <td>0</td>\n      <td>1</td>\n    </tr>\n  </tbody>\n</table>\n</div>"
     },
     "metadata": {},
     "execution_count": 220
    }
   ],
   "source": [
    "df2 = df.copy()\n",
    "df2.head()"
   ]
  },
  {
   "cell_type": "code",
   "execution_count": 221,
   "metadata": {},
   "outputs": [
    {
     "output_type": "execute_result",
     "data": {
      "text/plain": [
       "0    !!! RT @mayasolovely: As a woman you shouldn't...\n",
       "1    !!!!! RT @mleew17: boy dats cold...tyga dwn ba...\n",
       "2    !!!!!!! RT @UrKindOfBrand Dawg!!!! RT @80sbaby...\n",
       "3    !!!!!!!!! RT @C_G_Anderson: @viva_based she lo...\n",
       "4    !!!!!!!!!!!!! RT @ShenikaRoberts: The shit you...\n",
       "Name: tweet, dtype: object"
      ]
     },
     "metadata": {},
     "execution_count": 221
    }
   ],
   "source": [
    "tw = df.tweet\n",
    "tw.head()"
   ]
  },
  {
   "cell_type": "code",
   "execution_count": 222,
   "metadata": {},
   "outputs": [
    {
     "output_type": "execute_result",
     "data": {
      "text/plain": [
       "0                    [@mayasolovely:]\n",
       "1                         [@mleew17:]\n",
       "2    [@UrKindOfBrand, @80sbaby4life:]\n",
       "3       [@C_G_Anderson:, @viva_based]\n",
       "4                  [@ShenikaRoberts:]\n",
       "Name: callouts, dtype: object"
      ]
     },
     "metadata": {},
     "execution_count": 222
    }
   ],
   "source": [
    "import re\n",
    "\n",
    "df2['callouts'] = df2.tweet.apply(lambda x: re.findall(r'@[\\S]+', str(x)))\n",
    "df2['callouts'].head()"
   ]
  },
  {
   "cell_type": "code",
   "execution_count": 223,
   "metadata": {},
   "outputs": [
    {
     "output_type": "execute_result",
     "data": {
      "text/plain": [
       "0                      '@mayasolovely:'\n",
       "1                           '@mleew17:'\n",
       "2    '@UrKindOfBrand', '@80sbaby4life:'\n",
       "3       '@C_G_Anderson:', '@viva_based'\n",
       "4                    '@ShenikaRoberts:'\n",
       "Name: callouts, dtype: object"
      ]
     },
     "metadata": {},
     "execution_count": 223
    }
   ],
   "source": [
    "df2.callouts = df2.callouts.apply(lambda x: str(x)[1:-1])\n",
    "df2.callouts.head()"
   ]
  },
  {
   "cell_type": "code",
   "execution_count": 224,
   "metadata": {},
   "outputs": [
    {
     "output_type": "execute_result",
     "data": {
      "text/plain": [
       "0     !!! RT  As a woman you shouldn't complain abou...\n",
       "1     !!!!! RT  boy dats cold...tyga dwn bad for cuf...\n",
       "2     !!!!!!! RT  Dawg!!!! RT  You ever fuck a bitch...\n",
       "3                 !!!!!!!!! RT   she look like a tranny\n",
       "4     !!!!!!!!!!!!! RT  The shit you hear about me m...\n",
       "5     !!!!!!!!!!!!!!!!!!\" The shit just blows me..cl...\n",
       "6     !!!!!!\" I can not just sit up and HATE on anot...\n",
       "7     !!!!&#8220; cause I'm tired of you big bitches...\n",
       "8     \" &amp; you might not get ya bitch back &amp; ...\n",
       "9        \"  :hobbies include: fighting Mariam\"\\n\\nbitch\n",
       "10    \" Keeks is a bitch she curves everyone \" lol I...\n",
       "11                   \" Murda Gang bitch its Gang Land \"\n",
       "12    \" So hoes that smoke are losers ? \" yea ... go...\n",
       "13        \" bad bitches is the only thing that i like \"\n",
       "14                              \" bitch get up off me \"\n",
       "15                      \" bitch nigga miss me with it \"\n",
       "16                               \" bitch plz whatever \"\n",
       "17                            \" bitch who do you love \"\n",
       "18                   \" bitches get cut off everyday B \"\n",
       "19                   \" black bottle &amp; a bad bitch \"\n",
       "20                 \" broke bitch cant tell me nothing \"\n",
       "21                      \" cancel that bitch like Nino \"\n",
       "22              \" cant you see these hoes wont change \"\n",
       "23    \" fuck no that bitch dont even suck dick \" &#1...\n",
       "24    \" got ya bitch tip toeing on my hardwood floor...\n",
       "25       \" her pussy lips like Heaven doors \" &#128524;\n",
       "26                         \" hoe what its hitting for \"\n",
       "27    \" i met that pussy on Ocean Dr . i gave that p...\n",
       "28       \" i need a trippy bitch who fuck on Hennessy \"\n",
       "29    \" i spend my money how i want bitch its my bus...\n",
       "Name: tweet, dtype: object"
      ]
     },
     "metadata": {},
     "execution_count": 224
    }
   ],
   "source": [
    "df2.tweet = df2.tweet.apply(lambda x: re.sub(r'@[\\S]+', '', str(x)))\n",
    "df2.tweet.head(30)"
   ]
  },
  {
   "cell_type": "code",
   "execution_count": 225,
   "metadata": {},
   "outputs": [
    {
     "output_type": "execute_result",
     "data": {
      "text/plain": [
       "0       [&amp;]\n",
       "1            []\n",
       "2            []\n",
       "3            []\n",
       "4    [&#57361;]\n",
       "Name: emojis, dtype: object"
      ]
     },
     "metadata": {},
     "execution_count": 225
    }
   ],
   "source": [
    "df2['emojis'] = df2.tweet.apply(lambda x: re.findall(r'&[\\S]+?;', str(x)))\n",
    "df2.emojis.head()"
   ]
  },
  {
   "cell_type": "code",
   "execution_count": 226,
   "metadata": {},
   "outputs": [
    {
     "output_type": "execute_result",
     "data": {
      "text/plain": [
       "0       '&amp;'\n",
       "1              \n",
       "2              \n",
       "3              \n",
       "4    '&#57361;'\n",
       "Name: emojis, dtype: object"
      ]
     },
     "metadata": {},
     "execution_count": 226
    }
   ],
   "source": [
    "df2.emojis = df2.emojis.apply(lambda x: str(x)[1:-1])\n",
    "df2.emojis.head()"
   ]
  },
  {
   "cell_type": "code",
   "execution_count": 227,
   "metadata": {},
   "outputs": [
    {
     "output_type": "execute_result",
     "data": {
      "text/plain": [
       "                                                                                                                                             18164\n",
       "'&#8230;'                                                                                                                                      838\n",
       "'&#8220;', '&#8221;'                                                                                                                           674\n",
       "'&amp;'                                                                                                                                        430\n",
       "'&#128514;'                                                                                                                                    220\n",
       "                                                                                                                                             ...  \n",
       "'&#128525;', '&#128166;'                                                                                                                         1\n",
       "'&#8220;', '&#8221;', '&#128553;', '&#128557;'                                                                                                   1\n",
       "'&#8220;', '&#128075;', '&#128075;', '&#128075;', '&#128075;', '&#128514;', '&#128540;', '&#8221;', '&#128553;', '&#128530;', '&#128514;'        1\n",
       "'&#58385;', '&#58407;'                                                                                                                           1\n",
       "'&#128582;'                                                                                                                                      1\n",
       "Name: emojis, Length: 2093, dtype: int64"
      ]
     },
     "metadata": {},
     "execution_count": 227
    }
   ],
   "source": [
    "df2.emojis.value_counts()"
   ]
  },
  {
   "cell_type": "code",
   "execution_count": 228,
   "metadata": {},
   "outputs": [
    {
     "output_type": "execute_result",
     "data": {
      "text/plain": [
       "0     !!! RT  As a woman you shouldn't complain abou...\n",
       "1     !!!!! RT  boy dats cold...tyga dwn bad for cuf...\n",
       "2     !!!!!!! RT  Dawg!!!! RT  You ever fuck a bitch...\n",
       "3                 !!!!!!!!! RT   she look like a tranny\n",
       "4     !!!!!!!!!!!!! RT  The shit you hear about me m...\n",
       "5     !!!!!!!!!!!!!!!!!!\" The shit just blows me..cl...\n",
       "6     !!!!!!\" I can not just sit up and HATE on anot...\n",
       "7     !!!! cause I'm tired of you big bitches coming...\n",
       "8      \"  you might not get ya bitch back  thats that \"\n",
       "9        \"  :hobbies include: fighting Mariam\"\\n\\nbitch\n",
       "10    \" Keeks is a bitch she curves everyone \" lol I...\n",
       "11                   \" Murda Gang bitch its Gang Land \"\n",
       "12    \" So hoes that smoke are losers ? \" yea ... go...\n",
       "13        \" bad bitches is the only thing that i like \"\n",
       "14                              \" bitch get up off me \"\n",
       "15                      \" bitch nigga miss me with it \"\n",
       "16                               \" bitch plz whatever \"\n",
       "17                            \" bitch who do you love \"\n",
       "18                   \" bitches get cut off everyday B \"\n",
       "19                        \" black bottle  a bad bitch \"\n",
       "20                 \" broke bitch cant tell me nothing \"\n",
       "21                      \" cancel that bitch like Nino \"\n",
       "22              \" cant you see these hoes wont change \"\n",
       "23    \" fuck no that bitch dont even suck dick \"  th...\n",
       "24    \" got ya bitch tip toeing on my hardwood floor...\n",
       "25                \" her pussy lips like Heaven doors \" \n",
       "26                         \" hoe what its hitting for \"\n",
       "27    \" i met that pussy on Ocean Dr . i gave that p...\n",
       "28       \" i need a trippy bitch who fuck on Hennessy \"\n",
       "29    \" i spend my money how i want bitch its my bus...\n",
       "Name: tweet, dtype: object"
      ]
     },
     "metadata": {},
     "execution_count": 228
    }
   ],
   "source": [
    "df2.tweet = df2.tweet.apply(lambda x: re.sub(r'&[\\S]+?;', '', str(x)))\n",
    "df2.tweet.head(30)"
   ]
  },
  {
   "cell_type": "code",
   "execution_count": 229,
   "metadata": {},
   "outputs": [
    {
     "output_type": "execute_result",
     "data": {
      "text/plain": [
       "0    []\n",
       "1    []\n",
       "2    []\n",
       "3    []\n",
       "4    []\n",
       "Name: hashtags, dtype: object"
      ]
     },
     "metadata": {},
     "execution_count": 229
    }
   ],
   "source": [
    "df2['hashtags'] = df2.tweet.apply(lambda x: re.findall(r'#[\\S]+', str(x)))\n",
    "df2.hashtags.head()"
   ]
  },
  {
   "cell_type": "code",
   "execution_count": 230,
   "metadata": {},
   "outputs": [
    {
     "output_type": "execute_result",
     "data": {
      "text/plain": [
       "0    \n",
       "1    \n",
       "2    \n",
       "3    \n",
       "4    \n",
       "Name: hashtags, dtype: object"
      ]
     },
     "metadata": {},
     "execution_count": 230
    }
   ],
   "source": [
    "df2.hashtags = df2.hashtags.apply(lambda x: str(x)[1:-1])\n",
    "df2.hashtags.head()"
   ]
  },
  {
   "cell_type": "code",
   "execution_count": 231,
   "metadata": {},
   "outputs": [
    {
     "output_type": "execute_result",
     "data": {
      "text/plain": [
       "                                              22691\n",
       "'#Yankees'                                       39\n",
       "'#tcot'                                          13\n",
       "'#tbt'                                           10\n",
       "'#Ferguson'                                       9\n",
       "                                              ...  \n",
       "'#FLGov,'                                         1\n",
       "'#WeAreRepublicNotRegime', '#ImpeachObama'        1\n",
       "'#wherearetheynow?'                               1\n",
       "'#honeybadger'                                    1\n",
       "'#49ers'                                          1\n",
       "Name: hashtags, Length: 1789, dtype: int64"
      ]
     },
     "metadata": {},
     "execution_count": 231
    }
   ],
   "source": [
    "df2.hashtags.value_counts()"
   ]
  },
  {
   "cell_type": "code",
   "execution_count": 232,
   "metadata": {},
   "outputs": [
    {
     "output_type": "execute_result",
     "data": {
      "text/plain": [
       "0     !!! RT  As a woman you shouldn't complain abou...\n",
       "1     !!!!! RT  boy dats cold...tyga dwn bad for cuf...\n",
       "2     !!!!!!! RT  Dawg!!!! RT  You ever fuck a bitch...\n",
       "3                 !!!!!!!!! RT   she look like a tranny\n",
       "4     !!!!!!!!!!!!! RT  The shit you hear about me m...\n",
       "5     !!!!!!!!!!!!!!!!!!\" The shit just blows me..cl...\n",
       "6     !!!!!!\" I can not just sit up and HATE on anot...\n",
       "7     !!!! cause I'm tired of you big bitches coming...\n",
       "8      \"  you might not get ya bitch back  thats that \"\n",
       "9        \"  :hobbies include: fighting Mariam\"\\n\\nbitch\n",
       "10    \" Keeks is a bitch she curves everyone \" lol I...\n",
       "11                   \" Murda Gang bitch its Gang Land \"\n",
       "12    \" So hoes that smoke are losers ? \" yea ... go...\n",
       "13        \" bad bitches is the only thing that i like \"\n",
       "14                              \" bitch get up off me \"\n",
       "15                      \" bitch nigga miss me with it \"\n",
       "16                               \" bitch plz whatever \"\n",
       "17                            \" bitch who do you love \"\n",
       "18                   \" bitches get cut off everyday B \"\n",
       "19                        \" black bottle  a bad bitch \"\n",
       "20                 \" broke bitch cant tell me nothing \"\n",
       "21                      \" cancel that bitch like Nino \"\n",
       "22              \" cant you see these hoes wont change \"\n",
       "23    \" fuck no that bitch dont even suck dick \"  th...\n",
       "24    \" got ya bitch tip toeing on my hardwood floor...\n",
       "25                \" her pussy lips like Heaven doors \" \n",
       "26                         \" hoe what its hitting for \"\n",
       "27    \" i met that pussy on Ocean Dr . i gave that p...\n",
       "28       \" i need a trippy bitch who fuck on Hennessy \"\n",
       "29    \" i spend my money how i want bitch its my bus...\n",
       "Name: tweet, dtype: object"
      ]
     },
     "metadata": {},
     "execution_count": 232
    }
   ],
   "source": [
    "df2.tweet = df2.tweet.apply(lambda x: re.sub(r'#[\\S]+', '', str(x)))\n",
    "df2.tweet.head(30)"
   ]
  },
  {
   "cell_type": "code",
   "execution_count": 233,
   "metadata": {},
   "outputs": [
    {
     "output_type": "execute_result",
     "data": {
      "text/plain": [
       "0     !!!   As a woman you shouldn't complain about ...\n",
       "1     !!!!!   boy dats cold...tyga dwn bad for cuffi...\n",
       "2     !!!!!!!   Dawg!!!!   You ever fuck a bitch and...\n",
       "3                   !!!!!!!!!    she look like a tranny\n",
       "4     !!!!!!!!!!!!!   The shit you hear about me mig...\n",
       "5     !!!!!!!!!!!!!!!!!!\" The shit just blows me..cl...\n",
       "6     !!!!!!\" I can not just sit up and HATE on anot...\n",
       "7     !!!! cause I'm tired of you big bitches coming...\n",
       "8      \"  you might not get ya bitch back  thats that \"\n",
       "9        \"  :hobbies include: fighting Mariam\"\\n\\nbitch\n",
       "10    \" Keeks is a bitch she curves everyone \" lol I...\n",
       "11                   \" Murda Gang bitch its Gang Land \"\n",
       "12    \" So hoes that smoke are losers ? \" yea ... go...\n",
       "13        \" bad bitches is the only thing that i like \"\n",
       "14                              \" bitch get up off me \"\n",
       "15                      \" bitch nigga miss me with it \"\n",
       "16                               \" bitch plz whatever \"\n",
       "17                            \" bitch who do you love \"\n",
       "18                   \" bitches get cut off everyday B \"\n",
       "19                        \" black bottle  a bad bitch \"\n",
       "20                 \" broke bitch cant tell me nothing \"\n",
       "21                      \" cancel that bitch like Nino \"\n",
       "22              \" cant you see these hoes wont change \"\n",
       "23    \" fuck no that bitch dont even suck dick \"  th...\n",
       "24    \" got ya bitch tip toeing on my hardwood floor...\n",
       "25                \" her pussy lips like Heaven doors \" \n",
       "26                         \" hoe what its hitting for \"\n",
       "27    \" i met that pussy on Ocean Dr . i gave that p...\n",
       "28       \" i need a trippy bitch who fuck on Hennessy \"\n",
       "29    \" i spend my money how i want bitch its my bus...\n",
       "Name: tweet, dtype: object"
      ]
     },
     "metadata": {},
     "execution_count": 233
    }
   ],
   "source": [
    "df2.tweet = df2.tweet.apply(lambda x: re.sub(r'(\\bRT\\b|\\bQT\\b)', '', str(x)))\n",
    "df2.tweet.head(30)"
   ]
  },
  {
   "cell_type": "code",
   "execution_count": 234,
   "metadata": {},
   "outputs": [
    {
     "output_type": "execute_result",
     "data": {
      "text/plain": [
       "0    []\n",
       "1    []\n",
       "2    []\n",
       "3    []\n",
       "4    []\n",
       "Name: urls, dtype: object"
      ]
     },
     "metadata": {},
     "execution_count": 234
    }
   ],
   "source": [
    "df2['urls'] = df2.tweet.apply(lambda x: re.findall(r'http[\\S]+', str(x)))\n",
    "df2.urls.head()"
   ]
  },
  {
   "source": [
    "df2.urls = df2.urls.apply(lambda x: str(x)[1:-1])\n",
    "df2.urls.head()"
   ],
   "cell_type": "code",
   "metadata": {},
   "execution_count": 235,
   "outputs": [
    {
     "output_type": "execute_result",
     "data": {
      "text/plain": [
       "0    \n",
       "1    \n",
       "2    \n",
       "3    \n",
       "4    \n",
       "Name: urls, dtype: object"
      ]
     },
     "metadata": {},
     "execution_count": 235
    }
   ]
  },
  {
   "cell_type": "code",
   "execution_count": 236,
   "metadata": {},
   "outputs": [
    {
     "output_type": "execute_result",
     "data": {
      "text/plain": [
       "                            21771\n",
       "'http://'                      18\n",
       "'http://t.co/'                 14\n",
       "'http:'                        13\n",
       "'http://t.c'                   13\n",
       "                            ...  \n",
       "'http://t.co/IWLAG2J5Sl'        1\n",
       "'http://t.co/sM1rsmOLEZ'        1\n",
       "'http://t.co/p50wtGrz8a'        1\n",
       "'http://t.co/H0dYEBvnZB'        1\n",
       "'http://t.co/vYmiTsNCEn'        1\n",
       "Name: urls, Length: 2908, dtype: int64"
      ]
     },
     "metadata": {},
     "execution_count": 236
    }
   ],
   "source": [
    "df2.urls.value_counts()"
   ]
  },
  {
   "cell_type": "code",
   "execution_count": 237,
   "metadata": {},
   "outputs": [
    {
     "output_type": "execute_result",
     "data": {
      "text/plain": [
       "0     !!!   As a woman you shouldn't complain about ...\n",
       "1     !!!!!   boy dats cold...tyga dwn bad for cuffi...\n",
       "2     !!!!!!!   Dawg!!!!   You ever fuck a bitch and...\n",
       "3                   !!!!!!!!!    she look like a tranny\n",
       "4     !!!!!!!!!!!!!   The shit you hear about me mig...\n",
       "5     !!!!!!!!!!!!!!!!!!\" The shit just blows me..cl...\n",
       "6     !!!!!!\" I can not just sit up and HATE on anot...\n",
       "7     !!!! cause I'm tired of you big bitches coming...\n",
       "8      \"  you might not get ya bitch back  thats that \"\n",
       "9        \"  :hobbies include: fighting Mariam\"\\n\\nbitch\n",
       "10    \" Keeks is a bitch she curves everyone \" lol I...\n",
       "11                   \" Murda Gang bitch its Gang Land \"\n",
       "12    \" So hoes that smoke are losers ? \" yea ... go...\n",
       "13        \" bad bitches is the only thing that i like \"\n",
       "14                              \" bitch get up off me \"\n",
       "15                      \" bitch nigga miss me with it \"\n",
       "16                               \" bitch plz whatever \"\n",
       "17                            \" bitch who do you love \"\n",
       "18                   \" bitches get cut off everyday B \"\n",
       "19                        \" black bottle  a bad bitch \"\n",
       "20                 \" broke bitch cant tell me nothing \"\n",
       "21                      \" cancel that bitch like Nino \"\n",
       "22              \" cant you see these hoes wont change \"\n",
       "23    \" fuck no that bitch dont even suck dick \"  th...\n",
       "24    \" got ya bitch tip toeing on my hardwood floor...\n",
       "25                \" her pussy lips like Heaven doors \" \n",
       "26                         \" hoe what its hitting for \"\n",
       "27    \" i met that pussy on Ocean Dr . i gave that p...\n",
       "28       \" i need a trippy bitch who fuck on Hennessy \"\n",
       "29    \" i spend my money how i want bitch its my bus...\n",
       "Name: tweet, dtype: object"
      ]
     },
     "metadata": {},
     "execution_count": 237
    }
   ],
   "source": [
    "df2.tweet = df2.tweet.apply(lambda x: re.sub(r'http[\\S]+', '', str(x)))\n",
    "df2.tweet.head(30)"
   ]
  },
  {
   "cell_type": "code",
   "execution_count": 238,
   "metadata": {},
   "outputs": [
    {
     "output_type": "execute_result",
     "data": {
      "text/plain": [
       "0        As a woman you shouldnt complain about clea...\n",
       "1        boy dats coldtyga dwn bad for cuffin dat ho...\n",
       "2        Dawg   You ever fuck a bitch and she start ...\n",
       "3                                she look like a tranny\n",
       "4        The shit you hear about me might be true or...\n",
       "5      The shit just blows meclaim you so faithful a...\n",
       "6      I can not just sit up and HATE on another bit...\n",
       "7      cause Im tired of you big bitches coming for ...\n",
       "8          you might not get ya bitch back  thats that \n",
       "9              hobbies include fighting Mariam\\n\\nbitch\n",
       "10     Keeks is a bitch she curves everyone  lol I w...\n",
       "11                      Murda Gang bitch its Gang Land \n",
       "12        So hoes that smoke are losers   yea  go on IG\n",
       "13           bad bitches is the only thing that i like \n",
       "14                                 bitch get up off me \n",
       "15                         bitch nigga miss me with it \n",
       "16                                  bitch plz whatever \n",
       "17                               bitch who do you love \n",
       "18                      bitches get cut off everyday B \n",
       "19                           black bottle  a bad bitch \n",
       "20                    broke bitch cant tell me nothing \n",
       "21                         cancel that bitch like Nino \n",
       "22                 cant you see these hoes wont change \n",
       "23     fuck no that bitch dont even suck dick   the ...\n",
       "24     got ya bitch tip toeing on my hardwood floors   \n",
       "25                   her pussy lips like Heaven doors  \n",
       "26                            hoe what its hitting for \n",
       "27     i met that pussy on Ocean Dr  i gave that pus...\n",
       "28          i need a trippy bitch who fuck on Hennessy \n",
       "29     i spend my money how i want bitch its my busi...\n",
       "Name: tweet, dtype: object"
      ]
     },
     "metadata": {},
     "execution_count": 238
    }
   ],
   "source": [
    "df2.tweet = df2.tweet.apply(lambda x: re.sub(r'[^\\w\\s]', r'', str(x)))\n",
    "df2.tweet.head(30)"
   ]
  },
  {
   "cell_type": "code",
   "execution_count": 239,
   "metadata": {},
   "outputs": [
    {
     "output_type": "execute_result",
     "data": {
      "text/plain": [
       "0     as a woman you shouldnt complain about cleanin...\n",
       "1     boy dats coldtyga dwn bad for cuffin dat hoe i...\n",
       "2     dawg you ever fuck a bitch and she start to cr...\n",
       "3                                she look like a tranny\n",
       "4     the shit you hear about me might be true or it...\n",
       "5     the shit just blows meclaim you so faithful an...\n",
       "6     i can not just sit up and hate on another bitc...\n",
       "7     cause im tired of you big bitches coming for u...\n",
       "8            you might not get ya bitch back thats that\n",
       "9                 hobbies include fighting mariam bitch\n",
       "10    keeks is a bitch she curves everyone lol i wal...\n",
       "11                       murda gang bitch its gang land\n",
       "12           so hoes that smoke are losers yea go on ig\n",
       "13            bad bitches is the only thing that i like\n",
       "14                                  bitch get up off me\n",
       "15                          bitch nigga miss me with it\n",
       "16                                   bitch plz whatever\n",
       "17                                bitch who do you love\n",
       "18                       bitches get cut off everyday b\n",
       "19                             black bottle a bad bitch\n",
       "20                     broke bitch cant tell me nothing\n",
       "21                          cancel that bitch like nino\n",
       "22                  cant you see these hoes wont change\n",
       "23    fuck no that bitch dont even suck dick the ker...\n",
       "24        got ya bitch tip toeing on my hardwood floors\n",
       "25                     her pussy lips like heaven doors\n",
       "26                             hoe what its hitting for\n",
       "27    i met that pussy on ocean dr i gave that pussy...\n",
       "28           i need a trippy bitch who fuck on hennessy\n",
       "29    i spend my money how i want bitch its my business\n",
       "Name: tweet, dtype: object"
      ]
     },
     "metadata": {},
     "execution_count": 239
    }
   ],
   "source": [
    "# lower casing\n",
    "df2.tweet = df2.tweet.apply(lambda x: \" \".join(x.lower() for x in x.split()))\n",
    "df2.tweet.head(30)"
   ]
  },
  {
   "cell_type": "code",
   "execution_count": 240,
   "metadata": {},
   "outputs": [
    {
     "output_type": "execute_result",
     "data": {
      "text/plain": [
       "0     as a woman you shouldnt complain about cleanin...\n",
       "1     boy dats coldtyga dwn bad for cuffin dat hoe i...\n",
       "2     dawg you ever fuck a bitch and she start to cr...\n",
       "3                                she look like a tranny\n",
       "4     the shit you hear about me might be true or it...\n",
       "5     the shit just blows meclaim you so faithful an...\n",
       "6     i can not just sit up and hate on another bitc...\n",
       "7     cause im tired of you big bitches coming for u...\n",
       "8            you might not get ya bitch back thats that\n",
       "9                 hobbies include fighting mariam bitch\n",
       "10    keeks is a bitch she curves everyone lol i wal...\n",
       "11                       murda gang bitch its gang land\n",
       "12           so hoes that smoke are losers yea go on ig\n",
       "13            bad bitches is the only thing that i like\n",
       "14                                  bitch get up off me\n",
       "15                          bitch nigga miss me with it\n",
       "16                                   bitch plz whatever\n",
       "17                                bitch who do you love\n",
       "18                       bitches get cut off everyday b\n",
       "19                             black bottle a bad bitch\n",
       "20                     broke bitch cant tell me nothing\n",
       "21                          cancel that bitch like nino\n",
       "22                  cant you see these hoes wont change\n",
       "23    fuck no that bitch dont even suck dick the ker...\n",
       "24        got ya bitch tip toeing on my hardwood floors\n",
       "25                     her pussy lips like heaven doors\n",
       "26                             hoe what its hitting for\n",
       "27    i met that pussy on ocean dr i gave that pussy...\n",
       "28           i need a trippy bitch who fuck on hennessy\n",
       "29    i spend my money how i want bitch its my business\n",
       "Name: tweet, dtype: object"
      ]
     },
     "metadata": {},
     "execution_count": 240
    }
   ],
   "source": [
    "# remove numbers or words with digits  \n",
    "df2.tweet = df2.tweet.apply(lambda x: re.sub(r'\\w*\\d\\w*', r'', str(x)))\n",
    "df2.tweet.head(30)"
   ]
  },
  {
   "cell_type": "code",
   "execution_count": 241,
   "metadata": {},
   "outputs": [
    {
     "output_type": "execute_result",
     "data": {
      "text/plain": [
       "0     as a woman you shouldnt complain about cleanin...\n",
       "1     boy dats coldtyga dwn bad for cuffin dat hoe i...\n",
       "2     dawg you ever fuck a bitch and she start to cr...\n",
       "3                                she look like a tranny\n",
       "4     the shit you hear about me might be true or it...\n",
       "5     the shit just blows meclaim you so faithful an...\n",
       "6     i can not just sit up and hate on another bitc...\n",
       "7     cause im tired of you big bitches coming for u...\n",
       "8            you might not get ya bitch back thats that\n",
       "9                 hobbies include fighting mariam bitch\n",
       "10    keeks is a bitch she curves everyone lol i wal...\n",
       "11                       murda gang bitch its gang land\n",
       "12           so hoes that smoke are losers yea go on ig\n",
       "13            bad bitches is the only thing that i like\n",
       "14                                  bitch get up off me\n",
       "15                          bitch nigga miss me with it\n",
       "16                                   bitch plz whatever\n",
       "17                                bitch who do you love\n",
       "18                       bitches get cut off everyday b\n",
       "19                             black bottle a bad bitch\n",
       "20                     broke bitch cant tell me nothing\n",
       "21                          cancel that bitch like nino\n",
       "22                  cant you see these hoes wont change\n",
       "23    fuck no that bitch dont even suck dick the ker...\n",
       "24        got ya bitch tip toeing on my hardwood floors\n",
       "25                     her pussy lips like heaven doors\n",
       "26                             hoe what its hitting for\n",
       "27    i met that pussy on ocean dr i gave that pussy...\n",
       "28           i need a trippy bitch who fuck on hennessy\n",
       "29    i spend my money how i want bitch its my business\n",
       "Name: tweet, dtype: object"
      ]
     },
     "metadata": {},
     "execution_count": 241
    }
   ],
   "source": [
    "# remove any double or more whitespaces to single whitespaces\n",
    "df2.tweet = df2.tweet.apply(lambda x: re.sub(r'\\s\\s+', ' ', str(x)))\n",
    "df2.tweet.head(30)"
   ]
  },
  {
   "cell_type": "code",
   "execution_count": 242,
   "metadata": {},
   "outputs": [
    {
     "output_type": "execute_result",
     "data": {
      "text/plain": [
       "0     as a woman you shouldnt complain about cleanin...\n",
       "1     boy dats coldtyga dwn bad for cuffin dat hoe i...\n",
       "2     dawg you ever fuck a bitch and she start to cr...\n",
       "3                                she look like a tranny\n",
       "4     the shit you hear about me might be true or it...\n",
       "5     the shit just blows meclaim you so faithful an...\n",
       "6     i can not just sit up and hate on another bitc...\n",
       "7     cause im tired of you big bitches coming for u...\n",
       "8            you might not get ya bitch back thats that\n",
       "9                 hobbies include fighting mariam bitch\n",
       "10    keeks is a bitch she curves everyone lol i wal...\n",
       "11                       murda gang bitch its gang land\n",
       "12           so hoes that smoke are losers yea go on ig\n",
       "13            bad bitches is the only thing that i like\n",
       "14                                  bitch get up off me\n",
       "15                          bitch nigga miss me with it\n",
       "16                                   bitch plz whatever\n",
       "17                                bitch who do you love\n",
       "18                       bitches get cut off everyday b\n",
       "19                             black bottle a bad bitch\n",
       "20                     broke bitch cant tell me nothing\n",
       "21                          cancel that bitch like nino\n",
       "22                  cant you see these hoes wont change\n",
       "23    fuck no that bitch dont even suck dick the ker...\n",
       "24        got ya bitch tip toeing on my hardwood floors\n",
       "25                     her pussy lips like heaven doors\n",
       "26                             hoe what its hitting for\n",
       "27    i met that pussy on ocean dr i gave that pussy...\n",
       "28           i need a trippy bitch who fuck on hennessy\n",
       "29    i spend my money how i want bitch its my business\n",
       "Name: tweet, dtype: object"
      ]
     },
     "metadata": {},
     "execution_count": 242
    }
   ],
   "source": [
    "# remove any leading and trailing whitespace\n",
    "df2.tweet = df2.tweet.apply(lambda x: re.sub(r'(\\A\\s+|\\s+\\Z)', '', str(x)))\n",
    "df2.tweet.head(30)"
   ]
  },
  {
   "cell_type": "code",
   "execution_count": 245,
   "metadata": {},
   "outputs": [
    {
     "output_type": "execute_result",
     "data": {
      "text/plain": [
       "   count  hate  offensive  neither  class  \\\n",
       "0      3     0          0        3      2   \n",
       "1      3     0          3        0      1   \n",
       "2      3     0          3        0      1   \n",
       "3      3     0          2        1      1   \n",
       "4      6     0          6        0      1   \n",
       "\n",
       "                                               tweet  word_ct  char_ct  \\\n",
       "0  !!! RT @mayasolovely: As a woman you shouldn't...       25      140   \n",
       "1  !!!!! RT @mleew17: boy dats cold...tyga dwn ba...       16       85   \n",
       "2  !!!!!!! RT @UrKindOfBrand Dawg!!!! RT @80sbaby...       21      120   \n",
       "3  !!!!!!!!! RT @C_G_Anderson: @viva_based she lo...        9       62   \n",
       "4  !!!!!!!!!!!!! RT @ShenikaRoberts: The shit you...       26      137   \n",
       "\n",
       "    avg_wrd  stopwords  hashtags  numerics  callouts  \n",
       "0  4.640000         11         0         0         1  \n",
       "1  4.375000          3         0         0         1  \n",
       "2  4.761905          6         0         0         2  \n",
       "3  6.000000          2         0         0         2  \n",
       "4  4.307692         12         0         0         1  "
      ],
      "text/html": "<div>\n<style scoped>\n    .dataframe tbody tr th:only-of-type {\n        vertical-align: middle;\n    }\n\n    .dataframe tbody tr th {\n        vertical-align: top;\n    }\n\n    .dataframe thead th {\n        text-align: right;\n    }\n</style>\n<table border=\"1\" class=\"dataframe\">\n  <thead>\n    <tr style=\"text-align: right;\">\n      <th></th>\n      <th>count</th>\n      <th>hate</th>\n      <th>offensive</th>\n      <th>neither</th>\n      <th>class</th>\n      <th>tweet</th>\n      <th>word_ct</th>\n      <th>char_ct</th>\n      <th>avg_wrd</th>\n      <th>stopwords</th>\n      <th>hashtags</th>\n      <th>numerics</th>\n      <th>callouts</th>\n    </tr>\n  </thead>\n  <tbody>\n    <tr>\n      <th>0</th>\n      <td>3</td>\n      <td>0</td>\n      <td>0</td>\n      <td>3</td>\n      <td>2</td>\n      <td>!!! RT @mayasolovely: As a woman you shouldn't...</td>\n      <td>25</td>\n      <td>140</td>\n      <td>4.640000</td>\n      <td>11</td>\n      <td>0</td>\n      <td>0</td>\n      <td>1</td>\n    </tr>\n    <tr>\n      <th>1</th>\n      <td>3</td>\n      <td>0</td>\n      <td>3</td>\n      <td>0</td>\n      <td>1</td>\n      <td>!!!!! RT @mleew17: boy dats cold...tyga dwn ba...</td>\n      <td>16</td>\n      <td>85</td>\n      <td>4.375000</td>\n      <td>3</td>\n      <td>0</td>\n      <td>0</td>\n      <td>1</td>\n    </tr>\n    <tr>\n      <th>2</th>\n      <td>3</td>\n      <td>0</td>\n      <td>3</td>\n      <td>0</td>\n      <td>1</td>\n      <td>!!!!!!! RT @UrKindOfBrand Dawg!!!! RT @80sbaby...</td>\n      <td>21</td>\n      <td>120</td>\n      <td>4.761905</td>\n      <td>6</td>\n      <td>0</td>\n      <td>0</td>\n      <td>2</td>\n    </tr>\n    <tr>\n      <th>3</th>\n      <td>3</td>\n      <td>0</td>\n      <td>2</td>\n      <td>1</td>\n      <td>1</td>\n      <td>!!!!!!!!! RT @C_G_Anderson: @viva_based she lo...</td>\n      <td>9</td>\n      <td>62</td>\n      <td>6.000000</td>\n      <td>2</td>\n      <td>0</td>\n      <td>0</td>\n      <td>2</td>\n    </tr>\n    <tr>\n      <th>4</th>\n      <td>6</td>\n      <td>0</td>\n      <td>6</td>\n      <td>0</td>\n      <td>1</td>\n      <td>!!!!!!!!!!!!! RT @ShenikaRoberts: The shit you...</td>\n      <td>26</td>\n      <td>137</td>\n      <td>4.307692</td>\n      <td>12</td>\n      <td>0</td>\n      <td>0</td>\n      <td>1</td>\n    </tr>\n  </tbody>\n</table>\n</div>"
     },
     "metadata": {},
     "execution_count": 245
    }
   ],
   "source": [
    "df.head()"
   ]
  },
  {
   "cell_type": "code",
   "execution_count": 267,
   "metadata": {},
   "outputs": [],
   "source": [
    "df3 = df.copy()"
   ]
  },
  {
   "cell_type": "code",
   "execution_count": 268,
   "metadata": {},
   "outputs": [],
   "source": [
    "def preprocess_tweet(df, col):\n",
    "    # callouts\n",
    "    df[col] = df[col].apply(lambda x: re.sub(r'@[\\S]+', ' ', str(x)))\n",
    "    # character references\n",
    "    df[col] = df[col].apply(lambda x: re.sub(r'&[\\S]+?;', ' ', str(x)))\n",
    "    # hashtags\n",
    "    df[col] = df[col].apply(lambda x: re.sub(r'#[\\S]+;', ' ', str(x)))\n",
    "    # twitter codes RT and QT\n",
    "    df[col] = df[col].apply(lambda x: re.sub(r'(\\bRT\\b|\\bQT\\b)', ' ', str(x)))\n",
    "    # URL links\n",
    "    df[col] = df[col].apply(lambda x: re.sub(r'http[\\S]+', ' ', str(x)))\n",
    "    # punctuation\n",
    "    df[col] = df[col].apply(lambda x: re.sub(r'[^\\w\\s]', r'', str(x)))\n",
    "    # lower casing\n",
    "    df[col] = df[col].apply(lambda x: \" \".join(x.lower() for x in x.split()))\n",
    "    # remove numbers or words with digits  \n",
    "    df[col] = df[col].apply(lambda x: re.sub(r'\\w*\\d\\w*', r' ', str(x)))\n",
    "    # remove any double or more whitespaces to single whitespaces\n",
    "    df[col] = df[col].apply(lambda x: re.sub(r'\\s\\s+', ' ', str(x)))"
   ]
  },
  {
   "cell_type": "code",
   "execution_count": 269,
   "metadata": {},
   "outputs": [],
   "source": [
    "preprocess_tweet(df3, 'tweet')"
   ]
  },
  {
   "cell_type": "code",
   "execution_count": 270,
   "metadata": {},
   "outputs": [
    {
     "output_type": "execute_result",
     "data": {
      "text/plain": [
       "0     as a woman you shouldnt complain about cleanin...\n",
       "1     boy dats coldtyga dwn bad for cuffin dat hoe i...\n",
       "2     dawg you ever fuck a bitch and she start to cr...\n",
       "3                                she look like a tranny\n",
       "4     the shit you hear about me might be true or it...\n",
       "5     the shit just blows meclaim you so faithful an...\n",
       "6     i can not just sit up and hate on another bitc...\n",
       "7     cause im tired of you big bitches coming for u...\n",
       "8            you might not get ya bitch back thats that\n",
       "9                 hobbies include fighting mariam bitch\n",
       "10    keeks is a bitch she curves everyone lol i wal...\n",
       "11                       murda gang bitch its gang land\n",
       "12           so hoes that smoke are losers yea go on ig\n",
       "13            bad bitches is the only thing that i like\n",
       "14                                  bitch get up off me\n",
       "15                          bitch nigga miss me with it\n",
       "16                                   bitch plz whatever\n",
       "17                                bitch who do you love\n",
       "18                       bitches get cut off everyday b\n",
       "19                             black bottle a bad bitch\n",
       "20                     broke bitch cant tell me nothing\n",
       "21                          cancel that bitch like nino\n",
       "22                  cant you see these hoes wont change\n",
       "23    fuck no that bitch dont even suck dick the ker...\n",
       "24        got ya bitch tip toeing on my hardwood floors\n",
       "25                     her pussy lips like heaven doors\n",
       "26                             hoe what its hitting for\n",
       "27    i met that pussy on ocean dr i gave that pussy...\n",
       "28           i need a trippy bitch who fuck on hennessy\n",
       "29    i spend my money how i want bitch its my business\n",
       "Name: tweet, dtype: object"
      ]
     },
     "metadata": {},
     "execution_count": 270
    }
   ],
   "source": [
    "df3.tweet.head(30)"
   ]
  },
  {
   "cell_type": "code",
   "execution_count": 251,
   "metadata": {},
   "outputs": [],
   "source": [
    "import spacy"
   ]
  },
  {
   "cell_type": "code",
   "execution_count": 271,
   "metadata": {},
   "outputs": [
    {
     "output_type": "execute_result",
     "data": {
      "text/plain": [
       "<spacy.lang.en.English at 0x7fc10f935df0>"
      ]
     },
     "metadata": {},
     "execution_count": 271
    }
   ],
   "source": [
    "nlp = spacy.load(\"en_core_web_sm\")\n",
    "nlp"
   ]
  },
  {
   "cell_type": "code",
   "execution_count": 272,
   "metadata": {},
   "outputs": [
    {
     "output_type": "execute_result",
     "data": {
      "text/plain": [
       "for ratchet hoes',\n",
       " 'ihopesomeday that these hoes just find their own relationship instead of ruining others',\n",
       " 'istandwithrand wise up rino pussies real leaders like rand cruz lee bachmann etc actually exist fight or go home teaparty',\n",
       " 'iu straight nation college soccer champions wow hoosiernation hoosiers',\n",
       " 'iu should make me an honorary student id be way cooler than the other international students i have my own football card hoosiers',\n",
       " 'ifthepurgewasreal id be the best prostitute and madam ever hey if you got pussy you shouldnt be broke right lmao jk',\n",
       " 'ifwedate i eat da pussy better than a lesbian',\n",
       " 'inmiddleschool i was fat as hell and was a band faggot thank god i played sports after grade and didnt stay in band',\n",
       " 'indigenouspeoplesday right because these redskins had a lot of queens right nomg sofunny',\n",
       " 'indigenouspeoplesday haha you fuckin retarded commies hunter biden loves snortin that pygmie fairy dust dont he liberals',\n",
       " 'iowa is full of white trash',\n",
       " 'iraq gov troops were handed a severe defeat by isis at saqlawiya theres chatter of over soldiers lost jihadis raving about it',\n",
       " 'jesuschrist was straight thats why the faggots killed him period sonofgod',\n",
       " 'kanyeshrug lol thots be like only great thing these bitches can offer',\n",
       " 'lingo so niccas be tryn talk like me',\n",
       " 'mentionadislike hoes thinkin they bad even if they are i will tell her bitch calm down u average',\n",
       " 'messagetomyfuturespouse u better cook and clean for me bitch ill give u all my money but i aint cleanin no dishes and makin my own plate',\n",
       " 'minnesota is full of white trash',\n",
       " 'myunpopularopinion spanish bitches suck dick by and have babies by because theyre already fine and dressing slutty',\n",
       " 'nl queen and reminded i still dont get why janelle monae is so perplexed that people think shes queer',\n",
       " 'np centuries fob',\n",
       " 'nationalcatday sure celebrate over billion bird deaths and blame it on climatechange you fuckin commies',\n",
       " 'natitude okay im only going to say it once comb yer beards lol wiggers',\n",
       " 'nowplaying bt feat tori amos blue skies radio edit on ',\n",
       " 'nowplaying great white once bitten twice shy on ',\n",
       " 'nowplaying ian hunter once bitten twice shy on ',\n",
       " 'nowplaying the doors the wasp texas radio and the big beat on ',\n",
       " 'oomef had that yeah i kno she pussy whipped that other nigga into putting a ring on it',\n",
       " 'onlyinamichaelmyersmovie bitch is running a hundred meter dash on this niqqa whos actually taking his time walking u still get killed',\n",
       " 'pdplive is on november get your early bird tickets from',\n",
       " 'pacernation on the road perfect way to continue after iubb have finished nba pacers indiana hoosiers',\n",
       " 'peopletoavoid valerie jarrett so i control my reflex to bitch slap her',\n",
       " ' my little brother and i hate to admit it but and he knows why but hes still a lil bitch though fuck you',\n",
       " 'qtna how yall bitches gon breast feed wit nipple rings',\n",
       " 'questioniaskmyself why should i be slapping this hoe tuh solve something ima leave it alonei never usually listen to myself',\n",
       " 'radiofreenorthwest covington reads responses mocks fbi andy on real politics liv on her awakening gretchen',\n",
       " 'rayrice is a bitch justsaying',\n",
       " 'rayrice is still a bitch got this one wrong women fans should be livid noexcuses',\n",
       " 'reasonswecantbetogether if u was talkin to my nig or smashed da homies',\n",
       " 'reasonswhywedontgetalong youre a hoe stop focusing on sucking dick focus on getting rich',\n",
       " 'rebelscience its about sharing whaddup clouds it not about hogging the windturbines like a fuckin gasbag son of a bitch',\n",
       " 'rebelscience is using an actual woman as a genetic engineering lab for all natural clones or something faggot rome',\n",
       " 'redsox focus on the orioles that knocked you out last year and not your hatred of the yankees for umteen years lol',\n",
       " 'remake with granny dcyoungfly teamignat hoodcomedy damn that bitch a bab thats a big',\n",
       " 'royals fantastic ready for tomorrows sweep of the disposed os yankees except this month',\n",
       " 'royals milwaukee let yost gonow they wished they hadnt cause they suckhow about nowhes the guy win or lose yankees fire girardi yost',\n",
       " 'ruinacomedian charlie lapdance',\n",
       " 'ruinadessert fairy queen nomg i fucked obama panties again',\n",
       " 'shoutout to everybody that follow a nicca',\n",
       " 'shoutout to my niccas salute',\n",
       " 'shoutout to my macktown niccas',\n",
       " 'shoutout to my exit niccas realniccasalute',\n",
       " 'signsofcockblockin niggahs telling hoes im down talking them just so i cant get on fuckniggahs',\n",
       " 'skating is for trash',\n",
       " 'slightlyadjusted alls niggers wanna do is fuck tweet and drink pineapple soda all day',\n",
       " 'somethingigetalot are you asian black hawaiian gay retarded drunk',\n",
       " 'southcarolina is full of white trash',\n",
       " 'splashgang on you pussy naz ay i tried to tell naz',\n",
       " 'stopwhitepeople cases of west nile virus infections reported in orange county this year dead birds found carrying virus',\n",
       " 'tbt love you forever ling ling',\n",
       " 'theboondocks at my nicca',\n",
       " 'truth david is the charlie brown of scandal',\n",
       " 'that son of a bitch moment when you finally get in bed and your bladder decides its time to piss',\n",
       " 'that son of a bitch moment when you turn the radio on and your favorite song is on but its the end of the song',\n",
       " 'that son of a bitch moment when your walking through your house in the dark and stub your little toe on the wall',\n",
       " 'thatfuckmemoment when you leave your car windows down and it rains in your car and looks like hurricane katrina ran through that bitch',\n",
       " 'themostannoyingthingsinlife people who are never happy and bitchnmoan of the time',\n",
       " 'thingsiwillteachmychild how to play deez niggas n bitches dat be snakes',\n",
       " 'thingsnottodoonafirstdate give her all da dick u gotta half stroke da pussy bc if u dump dick on dat bitch she gon become extremely anoyin',\n",
       " 'tjohngang lil bitch follow me',\n",
       " 'tomyfutureson you can fuck dem hoes but you better not love dem hoes',\n",
       " 'trayvonmartin referred to zimmerman as a creepy ass cracker racist thug',\n",
       " 'tweetlikepontiacholmes i do the pontiac sprinkler nigga nigga nigga nigga spic spic spic spic nigga nigga nigga nigga',\n",
       " 'tweetlikeyourbestfriend i made out with bitches',\n",
       " 'umightnotgetin fucc nicca beerandtacos wethelastonesleft',\n",
       " 'vinitahegwood can get a job at the naacp or as the ag i hear they like diversity and tolerance as long as you aint a cracker tcot',\n",
       " 'virginia is full of white trash',\n",
       " 'wearerepublicnotregime potus bo violated usa sovereignty wopen borderjihadiscriminaldiseasedhaitianssamericans impeachobama',\n",
       " 'westvirginia is full of white trash',\n",
       " 'whatimcraving peanut butter oreos ',\n",
       " 'whatwouldyouchangeaboutyourpast the hoes i wasted time with',\n",
       " 'whyihateinstagram it can make a bitch cheat up to four points on the scale of to ',\n",
       " ' hunter pence is so annoying he should be a red sox player shave fool and take your vyvanse yankees ',\n",
       " 'yankees',\n",
       " 'yankees firecashman i dont want arod back',\n",
       " 'yankees jeter let him play the entire inning thats fitting',\n",
       " 'yankees sec robertson in guy is fantastic sec pitcher',\n",
       " 'yankees astros mccarthy outduels keuchel in series finale',\n",
       " 'yankees nine straight hits price not your night',\n",
       " 'yankees damn you directtv blackout the yankee game with a freaking walk off youre killing me satellite douche',\n",
       " 'yankees damn well joe that move to the bullpen really helped',\n",
       " 'yankees i aint complaining about the royals win or lose they showed heart al ride or die no flex zone they earned it',\n",
       " 'yankees i went to golds with cruz in when he was a sound no upper lower body strength hmm now hr hitter wont say the s word',\n",
       " 'yankees if royals have a fire sale i want the whole team leave gardner and tanaka the rest can please go along with joe and cash',\n",
       " 'yankees nice bounce back kay gotta keep this going',\n",
       " 'yankees pineda needed that great play',\n",
       " 'yankees primo just got home and the tanks are on mlb finally and they are winning even better time to get serious sept call up time',\n",
       " 'yankees got beaten by a thug',\n",
       " 'yankees take all three games in motown im callin it mlb',\n",
       " 'yankees wasted nu ezs season rays mlb',\n",
       " 'yeswedid start building windturbines so fuckin big they can kill a whole flock of birds in one go',\n",
       " 'yeswedid tattoo our bitches to corrupt as many men as possible to egypt and being a cattle prod vote',\n",
       " 'youwillnotbetakenseriouslyif youre proud to be white trash kedollarsignha',\n",
       " 'agreed there are a few badd ones but idkmixxed bitches is really where its at tho',\n",
       " 'anywere la palm trees and great weather any were else horrible weather and no bitches',\n",
       " 'bad ass local bitches',\n",
       " 'boom bitches',\n",
       " 'bslfe in this bitch pullup and washington space ',\n",
       " 'creamteam leaving hoes w cockbreath',\n",
       " 'drunk trash trashed wasted the draught horse',\n",
       " 'faggots killed jesuschrist hello but whatever go ahead gaymarriage yourself into pharaohs pockets',\n",
       " 'faggots are merely a scientific indicator that something is wrong do not celebrate as unique indiviuals for they are cancer',\n",
       " 'firefighter is a job for white trash',\n",
       " 'foxnews cuts away when a democrat talks and claim to be fair and balanced lmao network full of teabaggers and liars',\n",
       " 'gouache inktober oldpainting mt tiki wahine surf monkey bright happysunday peace wishing',\n",
       " 'honestyhour we dont love these hoes',\n",
       " 'honeybadger bitch',\n",
       " 'hoosier fans is cody zeller nominating for this years nba draft iubb',\n",
       " 'illneverunderstandwhy anyone from jersey shore is famous i should go be a guido shitbag if it means money for my family',\n",
       " 'inktober twentysix gouache mt snappy pappy and his bitch good thing sable paintbrushes',\n",
       " 'inners still hanging in yankees we need this win nfl its not sunday',\n",
       " 'iubb suiting up again tonight indiana iu ncaa hoosierdaddy hoosiernation hoosiers',\n",
       " 'klokus this bitch has his nose pierced',\n",
       " 'longhair dont care got my gayboyproblems everywhere im a bitch im a champ im totally full of',\n",
       " 'metal only honkies',\n",
       " 'milesthompson goauche wetback ca',\n",
       " 'morningjoe prove him wrong righties liberals use facts cons use emotions to make decisions facts be damned should be the teabagger motto',\n",
       " 'mt commission gouache tiki wahine monkey tubed surfing wavesliding waterwalker notkook',\n",
       " 'mt goauche monkey oldpainting vinyl jazz lounge',\n",
       " 'mt browngal gouache monkey tiki',\n",
       " 'nationaldoughnutday bitch get at me',\n",
       " 'nowplaying witcha bitch pussy pussy inda hood ona sofawit plastic on it',\n",
       " 'np shy glizzy awwsome remix feat chainz aap rocky via',\n",
       " 'oomf can get it but im chilling till da bitch hit me up',\n",
       " 'pause but niggas is bitches tho boy niggaz b so bitch made u cud kiss em n da mouth',\n",
       " 'philhughes nyy better then ur whole team',\n",
       " 'pornandroidiphoneipadsexxxx anal anal gaping tranny play panty nylon part',\n",
       " 'pornandroidiphoneipadsexxxx anal bbc anal creampie bitch',\n",
       " 'pornandroidiphoneipadsexxxx anal blonde tranny ass fucked',\n",
       " 'pornandroidiphoneipadsexxxx anal hardcore british queer anal pounding',\n",
       " 'pornandroidiphoneipadsexxxx bbw brazilian bbw babe drilled in pussy and ass',\n",
       " 'pornandroidiphoneipadsexxxx babe ebony babe pussy',\n",
       " 'pornandroidiphoneipadsexxxx beach caught a girl rubbing her pussy in nude beach',\n",
       " 'pornandroidiphoneipadsexxxx bigtits cute preggie slut big tits plays with swollen pussy',\n",
       " 'pornandroidiphoneipadsexxxx close up another pussy close up',\n",
       " 'pornandroidiphoneipadsexxxx closeup squirting pussy and fingered asshole',\n",
       " 'pornandroidiphoneipadsexxxx closeup amateur pussy player milf close up',\n",
       " 'pornandroidiphoneipadsexxxx closeup cumshot on beauty pussy closeup',\n",
       " 'pornandroidiphoneipadsexxxx closeup pussy fuck close up',\n",
       " 'pornandroidiphoneipadsexxxx creampie young japanese girl s hairy cunt cre',\n",
       " 'pornandroidiphoneipadsexxxx desi spicy oriental paki brunette sucks an un',\n",
       " 'pornandroidiphoneipadsexxxx desi paki',\n",
       " 'pornandroidiphoneipadsexxxx desi paki',\n",
       " 'pornandroidiphoneipadsexxxx ebony ebony texas bbw with big deep pussy',\n",
       " 'pornandroidiphoneipadsexxxx erotic erotic and wild tits and pussy fucking',\n",
       " 'pornandroidiphoneipadsexxxx facial blonde tranny whore gets rammed and facialized',\n",
       " 'pornandroidiphoneipadsexxxx fisting dude fists his wife s big pussy',\n",
       " 'pornandroidiphoneipadsexxxx fisting more lovely sounds of fisting a loose pussy',\n",
       " 'pornandroidiphoneipadsexxxx fisting whipped cream fisting',\n",
       " 'pornandroidiphoneipadsexxxx hairy year old hairy pussy cumming on fingers',\n",
       " 'pornandroidiphoneipadsexxxx hairy hairy florence shoves a dildo in her hairy red pussy',\n",
       " 'pornandroidiphoneipadsexxxx hairy hairy pussy',\n",
       " 'pornandroidiphoneipadsexxxx hairy hairy pussy',\n",
       " 'pornandroidiphoneipadsexxxx handjob hand job and cum on rubber pussy',\n",
       " 'pornandroidiphoneipadsexxxx hiddencams amateur boy fucking bitch hiddencam',\n",
       " 'pornandroidiphoneipadsexxxx hiddencams candid pussy shots from a hidden c',\n",
       " 'pornandroidiphoneipadsexxxx homemade home made my wife rubbing her pussy',\n",
       " 'pornandroidiphoneipadsexxxx homemade using my submissive bitch outdoor home made amateur',\n",
       " 'pornandroidiphoneipadsexxxx italian my baby pussy',\n",
       " 'pornandroidiphoneipadsexxxx japanese pretty young japanese girl s hot cunt fucked c',\n",
       " 'pornandroidiphoneipadsexxxx japanese young japanese girl s hairy cunt creampied',\n",
       " 'pornandroidiphoneipadsexxxx korean korean girlfriend pussy',\n",
       " 'pornandroidiphoneipadsexxxx latina latina chick gets her pussy pumped',\n",
       " 'pornandroidiphoneipadsexxxx latina latina mature big pussy',\n",
       " 'pornandroidiphoneipadsexxxx latina latina with tight pussy',\n",
       " 'pornandroidiphoneipadsexxxx lesbian lesbian girl eating pussy',\n",
       " 'pornandroidiphoneipadsexxxx lingerie bitch in lingerie getting her wet cunt pounded',\n",
       " 'pornandroidiphoneipadsexxxx masturbation a very hot black tranny is mastu',\n",
       " 'pornandroidiphoneipadsexxxx oldyoung old bitch pleases hotlooking young stud',\n",
       " 'pornandroidiphoneipadsexxxx oldyoung german milf getting young and old cock in her pussy',\n",
       " 'pornandroidiphoneipadsexxxx smalltits small tits ghetto whore fucking with not her stepdad',\n",
       " 'pornandroidiphoneipadsexxxx teen cutie lesbian teens toy slits',\n",
       " 'pornandroidiphoneipadsexxxx xxx hairy alicia silver tinslee reagan hairy pussy',\n",
       " 'pornandroidiphoneipadsexxxx xxx homemade pussy eating',\n",
       " 'portlandia putabirdonit the xbox one would be so much cooler if they put a bird on it',\n",
       " 'real dont tell me if my gf was a hoe before me if im happy',\n",
       " 'realtalk if you a hoe an try to get serious with someone dont expect to be anything more then a piece of meat to them',\n",
       " 'redneck tow truck johndeere america',\n",
       " 'rejectedpeanutsspecials its the grape crackhead charlie brown',\n",
       " 'southcarolina has a highschool graduation rate near and thats why they have so many uninformed teabaggers morningjoe',\n",
       " 'stateoftheunion would last if they let the president talk all that standing up clapping is for the birds',\n",
       " 'tbt me being a bad bitch',\n",
       " 'tbt my precious gook baby',\n",
       " 'tbt to when i used to be good at rappingnow ima bitch',\n",
       " 'tbt when i took my likkle monkey jimmys',\n",
       " 'teabagger state like mississippi opposed to minimum wage child labor laws unions is proscab sweatshop work pretty much slavery',\n",
       " 'throwback to being bitches drinking mikes bc we sucked',\n",
       " 'tikiti rough mock for the base of what will eventually be an ashtray tiki ti',\n",
       " 'truefriendtuesday my bitch',\n",
       " 'tweetlikelexi nah we not gonna sit down we gonna walk it out bitch',\n",
       " 'ultimatepickupline bitch get naked works times out of if shes drunk',\n",
       " 'uppers loving the show this morning chris is directing the conversation beautifully make the teabaggers talk',\n",
       " 'vegas bitch',\n",
       " 'wallofthewasatch bitch',\n",
       " 'wcw all the bad bitches',\n",
       " 'wcw bitch',\n",
       " 'wrongfilmquotes everytime i come in the kitchen you in the kitchen in the goddamn refrigerator eatin up all the pussy',\n",
       " 'xfactorau sick of guys who sing like pussies where are the rock type men',\n",
       " 'youaremoreattractive if u a real bitch',\n",
       " ' bid to go on a date with zack morris oh that dreamy son of a bitch',\n",
       " ' bud lites and well shots at the bar tn plus im giving away a trip to las vegas so if youre not a cunt come visit me at bourbon st',\n",
       " ' torch down the drain cause either i was to high and lost it or one of my niggas finessed that hoe fuckkkkk ittt',\n",
       " 'killer line josh smith dropped a killer trash talk line on kenneth',\n",
       " 'a piece of pussy',\n",
       " 'i love salad anyway fuck you hoes eat a salad',\n",
       " 'plus sheryl crow',\n",
       " 'every bitch n my passenger seat i dun fucked at least one time',\n",
       " 'its true that the early bird gets the worm first',\n",
       " 'dirty whore i love you but you a hoe but i love you jesus is watching',\n",
       " 'this hoe got a school shirt on sucking dick',\n",
       " 'a lotta fck niggas on this here twitter really be talking like bitches',\n",
       " 'these bitches started shooting at my party fuck new orleans',\n",
       " 'bitches giving back rubs',\n",
       " 'never been a coon grew up with bokoo coons tho but never was i did some coon shit tho',\n",
       " 'nigga was smashing his hoe had his hoe paying for a condo and he still with her yep fucboy',\n",
       " 'guiltypleasure watching niggers fight on youtubevineig',\n",
       " 'dont like me have a with the rest of the bitches waiting for me to give a fuck',\n",
       " 'id rather be called nigger than a uncle tom or a mark',\n",
       " 'bet yall bitches was deaf to mc lytes words about being treated like a queen huh',\n",
       " 'hiho',\n",
       " 'onea yall btches gon end up dead over a screen shot thinkn that sht funnyaint too many niccas gon laugh at that b',\n",
       " 'congrats youve turned a hoe into a housewife dont get shitty when your guys start singing they hit it first butthatsnoneofmybusiness',\n",
       " 'got ur bitch tip toeing on my marble floors',\n",
       " 'omg just thinccin of you makes me laugh we use to stay talking shit in period you cute you my bitch',\n",
       " 'you needa stop sucking dick hoe',\n",
       " 'omg lil b followed me yassss bitch he follow everybody shut yo ass up',\n",
       " 'hop off hoe come on',\n",
       " 'lmao my nigga lets go half on a weed brownie we will be laughing hard as hell in senior seminar',\n",
       " 'if you aint a ho get up out my trap hooouseee',\n",
       " 'ugh bitch i love you that a s s your just simply flawless i remember when you cute a peice of your hair hella short',\n",
       " 'pussy ride dick like she a jamaican',\n",
       " 'on the pussy',\n",
       " 'loyal pussy',\n",
       " 'my bitch',\n",
       " 'is the most important thing all this temporary bullshit and lies is fa the birds kill that',\n",
       " 'racist all month fuck u honkey',\n",
       " 'gucci b having me on my rude shit lol thats not nice that bitch aint worth a quarter',\n",
       " 'mimi too old to be covering her titties during sex bitch you childish',\n",
       " 'lmfao if you watching porn beating off yo homie text u it show his name in the banner youre a faggot',\n",
       " 'bruh these hoes gotta be stupid',\n",
       " 'somebody gonna die theres a bitch on njt setting up a lean as we tweet',\n",
       " 'yall have boring sex nope i lick the side of my bitch face when im hittin it from the back',\n",
       " 'of course cooders nudes are trash she lives in the dmv what did you expect',\n",
       " 'my stomach in pain like a mufucka this the nigga thats rating bitches ',\n",
       " 'bitches get stuff done',\n",
       " 'fucc nicca yu pose to be pullin up',\n",
       " 'maaaaannnn i hope so did we get rid of john legend looking charlie batch',\n",
       " 'mike calls me tbird',\n",
       " 'niggas sending screenshots of me to they bitches like stop texting cuh',\n",
       " 'this white bitch think she miley cyrus',\n",
       " 'i seen a thot ass bitch in some high top whites',\n",
       " 'nicca gotta team full of worsum hoes',\n",
       " 'this hoe just dmd me sayin never give up in your dreamsfuckin fortune cookie ass hoe fuck out my dms',\n",
       " 'when a dyke get pregnant by mistake',\n",
       " 'bitch i know you got games on your phone',\n",
       " 'bitch my lrt',\n",
       " 'burnt pussy lips',\n",
       " 'i just said that my tl gotta chill with this pretty face challenge foolishness yall hoes agg',\n",
       " 'nah if you round me you do molly only bitches with no nigga do mollies',\n",
       " 'played that nigga smh bitches are so shady oh my god',\n",
       " 'no bitch go away tu puta madre',\n",
       " 'bitch was mad af',\n",
       " 'i hate you cyrus ho is a rookie slut getting the cash after the date nope nope nope',\n",
       " 'when youre trying to relax but your pussy is shooting out light beams',\n",
       " 'murda out here sucking bitches howdhow',\n",
       " 'bitch if youre the hobbit you need to let me know right now',\n",
       " 'these folks so bad im just here to talk trash',\n",
       " 'brittany bitch u my dog man',\n",
       " 'smh bitch sellin her ass',\n",
       " ...]"
      ]
     },
     "metadata": {},
     "execution_count": 272
    }
   ],
   "source": [
    "word_list = df3.tweet.to_list()\n",
    "word_list"
   ]
  },
  {
   "cell_type": "code",
   "execution_count": 278,
   "metadata": {},
   "outputs": [
    {
     "output_type": "execute_result",
     "data": {
      "text/plain": [
       "0        !!! RT @mayasolovely: As a woman you shouldn't...\n",
       "1        !!!!! RT @mleew17: boy dats cold...tyga dwn ba...\n",
       "2        !!!!!!! RT @UrKindOfBrand Dawg!!!! RT @80sbaby...\n",
       "3        !!!!!!!!! RT @C_G_Anderson: @viva_based she lo...\n",
       "4        !!!!!!!!!!!!! RT @ShenikaRoberts: The shit you...\n",
       "                               ...                        \n",
       "24778    you's a muthaf***in lie &#8220;@LifeAsKing: @2...\n",
       "24779    you've gone and broke the wrong heart baby, an...\n",
       "24780    young buck wanna eat!!.. dat nigguh like I ain...\n",
       "24781                youu got wild bitches tellin you lies\n",
       "24782    ~~Ruffled | Ntac Eileen Dahlia - Beautiful col...\n",
       "Name: tweet, Length: 24783, dtype: object"
      ]
     },
     "metadata": {},
     "execution_count": 278
    }
   ],
   "source": [
    "df.tweet"
   ]
  },
  {
   "cell_type": "code",
   "execution_count": null,
   "metadata": {},
   "outputs": [],
   "source": []
  },
  {
   "cell_type": "code",
   "execution_count": 279,
   "metadata": {},
   "outputs": [
    {
     "output_type": "execute_result",
     "data": {
      "text/plain": [
       "0        []\n",
       "1        []\n",
       "2        []\n",
       "3        []\n",
       "4        []\n",
       "         ..\n",
       "24778    []\n",
       "24779    []\n",
       "24780    []\n",
       "24781    []\n",
       "24782    []\n",
       "Name: tweet, Length: 24783, dtype: object"
      ]
     },
     "metadata": {},
     "execution_count": 279
    }
   ],
   "source": [
    "pattern = df.tweet.apply(lambda x: re.findall(r'[\\S]+porn[\\S]+', str(x)))\n",
    "pattern"
   ]
  },
  {
   "cell_type": "code",
   "execution_count": 280,
   "metadata": {},
   "outputs": [
    {
     "output_type": "execute_result",
     "data": {
      "text/plain": [
       "0         \n",
       "1         \n",
       "2         \n",
       "3         \n",
       "4         \n",
       "        ..\n",
       "24778     \n",
       "24779     \n",
       "24780     \n",
       "24781     \n",
       "24782     \n",
       "Name: tweet, Length: 24783, dtype: object"
      ]
     },
     "metadata": {},
     "execution_count": 280
    }
   ],
   "source": [
    "pattern = pattern.apply(lambda x: str(x)[1:-1])\n",
    "pattern"
   ]
  },
  {
   "cell_type": "code",
   "execution_count": 281,
   "metadata": {},
   "outputs": [
    {
     "output_type": "execute_result",
     "data": {
      "text/plain": [
       "                                             24735\n",
       "'#porn,#android,#iphone,#ipad,#sex,#xxx,'       48\n",
       "Name: tweet, dtype: int64"
      ]
     },
     "metadata": {},
     "execution_count": 281
    }
   ],
   "source": [
    "pattern.value_counts()"
   ]
  },
  {
   "cell_type": "code",
   "execution_count": 260,
   "metadata": {},
   "outputs": [
    {
     "output_type": "error",
     "ename": "TypeError",
     "evalue": "Argument 'string' has incorrect type (expected str, got list)",
     "traceback": [
      "\u001b[0;31m---------------------------------------------------------------------------\u001b[0m",
      "\u001b[0;31mTypeError\u001b[0m                                 Traceback (most recent call last)",
      "\u001b[0;32m<ipython-input-260-f801d5facd11>\u001b[0m in \u001b[0;36m<module>\u001b[0;34m\u001b[0m\n\u001b[0;32m----> 1\u001b[0;31m \u001b[0mmy_doc\u001b[0m \u001b[0;34m=\u001b[0m \u001b[0mnlp\u001b[0m\u001b[0;34m(\u001b[0m\u001b[0mword_list\u001b[0m\u001b[0;34m)\u001b[0m\u001b[0;34m\u001b[0m\u001b[0;34m\u001b[0m\u001b[0m\n\u001b[0m",
      "\u001b[0;32m~/opt/anaconda3/envs/learn-env/lib/python3.9/site-packages/spacy/language.py\u001b[0m in \u001b[0;36m__call__\u001b[0;34m(self, text, disable, component_cfg)\u001b[0m\n\u001b[1;32m    975\u001b[0m         \u001b[0mDOCS\u001b[0m\u001b[0;34m:\u001b[0m \u001b[0mhttps\u001b[0m\u001b[0;34m:\u001b[0m\u001b[0;34m//\u001b[0m\u001b[0mspacy\u001b[0m\u001b[0;34m.\u001b[0m\u001b[0mio\u001b[0m\u001b[0;34m/\u001b[0m\u001b[0mapi\u001b[0m\u001b[0;34m/\u001b[0m\u001b[0mlanguage\u001b[0m\u001b[0;31m#call\u001b[0m\u001b[0;34m\u001b[0m\u001b[0;34m\u001b[0m\u001b[0m\n\u001b[1;32m    976\u001b[0m         \"\"\"\n\u001b[0;32m--> 977\u001b[0;31m         \u001b[0mdoc\u001b[0m \u001b[0;34m=\u001b[0m \u001b[0mself\u001b[0m\u001b[0;34m.\u001b[0m\u001b[0mmake_doc\u001b[0m\u001b[0;34m(\u001b[0m\u001b[0mtext\u001b[0m\u001b[0;34m)\u001b[0m\u001b[0;34m\u001b[0m\u001b[0;34m\u001b[0m\u001b[0m\n\u001b[0m\u001b[1;32m    978\u001b[0m         \u001b[0;32mif\u001b[0m \u001b[0mcomponent_cfg\u001b[0m \u001b[0;32mis\u001b[0m \u001b[0;32mNone\u001b[0m\u001b[0;34m:\u001b[0m\u001b[0;34m\u001b[0m\u001b[0;34m\u001b[0m\u001b[0m\n\u001b[1;32m    979\u001b[0m             \u001b[0mcomponent_cfg\u001b[0m \u001b[0;34m=\u001b[0m \u001b[0;34m{\u001b[0m\u001b[0;34m}\u001b[0m\u001b[0;34m\u001b[0m\u001b[0;34m\u001b[0m\u001b[0m\n",
      "\u001b[0;32m~/opt/anaconda3/envs/learn-env/lib/python3.9/site-packages/spacy/language.py\u001b[0m in \u001b[0;36mmake_doc\u001b[0;34m(self, text)\u001b[0m\n\u001b[1;32m   1057\u001b[0m                 \u001b[0mErrors\u001b[0m\u001b[0;34m.\u001b[0m\u001b[0mE088\u001b[0m\u001b[0;34m.\u001b[0m\u001b[0mformat\u001b[0m\u001b[0;34m(\u001b[0m\u001b[0mlength\u001b[0m\u001b[0;34m=\u001b[0m\u001b[0mlen\u001b[0m\u001b[0;34m(\u001b[0m\u001b[0mtext\u001b[0m\u001b[0;34m)\u001b[0m\u001b[0;34m,\u001b[0m \u001b[0mmax_length\u001b[0m\u001b[0;34m=\u001b[0m\u001b[0mself\u001b[0m\u001b[0;34m.\u001b[0m\u001b[0mmax_length\u001b[0m\u001b[0;34m)\u001b[0m\u001b[0;34m\u001b[0m\u001b[0;34m\u001b[0m\u001b[0m\n\u001b[1;32m   1058\u001b[0m             )\n\u001b[0;32m-> 1059\u001b[0;31m         \u001b[0;32mreturn\u001b[0m \u001b[0mself\u001b[0m\u001b[0;34m.\u001b[0m\u001b[0mtokenizer\u001b[0m\u001b[0;34m(\u001b[0m\u001b[0mtext\u001b[0m\u001b[0;34m)\u001b[0m\u001b[0;34m\u001b[0m\u001b[0;34m\u001b[0m\u001b[0m\n\u001b[0m\u001b[1;32m   1060\u001b[0m \u001b[0;34m\u001b[0m\u001b[0m\n\u001b[1;32m   1061\u001b[0m     def update(\n",
      "\u001b[0;31mTypeError\u001b[0m: Argument 'string' has incorrect type (expected str, got list)"
     ]
    }
   ],
   "source": [
    "my_doc = nlp(word_list)"
   ]
  },
  {
   "cell_type": "code",
   "execution_count": 255,
   "metadata": {},
   "outputs": [
    {
     "output_type": "execute_result",
     "data": {
      "text/plain": [
       "spacy.tokens.doc.Doc"
      ]
     },
     "metadata": {},
     "execution_count": 255
    }
   ],
   "source": [
    "type(my_doc)"
   ]
  },
  {
   "cell_type": "code",
   "execution_count": 257,
   "metadata": {},
   "outputs": [
    {
     "output_type": "stream",
     "name": "stdout",
     "text": [
      "df3.tweet\n"
     ]
    }
   ],
   "source": [
    "for token in my_doc:\n",
    "    print(token.text)"
   ]
  },
  {
   "cell_type": "code",
   "execution_count": null,
   "metadata": {},
   "outputs": [],
   "source": []
  }
 ]
}