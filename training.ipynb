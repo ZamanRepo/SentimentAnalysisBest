{
 "metadata": {
  "language_info": {
   "codemirror_mode": {
    "name": "ipython",
    "version": 3
   },
   "file_extension": ".py",
   "mimetype": "text/x-python",
   "name": "python",
   "nbconvert_exporter": "python",
   "pygments_lexer": "ipython3",
   "version": "3.9.1-final"
  },
  "orig_nbformat": 2,
  "kernelspec": {
   "name": "python3",
   "display_name": "Python 3.9.1 64-bit",
   "metadata": {
    "interpreter": {
     "hash": "80773cdecc613a186b9eac051636553d2ff0f99c57590601666ed713bd5d0256"
    }
   }
  }
 },
 "nbformat": 4,
 "nbformat_minor": 2,
 "cells": [
  {
   "cell_type": "code",
   "execution_count": 1,
   "metadata": {},
   "outputs": [],
   "source": [
    "import pandas as pd  \n",
    "import numpy as np\n",
    "import matplotlib.pyplot as plt\n",
    "plt.style.use('fivethirtyeight')\n",
    "\n",
    "%matplotlib inline\n",
    "%config InlineBackend.figure_format = 'retina'"
   ]
  },
  {
   "cell_type": "code",
   "execution_count": 97,
   "metadata": {},
   "outputs": [
    {
     "output_type": "execute_result",
     "data": {
      "text/plain": [
       "   Unnamed: 0  count  hate_speech  offensive_language  neither  class  \\\n",
       "0           0      3            0                   0        3      2   \n",
       "1           1      3            0                   3        0      1   \n",
       "2           2      3            0                   3        0      1   \n",
       "3           3      3            0                   2        1      1   \n",
       "4           4      6            0                   6        0      1   \n",
       "\n",
       "                                               tweet  \n",
       "0  !!! RT @mayasolovely: As a woman you shouldn't...  \n",
       "1  !!!!! RT @mleew17: boy dats cold...tyga dwn ba...  \n",
       "2  !!!!!!! RT @UrKindOfBrand Dawg!!!! RT @80sbaby...  \n",
       "3  !!!!!!!!! RT @C_G_Anderson: @viva_based she lo...  \n",
       "4  !!!!!!!!!!!!! RT @ShenikaRoberts: The shit you...  "
      ],
      "text/html": "<div>\n<style scoped>\n    .dataframe tbody tr th:only-of-type {\n        vertical-align: middle;\n    }\n\n    .dataframe tbody tr th {\n        vertical-align: top;\n    }\n\n    .dataframe thead th {\n        text-align: right;\n    }\n</style>\n<table border=\"1\" class=\"dataframe\">\n  <thead>\n    <tr style=\"text-align: right;\">\n      <th></th>\n      <th>Unnamed: 0</th>\n      <th>count</th>\n      <th>hate_speech</th>\n      <th>offensive_language</th>\n      <th>neither</th>\n      <th>class</th>\n      <th>tweet</th>\n    </tr>\n  </thead>\n  <tbody>\n    <tr>\n      <th>0</th>\n      <td>0</td>\n      <td>3</td>\n      <td>0</td>\n      <td>0</td>\n      <td>3</td>\n      <td>2</td>\n      <td>!!! RT @mayasolovely: As a woman you shouldn't...</td>\n    </tr>\n    <tr>\n      <th>1</th>\n      <td>1</td>\n      <td>3</td>\n      <td>0</td>\n      <td>3</td>\n      <td>0</td>\n      <td>1</td>\n      <td>!!!!! RT @mleew17: boy dats cold...tyga dwn ba...</td>\n    </tr>\n    <tr>\n      <th>2</th>\n      <td>2</td>\n      <td>3</td>\n      <td>0</td>\n      <td>3</td>\n      <td>0</td>\n      <td>1</td>\n      <td>!!!!!!! RT @UrKindOfBrand Dawg!!!! RT @80sbaby...</td>\n    </tr>\n    <tr>\n      <th>3</th>\n      <td>3</td>\n      <td>3</td>\n      <td>0</td>\n      <td>2</td>\n      <td>1</td>\n      <td>1</td>\n      <td>!!!!!!!!! RT @C_G_Anderson: @viva_based she lo...</td>\n    </tr>\n    <tr>\n      <th>4</th>\n      <td>4</td>\n      <td>6</td>\n      <td>0</td>\n      <td>6</td>\n      <td>0</td>\n      <td>1</td>\n      <td>!!!!!!!!!!!!! RT @ShenikaRoberts: The shit you...</td>\n    </tr>\n  </tbody>\n</table>\n</div>"
     },
     "metadata": {},
     "execution_count": 97
    }
   ],
   "source": [
    "df = pd.read_csv(\"data/labeled_data.csv\")\n",
    "df.head()"
   ]
  },
  {
   "cell_type": "code",
   "execution_count": 98,
   "metadata": {},
   "outputs": [],
   "source": [
    "df = df.drop(\"Unnamed: 0\", axis=1)"
   ]
  },
  {
   "cell_type": "code",
   "execution_count": 99,
   "metadata": {},
   "outputs": [
    {
     "output_type": "execute_result",
     "data": {
      "text/plain": [
       "   count  hate_speech  offensive_language  neither  class  \\\n",
       "0      3            0                   0        3      2   \n",
       "1      3            0                   3        0      1   \n",
       "2      3            0                   3        0      1   \n",
       "3      3            0                   2        1      1   \n",
       "4      6            0                   6        0      1   \n",
       "\n",
       "                                               tweet  \n",
       "0  !!! RT @mayasolovely: As a woman you shouldn't...  \n",
       "1  !!!!! RT @mleew17: boy dats cold...tyga dwn ba...  \n",
       "2  !!!!!!! RT @UrKindOfBrand Dawg!!!! RT @80sbaby...  \n",
       "3  !!!!!!!!! RT @C_G_Anderson: @viva_based she lo...  \n",
       "4  !!!!!!!!!!!!! RT @ShenikaRoberts: The shit you...  "
      ],
      "text/html": "<div>\n<style scoped>\n    .dataframe tbody tr th:only-of-type {\n        vertical-align: middle;\n    }\n\n    .dataframe tbody tr th {\n        vertical-align: top;\n    }\n\n    .dataframe thead th {\n        text-align: right;\n    }\n</style>\n<table border=\"1\" class=\"dataframe\">\n  <thead>\n    <tr style=\"text-align: right;\">\n      <th></th>\n      <th>count</th>\n      <th>hate_speech</th>\n      <th>offensive_language</th>\n      <th>neither</th>\n      <th>class</th>\n      <th>tweet</th>\n    </tr>\n  </thead>\n  <tbody>\n    <tr>\n      <th>0</th>\n      <td>3</td>\n      <td>0</td>\n      <td>0</td>\n      <td>3</td>\n      <td>2</td>\n      <td>!!! RT @mayasolovely: As a woman you shouldn't...</td>\n    </tr>\n    <tr>\n      <th>1</th>\n      <td>3</td>\n      <td>0</td>\n      <td>3</td>\n      <td>0</td>\n      <td>1</td>\n      <td>!!!!! RT @mleew17: boy dats cold...tyga dwn ba...</td>\n    </tr>\n    <tr>\n      <th>2</th>\n      <td>3</td>\n      <td>0</td>\n      <td>3</td>\n      <td>0</td>\n      <td>1</td>\n      <td>!!!!!!! RT @UrKindOfBrand Dawg!!!! RT @80sbaby...</td>\n    </tr>\n    <tr>\n      <th>3</th>\n      <td>3</td>\n      <td>0</td>\n      <td>2</td>\n      <td>1</td>\n      <td>1</td>\n      <td>!!!!!!!!! RT @C_G_Anderson: @viva_based she lo...</td>\n    </tr>\n    <tr>\n      <th>4</th>\n      <td>6</td>\n      <td>0</td>\n      <td>6</td>\n      <td>0</td>\n      <td>1</td>\n      <td>!!!!!!!!!!!!! RT @ShenikaRoberts: The shit you...</td>\n    </tr>\n  </tbody>\n</table>\n</div>"
     },
     "metadata": {},
     "execution_count": 99
    }
   ],
   "source": [
    "df.head()"
   ]
  },
  {
   "cell_type": "code",
   "execution_count": 100,
   "metadata": {},
   "outputs": [
    {
     "output_type": "execute_result",
     "data": {
      "text/plain": [
       "   count  hate  offensive  neither  class  \\\n",
       "0      3     0          0        3      2   \n",
       "1      3     0          3        0      1   \n",
       "2      3     0          3        0      1   \n",
       "3      3     0          2        1      1   \n",
       "4      6     0          6        0      1   \n",
       "\n",
       "                                               tweet  \n",
       "0  !!! RT @mayasolovely: As a woman you shouldn't...  \n",
       "1  !!!!! RT @mleew17: boy dats cold...tyga dwn ba...  \n",
       "2  !!!!!!! RT @UrKindOfBrand Dawg!!!! RT @80sbaby...  \n",
       "3  !!!!!!!!! RT @C_G_Anderson: @viva_based she lo...  \n",
       "4  !!!!!!!!!!!!! RT @ShenikaRoberts: The shit you...  "
      ],
      "text/html": "<div>\n<style scoped>\n    .dataframe tbody tr th:only-of-type {\n        vertical-align: middle;\n    }\n\n    .dataframe tbody tr th {\n        vertical-align: top;\n    }\n\n    .dataframe thead th {\n        text-align: right;\n    }\n</style>\n<table border=\"1\" class=\"dataframe\">\n  <thead>\n    <tr style=\"text-align: right;\">\n      <th></th>\n      <th>count</th>\n      <th>hate</th>\n      <th>offensive</th>\n      <th>neither</th>\n      <th>class</th>\n      <th>tweet</th>\n    </tr>\n  </thead>\n  <tbody>\n    <tr>\n      <th>0</th>\n      <td>3</td>\n      <td>0</td>\n      <td>0</td>\n      <td>3</td>\n      <td>2</td>\n      <td>!!! RT @mayasolovely: As a woman you shouldn't...</td>\n    </tr>\n    <tr>\n      <th>1</th>\n      <td>3</td>\n      <td>0</td>\n      <td>3</td>\n      <td>0</td>\n      <td>1</td>\n      <td>!!!!! RT @mleew17: boy dats cold...tyga dwn ba...</td>\n    </tr>\n    <tr>\n      <th>2</th>\n      <td>3</td>\n      <td>0</td>\n      <td>3</td>\n      <td>0</td>\n      <td>1</td>\n      <td>!!!!!!! RT @UrKindOfBrand Dawg!!!! RT @80sbaby...</td>\n    </tr>\n    <tr>\n      <th>3</th>\n      <td>3</td>\n      <td>0</td>\n      <td>2</td>\n      <td>1</td>\n      <td>1</td>\n      <td>!!!!!!!!! RT @C_G_Anderson: @viva_based she lo...</td>\n    </tr>\n    <tr>\n      <th>4</th>\n      <td>6</td>\n      <td>0</td>\n      <td>6</td>\n      <td>0</td>\n      <td>1</td>\n      <td>!!!!!!!!!!!!! RT @ShenikaRoberts: The shit you...</td>\n    </tr>\n  </tbody>\n</table>\n</div>"
     },
     "metadata": {},
     "execution_count": 100
    }
   ],
   "source": [
    "df = df.rename(columns={\"hate_speech\": 'hate', \"offensive_language\": 'offensive'})\n",
    "df.head()"
   ]
  },
  {
   "cell_type": "code",
   "execution_count": null,
   "metadata": {},
   "outputs": [],
   "source": [
    "sns.countplot(x='class', data=df)"
   ]
  },
  {
   "cell_type": "code",
   "execution_count": 101,
   "metadata": {},
   "outputs": [],
   "source": [
    "pd.set_option(\"display.max_rows\", 200)\n",
    "pd.set_option(\"display.max_columns\", 200)"
   ]
  },
  {
   "cell_type": "code",
   "execution_count": 102,
   "metadata": {},
   "outputs": [
    {
     "output_type": "execute_result",
     "data": {
      "text/plain": [
       "0     !!! RT @mayasolovely: As a woman you shouldn't...\n",
       "1     !!!!! RT @mleew17: boy dats cold...tyga dwn ba...\n",
       "2     !!!!!!! RT @UrKindOfBrand Dawg!!!! RT @80sbaby...\n",
       "3     !!!!!!!!! RT @C_G_Anderson: @viva_based she lo...\n",
       "4     !!!!!!!!!!!!! RT @ShenikaRoberts: The shit you...\n",
       "5     !!!!!!!!!!!!!!!!!!\"@T_Madison_x: The shit just...\n",
       "6     !!!!!!\"@__BrighterDays: I can not just sit up ...\n",
       "7     !!!!&#8220;@selfiequeenbri: cause I'm tired of...\n",
       "8     \" &amp; you might not get ya bitch back &amp; ...\n",
       "9     \" @rhythmixx_ :hobbies include: fighting Maria...\n",
       "10    \" Keeks is a bitch she curves everyone \" lol I...\n",
       "11                   \" Murda Gang bitch its Gang Land \"\n",
       "12    \" So hoes that smoke are losers ? \" yea ... go...\n",
       "13        \" bad bitches is the only thing that i like \"\n",
       "14                              \" bitch get up off me \"\n",
       "15                      \" bitch nigga miss me with it \"\n",
       "16                               \" bitch plz whatever \"\n",
       "17                            \" bitch who do you love \"\n",
       "18                   \" bitches get cut off everyday B \"\n",
       "19                   \" black bottle &amp; a bad bitch \"\n",
       "20                 \" broke bitch cant tell me nothing \"\n",
       "21                      \" cancel that bitch like Nino \"\n",
       "22              \" cant you see these hoes wont change \"\n",
       "23    \" fuck no that bitch dont even suck dick \" &#1...\n",
       "24    \" got ya bitch tip toeing on my hardwood floor...\n",
       "25       \" her pussy lips like Heaven doors \" &#128524;\n",
       "26                         \" hoe what its hitting for \"\n",
       "27    \" i met that pussy on Ocean Dr . i gave that p...\n",
       "28       \" i need a trippy bitch who fuck on Hennessy \"\n",
       "29    \" i spend my money how i want bitch its my bus...\n",
       "Name: tweet, dtype: object"
      ]
     },
     "metadata": {},
     "execution_count": 102
    }
   ],
   "source": [
    "df.tweet.head(30)"
   ]
  },
  {
   "cell_type": "code",
   "execution_count": 103,
   "metadata": {},
   "outputs": [
    {
     "output_type": "stream",
     "name": "stdout",
     "text": [
      "                                                   tweet  word_ct\n0      !!! RT @mayasolovely: As a woman you shouldn't...       25\n1      !!!!! RT @mleew17: boy dats cold...tyga dwn ba...       16\n2      !!!!!!! RT @UrKindOfBrand Dawg!!!! RT @80sbaby...       21\n3      !!!!!!!!! RT @C_G_Anderson: @viva_based she lo...        9\n4      !!!!!!!!!!!!! RT @ShenikaRoberts: The shit you...       26\n...                                                  ...      ...\n24778  you's a muthaf***in lie &#8220;@LifeAsKing: @2...       19\n24779  you've gone and broke the wrong heart baby, an...       13\n24780  young buck wanna eat!!.. dat nigguh like I ain...       13\n24781              youu got wild bitches tellin you lies        7\n24782  ~~Ruffled | Ntac Eileen Dahlia - Beautiful col...       18\n\n[24783 rows x 2 columns]\n"
     ]
    }
   ],
   "source": [
    "def num_of_words(df, col):\n",
    "    df['word_ct'] = df[col].apply(lambda x: len(str(x).split(\" \")))\n",
    "    print(df[[col, 'word_ct']])\n",
    "\n",
    "num_of_words(df, 'tweet')"
   ]
  },
  {
   "cell_type": "code",
   "execution_count": 104,
   "metadata": {},
   "outputs": [
    {
     "output_type": "execute_result",
     "data": {
      "text/plain": [
       "9     1398\n",
       "10    1391\n",
       "7     1358\n",
       "11    1340\n",
       "8     1335\n",
       "12    1270\n",
       "13    1232\n",
       "6     1095\n",
       "14    1091\n",
       "16    1063\n",
       "15    1033\n",
       "18    1023\n",
       "5      957\n",
       "17     925\n",
       "19     856\n",
       "21     839\n",
       "20     835\n",
       "22     810\n",
       "23     778\n",
       "4      725\n",
       "24     668\n",
       "25     617\n",
       "26     512\n",
       "3      455\n",
       "27     396\n",
       "28     247\n",
       "2      210\n",
       "29     169\n",
       "30      81\n",
       "31      43\n",
       "32      17\n",
       "1        8\n",
       "33       5\n",
       "36       1\n",
       "Name: word_ct, dtype: int64"
      ]
     },
     "metadata": {},
     "execution_count": 104
    }
   ],
   "source": [
    "df.word_ct.value_counts().sort_values(ascending=False)"
   ]
  },
  {
   "cell_type": "code",
   "execution_count": 105,
   "metadata": {},
   "outputs": [
    {
     "output_type": "stream",
     "name": "stdout",
     "text": [
      "                                                   tweet  char_ct\n0      !!! RT @mayasolovely: As a woman you shouldn't...      140\n1      !!!!! RT @mleew17: boy dats cold...tyga dwn ba...       85\n2      !!!!!!! RT @UrKindOfBrand Dawg!!!! RT @80sbaby...      120\n3      !!!!!!!!! RT @C_G_Anderson: @viva_based she lo...       62\n4      !!!!!!!!!!!!! RT @ShenikaRoberts: The shit you...      137\n...                                                  ...      ...\n24778  you's a muthaf***in lie &#8220;@LifeAsKing: @2...      146\n24779  you've gone and broke the wrong heart baby, an...       70\n24780  young buck wanna eat!!.. dat nigguh like I ain...       67\n24781              youu got wild bitches tellin you lies       37\n24782  ~~Ruffled | Ntac Eileen Dahlia - Beautiful col...      127\n\n[24783 rows x 2 columns]\n"
     ]
    }
   ],
   "source": [
    "def num_of_chars(df, col):\n",
    "    df['char_ct'] = df[col].str.len()\n",
    "    print(df[[col, 'char_ct']])\n",
    "\n",
    "num_of_chars(df, 'tweet')"
   ]
  },
  {
   "cell_type": "code",
   "execution_count": 106,
   "metadata": {},
   "outputs": [
    {
     "output_type": "execute_result",
     "data": {
      "text/plain": [
       "146    794\n",
       "140    423\n",
       "139    277\n",
       "64     246\n",
       "58     245\n",
       "      ... \n",
       "311      1\n",
       "343      1\n",
       "455      1\n",
       "255      1\n",
       "447      1\n",
       "Name: char_ct, Length: 250, dtype: int64"
      ]
     },
     "metadata": {},
     "execution_count": 106
    }
   ],
   "source": [
    "df.char_ct.value_counts().sort_values(ascending=False)"
   ]
  },
  {
   "cell_type": "code",
   "execution_count": 107,
   "metadata": {},
   "outputs": [
    {
     "output_type": "stream",
     "name": "stdout",
     "text": [
      "                                               tweet   avg_wrd\n0  !!! RT @mayasolovely: As a woman you shouldn't...  4.640000\n1  !!!!! RT @mleew17: boy dats cold...tyga dwn ba...  4.375000\n2  !!!!!!! RT @UrKindOfBrand Dawg!!!! RT @80sbaby...  4.761905\n3  !!!!!!!!! RT @C_G_Anderson: @viva_based she lo...  6.000000\n4  !!!!!!!!!!!!! RT @ShenikaRoberts: The shit you...  4.307692\n"
     ]
    }
   ],
   "source": [
    "def avg_word(sentence):\n",
    "    words = sentence.split()\n",
    "    return (sum(len(word) for word in words)/len(words))\n",
    "\n",
    "def avg_word_length(df, col):\n",
    "    df['avg_wrd'] = df[col].apply(lambda x: avg_word(x))\n",
    "    print(df[[col, 'avg_wrd']].head())\n",
    "\n",
    "avg_word_length(df, 'tweet')"
   ]
  },
  {
   "cell_type": "code",
   "execution_count": null,
   "metadata": {},
   "outputs": [],
   "source": []
  },
  {
   "cell_type": "code",
   "execution_count": 108,
   "metadata": {},
   "outputs": [],
   "source": [
    "import nltk\n",
    "from nltk.corpus import stopwords\n",
    "stop = stopwords.words('english')"
   ]
  },
  {
   "cell_type": "code",
   "execution_count": 109,
   "metadata": {},
   "outputs": [
    {
     "output_type": "stream",
     "name": "stdout",
     "text": [
      "                                               tweet  stopwords\n0  !!! RT @mayasolovely: As a woman you shouldn't...         11\n1  !!!!! RT @mleew17: boy dats cold...tyga dwn ba...          3\n2  !!!!!!! RT @UrKindOfBrand Dawg!!!! RT @80sbaby...          6\n3  !!!!!!!!! RT @C_G_Anderson: @viva_based she lo...          2\n4  !!!!!!!!!!!!! RT @ShenikaRoberts: The shit you...         12\n"
     ]
    }
   ],
   "source": [
    "def stop_words(df, col):\n",
    "    df['stopwords'] = df[col].apply(lambda x: len([x for x in x.split() if x in stop]))\n",
    "    print(df[[col, 'stopwords']].head())\n",
    "\n",
    "stop_words(df, 'tweet')"
   ]
  },
  {
   "cell_type": "code",
   "execution_count": 110,
   "metadata": {},
   "outputs": [
    {
     "output_type": "stream",
     "name": "stdout",
     "text": [
      "                                               tweet  hashtags\n0  !!! RT @mayasolovely: As a woman you shouldn't...         0\n1  !!!!! RT @mleew17: boy dats cold...tyga dwn ba...         0\n2  !!!!!!! RT @UrKindOfBrand Dawg!!!! RT @80sbaby...         0\n3  !!!!!!!!! RT @C_G_Anderson: @viva_based she lo...         0\n4  !!!!!!!!!!!!! RT @ShenikaRoberts: The shit you...         0\n"
     ]
    }
   ],
   "source": [
    "def hash_tags(df, col):\n",
    "    df['hashtags'] = df[col].apply(lambda x: len([x for x in x.split() if x.startswith('#')]))\n",
    "    print(df[[col, 'hashtags']].head())\n",
    "\n",
    "hash_tags(df, 'tweet')"
   ]
  },
  {
   "cell_type": "code",
   "execution_count": 111,
   "metadata": {},
   "outputs": [
    {
     "output_type": "execute_result",
     "data": {
      "text/plain": [
       "0     22719\n",
       "1      1422\n",
       "2       384\n",
       "3        99\n",
       "4        82\n",
       "5        31\n",
       "6        16\n",
       "7        14\n",
       "8         8\n",
       "9         4\n",
       "11        3\n",
       "10        1\n",
       "Name: hashtags, dtype: int64"
      ]
     },
     "metadata": {},
     "execution_count": 111
    }
   ],
   "source": [
    "df.hashtags.value_counts()"
   ]
  },
  {
   "cell_type": "code",
   "execution_count": 112,
   "metadata": {},
   "outputs": [
    {
     "output_type": "stream",
     "name": "stdout",
     "text": [
      "                                               tweet  numerics\n0  !!! RT @mayasolovely: As a woman you shouldn't...         0\n1  !!!!! RT @mleew17: boy dats cold...tyga dwn ba...         0\n2  !!!!!!! RT @UrKindOfBrand Dawg!!!! RT @80sbaby...         0\n3  !!!!!!!!! RT @C_G_Anderson: @viva_based she lo...         0\n4  !!!!!!!!!!!!! RT @ShenikaRoberts: The shit you...         0\n"
     ]
    }
   ],
   "source": [
    "def num_numerics(df, col):\n",
    "    df['numerics'] = df[col].apply(lambda x: len([x for x in x.split() if x.isdigit()]))\n",
    "    print(df[[col, 'numerics']].head())\n",
    "\n",
    "num_numerics(df, 'tweet')"
   ]
  },
  {
   "cell_type": "code",
   "execution_count": 113,
   "metadata": {},
   "outputs": [
    {
     "output_type": "execute_result",
     "data": {
      "text/plain": [
       "0    23634\n",
       "1      961\n",
       "2      159\n",
       "3       20\n",
       "4        7\n",
       "5        2\n",
       "Name: numerics, dtype: int64"
      ]
     },
     "metadata": {},
     "execution_count": 113
    }
   ],
   "source": [
    "df.numerics.value_counts()"
   ]
  },
  {
   "cell_type": "code",
   "execution_count": 114,
   "metadata": {},
   "outputs": [
    {
     "output_type": "stream",
     "name": "stdout",
     "text": [
      "                                               tweet  callouts\n0  !!! RT @mayasolovely: As a woman you shouldn't...         1\n1  !!!!! RT @mleew17: boy dats cold...tyga dwn ba...         1\n2  !!!!!!! RT @UrKindOfBrand Dawg!!!! RT @80sbaby...         2\n3  !!!!!!!!! RT @C_G_Anderson: @viva_based she lo...         2\n4  !!!!!!!!!!!!! RT @ShenikaRoberts: The shit you...         1\n"
     ]
    }
   ],
   "source": [
    "def num_callouts(df, col):\n",
    "    df['callouts'] = df[col].apply(lambda x: len([x for x in x.split() if x.startswith('@')]))\n",
    "    print(df[[col, 'callouts']].head())\n",
    "\n",
    "num_callouts(df, 'tweet')"
   ]
  },
  {
   "cell_type": "code",
   "execution_count": 115,
   "metadata": {},
   "outputs": [
    {
     "output_type": "execute_result",
     "data": {
      "text/plain": [
       "0     11680\n",
       "1     10355\n",
       "2      1982\n",
       "3       537\n",
       "4       135\n",
       "5        42\n",
       "6        37\n",
       "7         8\n",
       "9         3\n",
       "8         3\n",
       "10        1\n",
       "Name: callouts, dtype: int64"
      ]
     },
     "metadata": {},
     "execution_count": 115
    }
   ],
   "source": [
    "df.callouts.value_counts()"
   ]
  },
  {
   "cell_type": "code",
   "execution_count": null,
   "metadata": {},
   "outputs": [],
   "source": []
  },
  {
   "cell_type": "code",
   "execution_count": 165,
   "metadata": {},
   "outputs": [
    {
     "output_type": "execute_result",
     "data": {
      "text/plain": [
       "   count  hate  offensive  neither  class  \\\n",
       "0      3     0          0        3      2   \n",
       "1      3     0          3        0      1   \n",
       "2      3     0          3        0      1   \n",
       "3      3     0          2        1      1   \n",
       "4      6     0          6        0      1   \n",
       "\n",
       "                                               tweet  word_ct  char_ct  \\\n",
       "0  !!! RT @mayasolovely: As a woman you shouldn't...       25      140   \n",
       "1  !!!!! RT @mleew17: boy dats cold...tyga dwn ba...       16       85   \n",
       "2  !!!!!!! RT @UrKindOfBrand Dawg!!!! RT @80sbaby...       21      120   \n",
       "3  !!!!!!!!! RT @C_G_Anderson: @viva_based she lo...        9       62   \n",
       "4  !!!!!!!!!!!!! RT @ShenikaRoberts: The shit you...       26      137   \n",
       "\n",
       "    avg_wrd  stopwords  hashtags  numerics  callouts  \n",
       "0  4.640000         11         0         0         1  \n",
       "1  4.375000          3         0         0         1  \n",
       "2  4.761905          6         0         0         2  \n",
       "3  6.000000          2         0         0         2  \n",
       "4  4.307692         12         0         0         1  "
      ],
      "text/html": "<div>\n<style scoped>\n    .dataframe tbody tr th:only-of-type {\n        vertical-align: middle;\n    }\n\n    .dataframe tbody tr th {\n        vertical-align: top;\n    }\n\n    .dataframe thead th {\n        text-align: right;\n    }\n</style>\n<table border=\"1\" class=\"dataframe\">\n  <thead>\n    <tr style=\"text-align: right;\">\n      <th></th>\n      <th>count</th>\n      <th>hate</th>\n      <th>offensive</th>\n      <th>neither</th>\n      <th>class</th>\n      <th>tweet</th>\n      <th>word_ct</th>\n      <th>char_ct</th>\n      <th>avg_wrd</th>\n      <th>stopwords</th>\n      <th>hashtags</th>\n      <th>numerics</th>\n      <th>callouts</th>\n    </tr>\n  </thead>\n  <tbody>\n    <tr>\n      <th>0</th>\n      <td>3</td>\n      <td>0</td>\n      <td>0</td>\n      <td>3</td>\n      <td>2</td>\n      <td>!!! RT @mayasolovely: As a woman you shouldn't...</td>\n      <td>25</td>\n      <td>140</td>\n      <td>4.640000</td>\n      <td>11</td>\n      <td>0</td>\n      <td>0</td>\n      <td>1</td>\n    </tr>\n    <tr>\n      <th>1</th>\n      <td>3</td>\n      <td>0</td>\n      <td>3</td>\n      <td>0</td>\n      <td>1</td>\n      <td>!!!!! RT @mleew17: boy dats cold...tyga dwn ba...</td>\n      <td>16</td>\n      <td>85</td>\n      <td>4.375000</td>\n      <td>3</td>\n      <td>0</td>\n      <td>0</td>\n      <td>1</td>\n    </tr>\n    <tr>\n      <th>2</th>\n      <td>3</td>\n      <td>0</td>\n      <td>3</td>\n      <td>0</td>\n      <td>1</td>\n      <td>!!!!!!! RT @UrKindOfBrand Dawg!!!! RT @80sbaby...</td>\n      <td>21</td>\n      <td>120</td>\n      <td>4.761905</td>\n      <td>6</td>\n      <td>0</td>\n      <td>0</td>\n      <td>2</td>\n    </tr>\n    <tr>\n      <th>3</th>\n      <td>3</td>\n      <td>0</td>\n      <td>2</td>\n      <td>1</td>\n      <td>1</td>\n      <td>!!!!!!!!! RT @C_G_Anderson: @viva_based she lo...</td>\n      <td>9</td>\n      <td>62</td>\n      <td>6.000000</td>\n      <td>2</td>\n      <td>0</td>\n      <td>0</td>\n      <td>2</td>\n    </tr>\n    <tr>\n      <th>4</th>\n      <td>6</td>\n      <td>0</td>\n      <td>6</td>\n      <td>0</td>\n      <td>1</td>\n      <td>!!!!!!!!!!!!! RT @ShenikaRoberts: The shit you...</td>\n      <td>26</td>\n      <td>137</td>\n      <td>4.307692</td>\n      <td>12</td>\n      <td>0</td>\n      <td>0</td>\n      <td>1</td>\n    </tr>\n  </tbody>\n</table>\n</div>"
     },
     "metadata": {},
     "execution_count": 165
    }
   ],
   "source": [
    "df2 = df.copy()\n",
    "df2.head()"
   ]
  },
  {
   "cell_type": "code",
   "execution_count": 166,
   "metadata": {},
   "outputs": [
    {
     "output_type": "execute_result",
     "data": {
      "text/plain": [
       "0    !!! RT @mayasolovely: As a woman you shouldn't...\n",
       "1    !!!!! RT @mleew17: boy dats cold...tyga dwn ba...\n",
       "2    !!!!!!! RT @UrKindOfBrand Dawg!!!! RT @80sbaby...\n",
       "3    !!!!!!!!! RT @C_G_Anderson: @viva_based she lo...\n",
       "4    !!!!!!!!!!!!! RT @ShenikaRoberts: The shit you...\n",
       "Name: tweet, dtype: object"
      ]
     },
     "metadata": {},
     "execution_count": 166
    }
   ],
   "source": [
    "tw = df.tweet\n",
    "tw.head()"
   ]
  },
  {
   "cell_type": "code",
   "execution_count": 167,
   "metadata": {},
   "outputs": [
    {
     "output_type": "execute_result",
     "data": {
      "text/plain": [
       "0                    [@mayasolovely:]\n",
       "1                         [@mleew17:]\n",
       "2    [@UrKindOfBrand, @80sbaby4life:]\n",
       "3       [@C_G_Anderson:, @viva_based]\n",
       "4                  [@ShenikaRoberts:]\n",
       "Name: callouts, dtype: object"
      ]
     },
     "metadata": {},
     "execution_count": 167
    }
   ],
   "source": [
    "import re\n",
    "\n",
    "df2['callouts'] = df2.tweet.apply(lambda x: re.findall(r'@[\\S]+', str(x)))\n",
    "df2['callouts'].head()"
   ]
  },
  {
   "cell_type": "code",
   "execution_count": 168,
   "metadata": {},
   "outputs": [
    {
     "output_type": "execute_result",
     "data": {
      "text/plain": [
       "0                      '@mayasolovely:'\n",
       "1                           '@mleew17:'\n",
       "2    '@UrKindOfBrand', '@80sbaby4life:'\n",
       "3       '@C_G_Anderson:', '@viva_based'\n",
       "4                    '@ShenikaRoberts:'\n",
       "Name: callouts, dtype: object"
      ]
     },
     "metadata": {},
     "execution_count": 168
    }
   ],
   "source": [
    "df2.callouts = df2.callouts.apply(lambda x: str(x)[1:-1])\n",
    "df2.callouts.head()"
   ]
  },
  {
   "cell_type": "code",
   "execution_count": 169,
   "metadata": {},
   "outputs": [
    {
     "output_type": "execute_result",
     "data": {
      "text/plain": [
       "0     !!! RT  As a woman you shouldn't complain abou...\n",
       "1     !!!!! RT  boy dats cold...tyga dwn bad for cuf...\n",
       "2     !!!!!!! RT  Dawg!!!! RT  You ever fuck a bitch...\n",
       "3                 !!!!!!!!! RT   she look like a tranny\n",
       "4     !!!!!!!!!!!!! RT  The shit you hear about me m...\n",
       "5     !!!!!!!!!!!!!!!!!!\" The shit just blows me..cl...\n",
       "6     !!!!!!\" I can not just sit up and HATE on anot...\n",
       "7     !!!!&#8220; cause I'm tired of you big bitches...\n",
       "8     \" &amp; you might not get ya bitch back &amp; ...\n",
       "9        \"  :hobbies include: fighting Mariam\"\\n\\nbitch\n",
       "10    \" Keeks is a bitch she curves everyone \" lol I...\n",
       "11                   \" Murda Gang bitch its Gang Land \"\n",
       "12    \" So hoes that smoke are losers ? \" yea ... go...\n",
       "13        \" bad bitches is the only thing that i like \"\n",
       "14                              \" bitch get up off me \"\n",
       "15                      \" bitch nigga miss me with it \"\n",
       "16                               \" bitch plz whatever \"\n",
       "17                            \" bitch who do you love \"\n",
       "18                   \" bitches get cut off everyday B \"\n",
       "19                   \" black bottle &amp; a bad bitch \"\n",
       "20                 \" broke bitch cant tell me nothing \"\n",
       "21                      \" cancel that bitch like Nino \"\n",
       "22              \" cant you see these hoes wont change \"\n",
       "23    \" fuck no that bitch dont even suck dick \" &#1...\n",
       "24    \" got ya bitch tip toeing on my hardwood floor...\n",
       "25       \" her pussy lips like Heaven doors \" &#128524;\n",
       "26                         \" hoe what its hitting for \"\n",
       "27    \" i met that pussy on Ocean Dr . i gave that p...\n",
       "28       \" i need a trippy bitch who fuck on Hennessy \"\n",
       "29    \" i spend my money how i want bitch its my bus...\n",
       "Name: tweet, dtype: object"
      ]
     },
     "metadata": {},
     "execution_count": 169
    }
   ],
   "source": [
    "df2.tweet = df2.tweet.apply(lambda x: re.sub(r'@[\\S]+', '', str(x)))\n",
    "df2.tweet.head(30)"
   ]
  },
  {
   "cell_type": "code",
   "execution_count": 170,
   "metadata": {},
   "outputs": [
    {
     "output_type": "execute_result",
     "data": {
      "text/plain": [
       "0       [&amp;]\n",
       "1            []\n",
       "2            []\n",
       "3            []\n",
       "4    [&#57361;]\n",
       "Name: emojis, dtype: object"
      ]
     },
     "metadata": {},
     "execution_count": 170
    }
   ],
   "source": [
    "df2['emojis'] = df2.tweet.apply(lambda x: re.findall(r'&[\\S]+?;', str(x)))\n",
    "df2.emojis.head()"
   ]
  },
  {
   "cell_type": "code",
   "execution_count": 171,
   "metadata": {},
   "outputs": [
    {
     "output_type": "execute_result",
     "data": {
      "text/plain": [
       "0       '&amp;'\n",
       "1              \n",
       "2              \n",
       "3              \n",
       "4    '&#57361;'\n",
       "Name: emojis, dtype: object"
      ]
     },
     "metadata": {},
     "execution_count": 171
    }
   ],
   "source": [
    "df2.emojis = df2.emojis.apply(lambda x: str(x)[1:-1])\n",
    "df2.emojis.head()"
   ]
  },
  {
   "cell_type": "code",
   "execution_count": 172,
   "metadata": {},
   "outputs": [
    {
     "output_type": "execute_result",
     "data": {
      "text/plain": [
       "                                                                                                                   18164\n",
       "'&#8230;'                                                                                                            838\n",
       "'&#8220;', '&#8221;'                                                                                                 674\n",
       "'&amp;'                                                                                                              430\n",
       "'&#128514;'                                                                                                          220\n",
       "                                                                                                                   ...  \n",
       "'&#8217;', '&#128563;', '&#128534;', '&#8220;'                                                                         1\n",
       "'&#8220;', '&#128149;', '&#128153;', '&#8221;'                                                                         1\n",
       "'&#128525;', '&#8220;', '&#128520;', '&#128520;', '&#128073;', '&#128073;', '&#128072;', '&#128072;', '&#8230;'        1\n",
       "'&#1043323;'                                                                                                           1\n",
       "'&#127821;', '&#128520;', '&#128127;', '&#128127;', '&#128520;', '&#128127;', '&#128127;', '&#128127;'                 1\n",
       "Name: emojis, Length: 2093, dtype: int64"
      ]
     },
     "metadata": {},
     "execution_count": 172
    }
   ],
   "source": [
    "df2.emojis.value_counts()"
   ]
  },
  {
   "cell_type": "code",
   "execution_count": 173,
   "metadata": {},
   "outputs": [
    {
     "output_type": "execute_result",
     "data": {
      "text/plain": [
       "0     !!! RT  As a woman you shouldn't complain abou...\n",
       "1     !!!!! RT  boy dats cold...tyga dwn bad for cuf...\n",
       "2     !!!!!!! RT  Dawg!!!! RT  You ever fuck a bitch...\n",
       "3                 !!!!!!!!! RT   she look like a tranny\n",
       "4     !!!!!!!!!!!!! RT  The shit you hear about me m...\n",
       "5     !!!!!!!!!!!!!!!!!!\" The shit just blows me..cl...\n",
       "6     !!!!!!\" I can not just sit up and HATE on anot...\n",
       "7     !!!! cause I'm tired of you big bitches coming...\n",
       "8      \"  you might not get ya bitch back  thats that \"\n",
       "9        \"  :hobbies include: fighting Mariam\"\\n\\nbitch\n",
       "10    \" Keeks is a bitch she curves everyone \" lol I...\n",
       "11                   \" Murda Gang bitch its Gang Land \"\n",
       "12    \" So hoes that smoke are losers ? \" yea ... go...\n",
       "13        \" bad bitches is the only thing that i like \"\n",
       "14                              \" bitch get up off me \"\n",
       "15                      \" bitch nigga miss me with it \"\n",
       "16                               \" bitch plz whatever \"\n",
       "17                            \" bitch who do you love \"\n",
       "18                   \" bitches get cut off everyday B \"\n",
       "19                        \" black bottle  a bad bitch \"\n",
       "20                 \" broke bitch cant tell me nothing \"\n",
       "21                      \" cancel that bitch like Nino \"\n",
       "22              \" cant you see these hoes wont change \"\n",
       "23    \" fuck no that bitch dont even suck dick \"  th...\n",
       "24    \" got ya bitch tip toeing on my hardwood floor...\n",
       "25                \" her pussy lips like Heaven doors \" \n",
       "26                         \" hoe what its hitting for \"\n",
       "27    \" i met that pussy on Ocean Dr . i gave that p...\n",
       "28       \" i need a trippy bitch who fuck on Hennessy \"\n",
       "29    \" i spend my money how i want bitch its my bus...\n",
       "Name: tweet, dtype: object"
      ]
     },
     "metadata": {},
     "execution_count": 173
    }
   ],
   "source": [
    "df2.tweet = df2.tweet.apply(lambda x: re.sub(r'&[\\S]+?;', '', str(x)))\n",
    "df2.tweet.head(30)"
   ]
  },
  {
   "cell_type": "code",
   "execution_count": 174,
   "metadata": {},
   "outputs": [
    {
     "output_type": "execute_result",
     "data": {
      "text/plain": [
       "                                                                                                                                               22688\n",
       "('', '', '#Yankees')                                                                                                                              27\n",
       "('', '#Yankees', '')                                                                                                                              12\n",
       "('', '', '#tbt')                                                                                                                                  10\n",
       "('', '#bitch', '')                                                                                                                                 8\n",
       "                                                                                                                                               ...  \n",
       "('', '#LosAngeles', '')                                                                                                                            1\n",
       "('', '', '#dollywood')                                                                                                                             1\n",
       "('', '', '#giantduck'), ('', '', '#pittsburghduck'), ('', '', '#yellow'), ('', '', '#livestream'), ('', '', '#wpxi'), ('', '', '#nofliter')        1\n",
       "('', '', '#BlueBloods.')                                                                                                                           1\n",
       "('', '', '#stribpol'), ('', '#mngop', '')                                                                                                          1\n",
       "Name: hash, Length: 1832, dtype: int64"
      ]
     },
     "metadata": {},
     "execution_count": 174
    }
   ],
   "source": [
    "df2['hash'] = df2.tweet.apply(lambda x: re.findall(r'(#\\w*,)|(#\\w*$)|(#[\\S]+)', str(x)))\n",
    "df2.hash = df2.hash.apply(lambda x: str(x)[1:-1])\n",
    "df2.hash.value_counts()"
   ]
  },
  {
   "cell_type": "code",
   "execution_count": 175,
   "metadata": {},
   "outputs": [
    {
     "output_type": "execute_result",
     "data": {
      "text/plain": [
       "0     !!! RT  As a woman you shouldn't complain abou...\n",
       "1     !!!!! RT  boy dats cold...tyga dwn bad for cuf...\n",
       "2     !!!!!!! RT  Dawg!!!! RT  You ever fuck a bitch...\n",
       "3                 !!!!!!!!! RT   she look like a tranny\n",
       "4     !!!!!!!!!!!!! RT  The shit you hear about me m...\n",
       "5     !!!!!!!!!!!!!!!!!!\" The shit just blows me..cl...\n",
       "6     !!!!!!\" I can not just sit up and HATE on anot...\n",
       "7     !!!! cause I'm tired of you big bitches coming...\n",
       "8      \"  you might not get ya bitch back  thats that \"\n",
       "9        \"  :hobbies include: fighting Mariam\"\\n\\nbitch\n",
       "10    \" Keeks is a bitch she curves everyone \" lol I...\n",
       "11                   \" Murda Gang bitch its Gang Land \"\n",
       "12    \" So hoes that smoke are losers ? \" yea ... go...\n",
       "13        \" bad bitches is the only thing that i like \"\n",
       "14                              \" bitch get up off me \"\n",
       "15                      \" bitch nigga miss me with it \"\n",
       "16                               \" bitch plz whatever \"\n",
       "17                            \" bitch who do you love \"\n",
       "18                   \" bitches get cut off everyday B \"\n",
       "19                        \" black bottle  a bad bitch \"\n",
       "Name: tweet, dtype: object"
      ]
     },
     "metadata": {},
     "execution_count": 175
    }
   ],
   "source": [
    "df2.tweet = df2.tweet.apply(lambda x: re.sub(r'(#\\w*,)|(#\\w*$)|(#[\\S]+)', '', str(x)))"
   ]
  },
  {
   "cell_type": "code",
   "execution_count": 176,
   "metadata": {},
   "outputs": [
    {
     "output_type": "execute_result",
     "data": {
      "text/plain": [
       "0     !!!   As a woman you shouldn't complain about ...\n",
       "1     !!!!!   boy dats cold...tyga dwn bad for cuffi...\n",
       "2     !!!!!!!   Dawg!!!!   You ever fuck a bitch and...\n",
       "3                   !!!!!!!!!    she look like a tranny\n",
       "4     !!!!!!!!!!!!!   The shit you hear about me mig...\n",
       "5     !!!!!!!!!!!!!!!!!!\" The shit just blows me..cl...\n",
       "6     !!!!!!\" I can not just sit up and HATE on anot...\n",
       "7     !!!! cause I'm tired of you big bitches coming...\n",
       "8      \"  you might not get ya bitch back  thats that \"\n",
       "9        \"  :hobbies include: fighting Mariam\"\\n\\nbitch\n",
       "10    \" Keeks is a bitch she curves everyone \" lol I...\n",
       "11                   \" Murda Gang bitch its Gang Land \"\n",
       "12    \" So hoes that smoke are losers ? \" yea ... go...\n",
       "13        \" bad bitches is the only thing that i like \"\n",
       "14                              \" bitch get up off me \"\n",
       "15                      \" bitch nigga miss me with it \"\n",
       "16                               \" bitch plz whatever \"\n",
       "17                            \" bitch who do you love \"\n",
       "18                   \" bitches get cut off everyday B \"\n",
       "19                        \" black bottle  a bad bitch \"\n",
       "20                 \" broke bitch cant tell me nothing \"\n",
       "21                      \" cancel that bitch like Nino \"\n",
       "22              \" cant you see these hoes wont change \"\n",
       "23    \" fuck no that bitch dont even suck dick \"  th...\n",
       "24    \" got ya bitch tip toeing on my hardwood floor...\n",
       "25                \" her pussy lips like Heaven doors \" \n",
       "26                         \" hoe what its hitting for \"\n",
       "27    \" i met that pussy on Ocean Dr . i gave that p...\n",
       "28       \" i need a trippy bitch who fuck on Hennessy \"\n",
       "29    \" i spend my money how i want bitch its my bus...\n",
       "Name: tweet, dtype: object"
      ]
     },
     "metadata": {},
     "execution_count": 176
    }
   ],
   "source": [
    "df2.tweet = df2.tweet.apply(lambda x: re.sub(r'(\\bRT\\b|\\bQT\\b)', '', str(x)))\n",
    "df2.tweet.head(30)"
   ]
  },
  {
   "cell_type": "code",
   "execution_count": 178,
   "metadata": {},
   "outputs": [
    {
     "output_type": "execute_result",
     "data": {
      "text/plain": [
       "                            21771\n",
       "'http://'                      18\n",
       "'http://t.co/'                 14\n",
       "'http://t.c'                   13\n",
       "'http://t'                     13\n",
       "                            ...  \n",
       "'http://t.co/R4LW4KKfr1'        1\n",
       "'http://t.co/215E0H0PS9'        1\n",
       "'http://t.co/6Fm6UIgKdm'        1\n",
       "'http://t.co/LtDBNLmOVu'        1\n",
       "'http://t.co/62URiSgiQ1'        1\n",
       "Name: urls, Length: 2908, dtype: int64"
      ]
     },
     "metadata": {},
     "execution_count": 178
    }
   ],
   "source": [
    "df2['urls'] = df2.tweet.apply(lambda x: re.findall(r'http[\\S]+', str(x)))\n",
    "df2.urls = df2.urls.apply(lambda x: str(x)[1:-1])\n",
    "df2.urls.value_counts()"
   ]
  },
  {
   "cell_type": "code",
   "execution_count": 179,
   "metadata": {},
   "outputs": [
    {
     "output_type": "execute_result",
     "data": {
      "text/plain": [
       "0     !!!   As a woman you shouldn't complain about ...\n",
       "1     !!!!!   boy dats cold...tyga dwn bad for cuffi...\n",
       "2     !!!!!!!   Dawg!!!!   You ever fuck a bitch and...\n",
       "3                   !!!!!!!!!    she look like a tranny\n",
       "4     !!!!!!!!!!!!!   The shit you hear about me mig...\n",
       "5     !!!!!!!!!!!!!!!!!!\" The shit just blows me..cl...\n",
       "6     !!!!!!\" I can not just sit up and HATE on anot...\n",
       "7     !!!! cause I'm tired of you big bitches coming...\n",
       "8      \"  you might not get ya bitch back  thats that \"\n",
       "9        \"  :hobbies include: fighting Mariam\"\\n\\nbitch\n",
       "10    \" Keeks is a bitch she curves everyone \" lol I...\n",
       "11                   \" Murda Gang bitch its Gang Land \"\n",
       "12    \" So hoes that smoke are losers ? \" yea ... go...\n",
       "13        \" bad bitches is the only thing that i like \"\n",
       "14                              \" bitch get up off me \"\n",
       "15                      \" bitch nigga miss me with it \"\n",
       "16                               \" bitch plz whatever \"\n",
       "17                            \" bitch who do you love \"\n",
       "18                   \" bitches get cut off everyday B \"\n",
       "19                        \" black bottle  a bad bitch \"\n",
       "20                 \" broke bitch cant tell me nothing \"\n",
       "21                      \" cancel that bitch like Nino \"\n",
       "22              \" cant you see these hoes wont change \"\n",
       "23    \" fuck no that bitch dont even suck dick \"  th...\n",
       "24    \" got ya bitch tip toeing on my hardwood floor...\n",
       "25                \" her pussy lips like Heaven doors \" \n",
       "26                         \" hoe what its hitting for \"\n",
       "27    \" i met that pussy on Ocean Dr . i gave that p...\n",
       "28       \" i need a trippy bitch who fuck on Hennessy \"\n",
       "29    \" i spend my money how i want bitch its my bus...\n",
       "Name: tweet, dtype: object"
      ]
     },
     "metadata": {},
     "execution_count": 179
    }
   ],
   "source": [
    "df2.tweet = df2.tweet.apply(lambda x: re.sub(r'http[\\S]+', '', str(x)))\n",
    "df2.tweet.head(30)"
   ]
  },
  {
   "cell_type": "code",
   "execution_count": 180,
   "metadata": {},
   "outputs": [
    {
     "output_type": "execute_result",
     "data": {
      "text/plain": [
       "0        As a woman you shouldnt complain about clea...\n",
       "1        boy dats coldtyga dwn bad for cuffin dat ho...\n",
       "2        Dawg   You ever fuck a bitch and she start ...\n",
       "3                                she look like a tranny\n",
       "4        The shit you hear about me might be true or...\n",
       "5      The shit just blows meclaim you so faithful a...\n",
       "6      I can not just sit up and HATE on another bit...\n",
       "7      cause Im tired of you big bitches coming for ...\n",
       "8          you might not get ya bitch back  thats that \n",
       "9              hobbies include fighting Mariam\\n\\nbitch\n",
       "10     Keeks is a bitch she curves everyone  lol I w...\n",
       "11                      Murda Gang bitch its Gang Land \n",
       "12        So hoes that smoke are losers   yea  go on IG\n",
       "13           bad bitches is the only thing that i like \n",
       "14                                 bitch get up off me \n",
       "15                         bitch nigga miss me with it \n",
       "16                                  bitch plz whatever \n",
       "17                               bitch who do you love \n",
       "18                      bitches get cut off everyday B \n",
       "19                           black bottle  a bad bitch \n",
       "20                    broke bitch cant tell me nothing \n",
       "21                         cancel that bitch like Nino \n",
       "22                 cant you see these hoes wont change \n",
       "23     fuck no that bitch dont even suck dick   the ...\n",
       "24     got ya bitch tip toeing on my hardwood floors   \n",
       "25                   her pussy lips like Heaven doors  \n",
       "26                            hoe what its hitting for \n",
       "27     i met that pussy on Ocean Dr  i gave that pus...\n",
       "28          i need a trippy bitch who fuck on Hennessy \n",
       "29     i spend my money how i want bitch its my busi...\n",
       "Name: tweet, dtype: object"
      ]
     },
     "metadata": {},
     "execution_count": 180
    }
   ],
   "source": [
    "df2.tweet = df2.tweet.apply(lambda x: re.sub(r'[^\\w\\s]', r'', str(x)))\n",
    "df2.tweet.head(30)"
   ]
  },
  {
   "cell_type": "code",
   "execution_count": 181,
   "metadata": {},
   "outputs": [
    {
     "output_type": "execute_result",
     "data": {
      "text/plain": [
       "0     as a woman you shouldnt complain about cleanin...\n",
       "1     boy dats coldtyga dwn bad for cuffin dat hoe i...\n",
       "2     dawg you ever fuck a bitch and she start to cr...\n",
       "3                                she look like a tranny\n",
       "4     the shit you hear about me might be true or it...\n",
       "5     the shit just blows meclaim you so faithful an...\n",
       "6     i can not just sit up and hate on another bitc...\n",
       "7     cause im tired of you big bitches coming for u...\n",
       "8            you might not get ya bitch back thats that\n",
       "9                 hobbies include fighting mariam bitch\n",
       "10    keeks is a bitch she curves everyone lol i wal...\n",
       "11                       murda gang bitch its gang land\n",
       "12           so hoes that smoke are losers yea go on ig\n",
       "13            bad bitches is the only thing that i like\n",
       "14                                  bitch get up off me\n",
       "15                          bitch nigga miss me with it\n",
       "16                                   bitch plz whatever\n",
       "17                                bitch who do you love\n",
       "18                       bitches get cut off everyday b\n",
       "19                             black bottle a bad bitch\n",
       "20                     broke bitch cant tell me nothing\n",
       "21                          cancel that bitch like nino\n",
       "22                  cant you see these hoes wont change\n",
       "23    fuck no that bitch dont even suck dick the ker...\n",
       "24        got ya bitch tip toeing on my hardwood floors\n",
       "25                     her pussy lips like heaven doors\n",
       "26                             hoe what its hitting for\n",
       "27    i met that pussy on ocean dr i gave that pussy...\n",
       "28           i need a trippy bitch who fuck on hennessy\n",
       "29    i spend my money how i want bitch its my business\n",
       "Name: tweet, dtype: object"
      ]
     },
     "metadata": {},
     "execution_count": 181
    }
   ],
   "source": [
    "# lower casing\n",
    "df2.tweet = df2.tweet.apply(lambda x: \" \".join(x.lower() for x in x.split()))\n",
    "df2.tweet.head(30)"
   ]
  },
  {
   "cell_type": "code",
   "execution_count": 182,
   "metadata": {},
   "outputs": [
    {
     "output_type": "execute_result",
     "data": {
      "text/plain": [
       "0     as a woman you shouldnt complain about cleanin...\n",
       "1     boy dats coldtyga dwn bad for cuffin dat hoe i...\n",
       "2     dawg you ever fuck a bitch and she start to cr...\n",
       "3                                she look like a tranny\n",
       "4     the shit you hear about me might be true or it...\n",
       "5     the shit just blows meclaim you so faithful an...\n",
       "6     i can not just sit up and hate on another bitc...\n",
       "7     cause im tired of you big bitches coming for u...\n",
       "8            you might not get ya bitch back thats that\n",
       "9                 hobbies include fighting mariam bitch\n",
       "10    keeks is a bitch she curves everyone lol i wal...\n",
       "11                       murda gang bitch its gang land\n",
       "12           so hoes that smoke are losers yea go on ig\n",
       "13            bad bitches is the only thing that i like\n",
       "14                                  bitch get up off me\n",
       "15                          bitch nigga miss me with it\n",
       "16                                   bitch plz whatever\n",
       "17                                bitch who do you love\n",
       "18                       bitches get cut off everyday b\n",
       "19                             black bottle a bad bitch\n",
       "20                     broke bitch cant tell me nothing\n",
       "21                          cancel that bitch like nino\n",
       "22                  cant you see these hoes wont change\n",
       "23    fuck no that bitch dont even suck dick the ker...\n",
       "24        got ya bitch tip toeing on my hardwood floors\n",
       "25                     her pussy lips like heaven doors\n",
       "26                             hoe what its hitting for\n",
       "27    i met that pussy on ocean dr i gave that pussy...\n",
       "28           i need a trippy bitch who fuck on hennessy\n",
       "29    i spend my money how i want bitch its my business\n",
       "Name: tweet, dtype: object"
      ]
     },
     "metadata": {},
     "execution_count": 182
    }
   ],
   "source": [
    "# remove numbers or words with digits  \n",
    "df2.tweet = df2.tweet.apply(lambda x: re.sub(r'\\w*\\d\\w*', r'', str(x)))\n",
    "df2.tweet.head(30)"
   ]
  },
  {
   "cell_type": "code",
   "execution_count": 183,
   "metadata": {},
   "outputs": [
    {
     "output_type": "execute_result",
     "data": {
      "text/plain": [
       "0     as a woman you shouldnt complain about cleanin...\n",
       "1     boy dats coldtyga dwn bad for cuffin dat hoe i...\n",
       "2     dawg you ever fuck a bitch and she start to cr...\n",
       "3                                she look like a tranny\n",
       "4     the shit you hear about me might be true or it...\n",
       "5     the shit just blows meclaim you so faithful an...\n",
       "6     i can not just sit up and hate on another bitc...\n",
       "7     cause im tired of you big bitches coming for u...\n",
       "8            you might not get ya bitch back thats that\n",
       "9                 hobbies include fighting mariam bitch\n",
       "10    keeks is a bitch she curves everyone lol i wal...\n",
       "11                       murda gang bitch its gang land\n",
       "12           so hoes that smoke are losers yea go on ig\n",
       "13            bad bitches is the only thing that i like\n",
       "14                                  bitch get up off me\n",
       "15                          bitch nigga miss me with it\n",
       "16                                   bitch plz whatever\n",
       "17                                bitch who do you love\n",
       "18                       bitches get cut off everyday b\n",
       "19                             black bottle a bad bitch\n",
       "20                     broke bitch cant tell me nothing\n",
       "21                          cancel that bitch like nino\n",
       "22                  cant you see these hoes wont change\n",
       "23    fuck no that bitch dont even suck dick the ker...\n",
       "24        got ya bitch tip toeing on my hardwood floors\n",
       "25                     her pussy lips like heaven doors\n",
       "26                             hoe what its hitting for\n",
       "27    i met that pussy on ocean dr i gave that pussy...\n",
       "28           i need a trippy bitch who fuck on hennessy\n",
       "29    i spend my money how i want bitch its my business\n",
       "Name: tweet, dtype: object"
      ]
     },
     "metadata": {},
     "execution_count": 183
    }
   ],
   "source": [
    "# remove any double or more whitespaces to single whitespaces\n",
    "df2.tweet = df2.tweet.apply(lambda x: re.sub(r'\\s\\s+', ' ', str(x)))\n",
    "df2.tweet.head(30)"
   ]
  },
  {
   "cell_type": "code",
   "execution_count": 154,
   "metadata": {},
   "outputs": [
    {
     "output_type": "execute_result",
     "data": {
      "text/plain": [
       "0     as a woman you shouldnt complain about cleanin...\n",
       "1     boy dats coldtyga dwn bad for cuffin dat hoe i...\n",
       "2     dawg you ever fuck a bitch and she start to cr...\n",
       "3                                she look like a tranny\n",
       "4     the shit you hear about me might be true or it...\n",
       "5     the shit just blows meclaim you so faithful an...\n",
       "6     i can not just sit up and hate on another bitc...\n",
       "7     cause im tired of you big bitches coming for u...\n",
       "8            you might not get ya bitch back thats that\n",
       "9                 hobbies include fighting mariam bitch\n",
       "10    keeks is a bitch she curves everyone lol i wal...\n",
       "11                       murda gang bitch its gang land\n",
       "12           so hoes that smoke are losers yea go on ig\n",
       "13            bad bitches is the only thing that i like\n",
       "14                                  bitch get up off me\n",
       "15                          bitch nigga miss me with it\n",
       "16                                   bitch plz whatever\n",
       "17                                bitch who do you love\n",
       "18                       bitches get cut off everyday b\n",
       "19                             black bottle a bad bitch\n",
       "20                     broke bitch cant tell me nothing\n",
       "21                          cancel that bitch like nino\n",
       "22                  cant you see these hoes wont change\n",
       "23    fuck no that bitch dont even suck dick the ker...\n",
       "24        got ya bitch tip toeing on my hardwood floors\n",
       "25                     her pussy lips like heaven doors\n",
       "26                             hoe what its hitting for\n",
       "27    i met that pussy on ocean dr i gave that pussy...\n",
       "28           i need a trippy bitch who fuck on hennessy\n",
       "29    i spend my money how i want bitch its my business\n",
       "Name: tweet, dtype: object"
      ]
     },
     "metadata": {},
     "execution_count": 154
    }
   ],
   "source": [
    "# remove any leading and trailing whitespace\n",
    "df2.tweet = df2.tweet.apply(lambda x: re.sub(r'(\\A\\s+|\\s+\\Z)', '', str(x)))\n",
    "df2.tweet.head(30)"
   ]
  },
  {
   "cell_type": "code",
   "execution_count": 221,
   "metadata": {},
   "outputs": [],
   "source": [
    "df3 = df.copy()"
   ]
  },
  {
   "cell_type": "code",
   "execution_count": 225,
   "metadata": {},
   "outputs": [
    {
     "output_type": "execute_result",
     "data": {
      "text/plain": [
       "   count  hate  offensive  neither  class  \\\n",
       "0      3     0          0        3      2   \n",
       "1      3     0          3        0      1   \n",
       "2      3     0          3        0      1   \n",
       "3      3     0          2        1      1   \n",
       "4      6     0          6        0      1   \n",
       "\n",
       "                                               tweet  word_ct  char_ct  \\\n",
       "0  !!! RT @mayasolovely: As a woman you shouldn't...       25      140   \n",
       "1  !!!!! RT @mleew17: boy dats cold...tyga dwn ba...       16       85   \n",
       "2  !!!!!!! RT @UrKindOfBrand Dawg!!!! RT @80sbaby...       21      120   \n",
       "3  !!!!!!!!! RT @C_G_Anderson: @viva_based she lo...        9       62   \n",
       "4  !!!!!!!!!!!!! RT @ShenikaRoberts: The shit you...       26      137   \n",
       "\n",
       "    avg_wrd  stopwords  hashtags  numerics  callouts  \n",
       "0  4.640000         11         0         0         1  \n",
       "1  4.375000          3         0         0         1  \n",
       "2  4.761905          6         0         0         2  \n",
       "3  6.000000          2         0         0         2  \n",
       "4  4.307692         12         0         0         1  "
      ],
      "text/html": "<div>\n<style scoped>\n    .dataframe tbody tr th:only-of-type {\n        vertical-align: middle;\n    }\n\n    .dataframe tbody tr th {\n        vertical-align: top;\n    }\n\n    .dataframe thead th {\n        text-align: right;\n    }\n</style>\n<table border=\"1\" class=\"dataframe\">\n  <thead>\n    <tr style=\"text-align: right;\">\n      <th></th>\n      <th>count</th>\n      <th>hate</th>\n      <th>offensive</th>\n      <th>neither</th>\n      <th>class</th>\n      <th>tweet</th>\n      <th>word_ct</th>\n      <th>char_ct</th>\n      <th>avg_wrd</th>\n      <th>stopwords</th>\n      <th>hashtags</th>\n      <th>numerics</th>\n      <th>callouts</th>\n    </tr>\n  </thead>\n  <tbody>\n    <tr>\n      <th>0</th>\n      <td>3</td>\n      <td>0</td>\n      <td>0</td>\n      <td>3</td>\n      <td>2</td>\n      <td>!!! RT @mayasolovely: As a woman you shouldn't...</td>\n      <td>25</td>\n      <td>140</td>\n      <td>4.640000</td>\n      <td>11</td>\n      <td>0</td>\n      <td>0</td>\n      <td>1</td>\n    </tr>\n    <tr>\n      <th>1</th>\n      <td>3</td>\n      <td>0</td>\n      <td>3</td>\n      <td>0</td>\n      <td>1</td>\n      <td>!!!!! RT @mleew17: boy dats cold...tyga dwn ba...</td>\n      <td>16</td>\n      <td>85</td>\n      <td>4.375000</td>\n      <td>3</td>\n      <td>0</td>\n      <td>0</td>\n      <td>1</td>\n    </tr>\n    <tr>\n      <th>2</th>\n      <td>3</td>\n      <td>0</td>\n      <td>3</td>\n      <td>0</td>\n      <td>1</td>\n      <td>!!!!!!! RT @UrKindOfBrand Dawg!!!! RT @80sbaby...</td>\n      <td>21</td>\n      <td>120</td>\n      <td>4.761905</td>\n      <td>6</td>\n      <td>0</td>\n      <td>0</td>\n      <td>2</td>\n    </tr>\n    <tr>\n      <th>3</th>\n      <td>3</td>\n      <td>0</td>\n      <td>2</td>\n      <td>1</td>\n      <td>1</td>\n      <td>!!!!!!!!! RT @C_G_Anderson: @viva_based she lo...</td>\n      <td>9</td>\n      <td>62</td>\n      <td>6.000000</td>\n      <td>2</td>\n      <td>0</td>\n      <td>0</td>\n      <td>2</td>\n    </tr>\n    <tr>\n      <th>4</th>\n      <td>6</td>\n      <td>0</td>\n      <td>6</td>\n      <td>0</td>\n      <td>1</td>\n      <td>!!!!!!!!!!!!! RT @ShenikaRoberts: The shit you...</td>\n      <td>26</td>\n      <td>137</td>\n      <td>4.307692</td>\n      <td>12</td>\n      <td>0</td>\n      <td>0</td>\n      <td>1</td>\n    </tr>\n  </tbody>\n</table>\n</div>"
     },
     "metadata": {},
     "execution_count": 225
    }
   ],
   "source": [
    "df3.head()"
   ]
  },
  {
   "cell_type": "code",
   "execution_count": 227,
   "metadata": {},
   "outputs": [
    {
     "output_type": "execute_result",
     "data": {
      "text/plain": [
       "1    19190\n",
       "2     4163\n",
       "0     1430\n",
       "Name: class, dtype: int64"
      ]
     },
     "metadata": {},
     "execution_count": 227
    }
   ],
   "source": [
    "df3['class'].value_counts()"
   ]
  },
  {
   "cell_type": "code",
   "execution_count": 230,
   "metadata": {},
   "outputs": [
    {
     "output_type": "execute_result",
     "data": {
      "text/plain": [
       "1    23353\n",
       "0     1430\n",
       "Name: class, dtype: int64"
      ]
     },
     "metadata": {},
     "execution_count": 230
    }
   ],
   "source": [
    "df3['class'] = df3['class'].replace([2], 1)\n",
    "df3['class'].value_counts()"
   ]
  },
  {
   "cell_type": "code",
   "execution_count": 231,
   "metadata": {},
   "outputs": [
    {
     "output_type": "execute_result",
     "data": {
      "text/plain": [
       "0    23353\n",
       "1     1430\n",
       "Name: class, dtype: int64"
      ]
     },
     "metadata": {},
     "execution_count": 231
    }
   ],
   "source": [
    "df3['class'] = df3['class'].replace([0, 1], [1, 0])\n",
    "df3['class'].value_counts()"
   ]
  },
  {
   "cell_type": "code",
   "execution_count": 234,
   "metadata": {},
   "outputs": [],
   "source": [
    "df3 = df3.rename(columns={\"class\": \"target\"})"
   ]
  },
  {
   "cell_type": "code",
   "execution_count": 235,
   "metadata": {},
   "outputs": [],
   "source": [
    "X = df3.tweet\n",
    "y = df3.target"
   ]
  },
  {
   "cell_type": "code",
   "execution_count": 252,
   "metadata": {},
   "outputs": [],
   "source": [
    "from sklearn.model_selection import train_test_split\n",
    "X_tr, X_val, y_val, y_val = train_test_split(X, y, random_state=42, test_size=0.2)"
   ]
  },
  {
   "cell_type": "code",
   "execution_count": 253,
   "metadata": {},
   "outputs": [
    {
     "output_type": "execute_result",
     "data": {
      "text/plain": [
       "                                               tweet\n",
       "0  RT @FunSizedYogi: @TheBlackVoice well how else...\n",
       "1  Funny thing is....it's not just the people doi...\n",
       "2  RT @winkSOSA: \"@AintShitSweet__: \"@Rakwon_OGOD...\n",
       "3  @Jbrendaro30 @ZGabrail @ramsin1995 @GabeEli8 @...\n",
       "4                                S/o that real bitch"
      ],
      "text/html": "<div>\n<style scoped>\n    .dataframe tbody tr th:only-of-type {\n        vertical-align: middle;\n    }\n\n    .dataframe tbody tr th {\n        vertical-align: top;\n    }\n\n    .dataframe thead th {\n        text-align: right;\n    }\n</style>\n<table border=\"1\" class=\"dataframe\">\n  <thead>\n    <tr style=\"text-align: right;\">\n      <th></th>\n      <th>tweet</th>\n    </tr>\n  </thead>\n  <tbody>\n    <tr>\n      <th>0</th>\n      <td>RT @FunSizedYogi: @TheBlackVoice well how else...</td>\n    </tr>\n    <tr>\n      <th>1</th>\n      <td>Funny thing is....it's not just the people doi...</td>\n    </tr>\n    <tr>\n      <th>2</th>\n      <td>RT @winkSOSA: \"@AintShitSweet__: \"@Rakwon_OGOD...</td>\n    </tr>\n    <tr>\n      <th>3</th>\n      <td>@Jbrendaro30 @ZGabrail @ramsin1995 @GabeEli8 @...</td>\n    </tr>\n    <tr>\n      <th>4</th>\n      <td>S/o that real bitch</td>\n    </tr>\n  </tbody>\n</table>\n</div>"
     },
     "metadata": {},
     "execution_count": 253
    }
   ],
   "source": [
    "train = pd.DataFrame(X_tr, columns=['tweet'])\n",
    "train.reset_index(inplace=True)\n",
    "train = train.drop(columns=['index'], axis=1)\n",
    "train.head()"
   ]
  },
  {
   "cell_type": "code",
   "execution_count": 254,
   "metadata": {},
   "outputs": [
    {
     "output_type": "execute_result",
     "data": {
      "text/plain": [
       "                                               tweet\n",
       "0        934 8616\\ni got a missed call from yo bitch\n",
       "1  RT @KINGTUNCHI_: Fucking with a bad bitch you ...\n",
       "2  RT @eanahS__: @1inkkofrosess lol my credit ain...\n",
       "3  RT @Maxin_Betha Wipe the cum out of them faggo...\n",
       "4  Niggas cheat on they bitch and don't expect no..."
      ],
      "text/html": "<div>\n<style scoped>\n    .dataframe tbody tr th:only-of-type {\n        vertical-align: middle;\n    }\n\n    .dataframe tbody tr th {\n        vertical-align: top;\n    }\n\n    .dataframe thead th {\n        text-align: right;\n    }\n</style>\n<table border=\"1\" class=\"dataframe\">\n  <thead>\n    <tr style=\"text-align: right;\">\n      <th></th>\n      <th>tweet</th>\n    </tr>\n  </thead>\n  <tbody>\n    <tr>\n      <th>0</th>\n      <td>934 8616\\ni got a missed call from yo bitch</td>\n    </tr>\n    <tr>\n      <th>1</th>\n      <td>RT @KINGTUNCHI_: Fucking with a bad bitch you ...</td>\n    </tr>\n    <tr>\n      <th>2</th>\n      <td>RT @eanahS__: @1inkkofrosess lol my credit ain...</td>\n    </tr>\n    <tr>\n      <th>3</th>\n      <td>RT @Maxin_Betha Wipe the cum out of them faggo...</td>\n    </tr>\n    <tr>\n      <th>4</th>\n      <td>Niggas cheat on they bitch and don't expect no...</td>\n    </tr>\n  </tbody>\n</table>\n</div>"
     },
     "metadata": {},
     "execution_count": 254
    }
   ],
   "source": [
    "test = pd.DataFrame(X_val, columns=['tweet'])\n",
    "test.reset_index(inplace=True)\n",
    "test = test.drop(columns=['index'], axis=1)\n",
    "test.head()"
   ]
  },
  {
   "cell_type": "code",
   "execution_count": 186,
   "metadata": {},
   "outputs": [],
   "source": [
    "def preprocess_tweet(df, col):\n",
    "    # callouts\n",
    "    df[col] = df[col].apply(lambda x: re.sub(r'@[\\S]+', ' ', str(x)))\n",
    "    # character references\n",
    "    df[col] = df[col].apply(lambda x: re.sub(r'&[\\S]+?;', ' ', str(x)))\n",
    "    # hashtags\n",
    "    df[col] = df[col].apply(lambda x: re.sub(r'(#\\w*,)|(#\\w*$)|(#[\\S]+)', '', str(x)))\n",
    "    # twitter codes RT and QT\n",
    "    df[col] = df[col].apply(lambda x: re.sub(r'(\\bRT\\b|\\bQT\\b)', ' ', str(x)))\n",
    "    # URL links\n",
    "    df[col] = df[col].apply(lambda x: re.sub(r'http[\\S]+', ' ', str(x)))\n",
    "    # punctuation\n",
    "    df[col] = df[col].apply(lambda x: re.sub(r'[^\\w\\s]', r'', str(x)))\n",
    "    # lower casing\n",
    "    df[col] = df[col].apply(lambda x: \" \".join(x.lower() for x in x.split()))\n",
    "    # remove numbers or words with digits  \n",
    "    df[col] = df[col].apply(lambda x: re.sub(r'\\w*\\d\\w*', r' ', str(x)))\n",
    "    # remove any double or more whitespaces to single whitespaces\n",
    "    df[col] = df[col].apply(lambda x: re.sub(r'\\s\\s+', ' ', str(x)))"
   ]
  },
  {
   "cell_type": "code",
   "execution_count": 255,
   "metadata": {},
   "outputs": [],
   "source": [
    "preprocess_tweet(train, 'tweet')\n",
    "preprocess_tweet(test, 'tweet')"
   ]
  },
  {
   "cell_type": "code",
   "execution_count": 220,
   "metadata": {},
   "outputs": [],
   "source": [
    "from sklearn.feature_extraction.text import TfidfVectorizer\n",
    "tf = TfidfVectorizer()"
   ]
  },
  {
   "cell_type": "code",
   "execution_count": 257,
   "metadata": {},
   "outputs": [],
   "source": [
    "data_tr = train.tweet.to_list()\n",
    "data_val = test.tweet.to_list()"
   ]
  },
  {
   "cell_type": "code",
   "execution_count": 258,
   "metadata": {},
   "outputs": [],
   "source": [
    "tf_tr = tf.fit_transform(data_tr)\n",
    "tf_val = tf.transform(data_val)"
   ]
  },
  {
   "source": [
    "## Newsgroup Dataset"
   ],
   "cell_type": "markdown",
   "metadata": {}
  },
  {
   "cell_type": "code",
   "execution_count": 201,
   "metadata": {},
   "outputs": [],
   "source": [
    "from sklearn.datasets import fetch_20newsgroups\n",
    "categories = ['alt.atheism', 'comp.windows.x', 'rec.sport.hockey', 'sci.crypt', 'talk.politics.guns']\n",
    "newsgroup_tr = fetch_20newsgroups(subset='train', categories=categories, remove=('headers', 'footers', 'quotes'))"
   ]
  },
  {
   "cell_type": "code",
   "execution_count": 203,
   "metadata": {},
   "outputs": [
    {
     "output_type": "execute_result",
     "data": {
      "text/plain": [
       "list"
      ]
     },
     "metadata": {},
     "execution_count": 203
    }
   ],
   "source": [
    "data = newsgroup_tr.data\n",
    "target = newsgroup_tr.target\n",
    "type(data)"
   ]
  },
  {
   "cell_type": "code",
   "execution_count": 204,
   "metadata": {},
   "outputs": [
    {
     "output_type": "execute_result",
     "data": {
      "text/plain": [
       "array([4, 3, 1, ..., 3, 4, 3])"
      ]
     },
     "metadata": {},
     "execution_count": 204
    }
   ],
   "source": [
    "target"
   ]
  },
  {
   "cell_type": "code",
   "execution_count": 205,
   "metadata": {},
   "outputs": [
    {
     "output_type": "execute_result",
     "data": {
      "text/plain": [
       "numpy.ndarray"
      ]
     },
     "metadata": {},
     "execution_count": 205
    }
   ],
   "source": [
    "type(target)"
   ]
  },
  {
   "cell_type": "code",
   "execution_count": 206,
   "metadata": {},
   "outputs": [],
   "source": [
    "label_names = newsgroup_tr.target_names"
   ]
  },
  {
   "cell_type": "code",
   "execution_count": 208,
   "metadata": {},
   "outputs": [],
   "source": [
    "from nltk.corpus import stopwords\n",
    "import string\n",
    "stopwords_list = stopwords.words('english') + list(string.punctuation)\n",
    "stopwords_list += [\"''\", '\"\"', '...', '``']"
   ]
  },
  {
   "cell_type": "code",
   "execution_count": 209,
   "metadata": {},
   "outputs": [],
   "source": [
    "def process_article(article):\n",
    "    tokens = nltk.word_tokenize(article)\n",
    "    stopwords_removed = [token.lower() for token in tokens if token.lower() not in stopwords_list]\n",
    "    return stopwords_removed"
   ]
  },
  {
   "cell_type": "code",
   "execution_count": 210,
   "metadata": {},
   "outputs": [],
   "source": [
    "processed_data = list(map(process_article, data))"
   ]
  },
  {
   "cell_type": "code",
   "execution_count": 211,
   "metadata": {},
   "outputs": [
    {
     "output_type": "execute_result",
     "data": {
      "text/plain": [
       "46990"
      ]
     },
     "metadata": {},
     "execution_count": 211
    }
   ],
   "source": [
    "total_vocab = set()\n",
    "for comment in processed_data:\n",
    "    total_vocab.update(comment)\n",
    "len(total_vocab)"
   ]
  },
  {
   "cell_type": "code",
   "execution_count": 216,
   "metadata": {},
   "outputs": [
    {
     "output_type": "execute_result",
     "data": {
      "text/plain": [
       "[('--', 29501),\n",
       " ('x', 4840),\n",
       " (\"'s\", 3203),\n",
       " (\"n't\", 2933),\n",
       " ('1', 2529),\n",
       " ('would', 1985),\n",
       " ('0', 1975),\n",
       " ('one', 1758),\n",
       " ('2', 1664),\n",
       " ('people', 1243),\n",
       " ('use', 1146),\n",
       " ('get', 1068),\n",
       " ('like', 1036),\n",
       " ('file', 1024),\n",
       " ('3', 1005),\n",
       " ('also', 875),\n",
       " ('key', 869),\n",
       " ('4', 864),\n",
       " ('could', 853),\n",
       " ('know', 814)]"
      ]
     },
     "metadata": {},
     "execution_count": 216
    }
   ],
   "source": [
    "import nltk\n",
    "from nltk import FreqDist\n",
    "articles_concat = []\n",
    "for article in processed_data:\n",
    "    articles_concat += article\n",
    "\n",
    "articles_freqdist = FreqDist(articles_concat)\n",
    "articles_freqdist.most_common(20)"
   ]
  },
  {
   "cell_type": "code",
   "execution_count": 218,
   "metadata": {},
   "outputs": [
    {
     "output_type": "execute_result",
     "data": {
      "text/plain": [
       "'Note: These trial updates are summarized from reports in the\\n_Idaho Statesman_ and the local NBC affiliate television\\nstation, KTVB Channel 7.\\n\\nRandy Weaver/Kevin Harris trial update: Day 4.\\n\\nFriday, April 16, 1993 was the fourth day of the trial.\\n\\nSynopsis: Defense attorney Gerry Spence cross-examined agent\\nCooper under repeated objections from prosecutor Ronald\\nHowen.  Spence moved for a mistrial but was denied.\\n\\nThe day was marked by a caustic cross-examination of Deputy\\nMarshal Larry Cooper by defense attorney Gerry Spence.  Although\\nSpence has not explicitly stated so, one angle of his stategy\\nmust involve destroying the credibility of agent Cooper.  Cooper is\\nthe government\\'s only eyewitness to the death of agent Degan.\\nSpence attacked Cooper\\'s credibility by pointing out discrepancies\\nbetween Cooper\\'s statements last September and those made in court.\\nCooper conceded that, \"You have all these things compressed into\\na few seconds...It\\'s difficult to remember what went on first.\"\\n\\nCooper acknowledged that he carried a \"9mm Colt Commando submachine\\ngun with a silenced barrel.\" [I thought a Colt Commando was a revolver!]\\nCooper continued by stating that the federal agents had no specific\\nplans to use the weapon when they started to kill Weaver\\'s dog.\\n\\nWhen Spence asked how seven cartridges could be fired by Degan\\'s\\nM-16 rifle when Degan was apparently dead, Cooper could not say for\\nsure that Degan did not return fire before going down.\\n\\nSpence continued by asking with how many agents (and to what extent)\\nhad Cooper discussed last August\\'s events, Cooper responded, \"If\\nyou\\'re implying that we got our story together, you\\'re wrong,\\ncounselor.\"  Spence continued to advance the defense\\'s version of\\nthe events: Namely, that a marshal had started the shooting by\\nkilling the Weaver\\'s dog.  Cooper disagreed.\\n\\nAssistant U.S. Attorney Ronald Howen repeatedly objected to Spence\\'s\\nvirulent cross-examination of agent Cooper, arguing that the questions\\nwere repetitive and Spence was wasting time.  Howen also complained \\nthat Spence was improperly using a cross-examination to advance the\\ndefense\\'s version of the events.  U.S. District Judge Edward Lodge\\nsustained many of the objections; however, both lawyers persisted\\nuntil Judge Lodge had the jury leave the room and proceded to\\nadmonish both attorneys.  \"I\\'m not going to play games with either\\ncounsel.  This has been a personality problem from day 1, so start\\nacting like professionals.\"\\n\\nSpence told the judge that, \"When all the evidence is in, we\\'ll see\\nthat ... his [agent Larry Cooper] testimony is not credible, that\\nhe was panicked and cannot remember the sequence of events.\" \\nSpence continued, \"We\\'re going to find...that there is a very unlikely\\nsimilarity - almost as if it had come out of a cookie cutter - between\\nthe testimony of Mr. Cooper and the other witnesses.\"\\n\\nSpence then moved for a mistrial on the grounds that Howen\\'s repeated\\nobjections would prevent a fair trial, \"We can\\'t have a fair trial if the\\njury believes I\\'m some sort of charlatan, if the jury believes I\\'m\\nbending the rules or engaging in some delaying tactic or that I\\'m\\nviolating court orders.\"\\n\\nJudge Lodge called the notion that his repeated sustainings of Howen\\'s\\nobjections had somehow prejudiced the jury was \"preposterous\" and\\ndenied the motion for a mistrial.  Lodge did tell Howen to restrict\\nhis comments when objecting.\\n\\nThe trial resumed with the prosecution calling FBI Special Agent Greg\\nRampton.  The prosecution\\'s purpose was simply to introduce five\\nweapons found in the cabin as evidence: However, the defense seized\\non the opportunity to further address Cooper\\'s credibility.\\n\\nDefense attorney Ellison Matthews (Harris\\' other attorney) questioned\\nRampton about the dog.  Rampton stated that there were no specific\\nplans to kill the Weaver\\'s dog without being detected.  Matthews then\\nhad Rampton read  a Septtember 15, 1992 transcript in which Rampton\\nhad said that Cooper had said that the purpose of the silenced weapon\\nwas to kill the dog without being detected, if the dog chased them.\\nRampton then acknowledged that he believed that Cooper had said that,\\nbut he could not remember when.  He then stated that, \"I did not conduct\\nthe primary interview with Deputy Cooper, but I have had conversations\\nwith him since the interview was conducted.\"'"
      ]
     },
     "metadata": {},
     "execution_count": 218
    }
   ],
   "source": [
    "data[0]\n"
   ]
  },
  {
   "cell_type": "code",
   "execution_count": 219,
   "metadata": {},
   "outputs": [
    {
     "output_type": "execute_result",
     "data": {
      "text/plain": [
       "''"
      ]
     },
     "metadata": {},
     "execution_count": 219
    }
   ],
   "source": [
    "data[1]"
   ]
  },
  {
   "cell_type": "code",
   "execution_count": null,
   "metadata": {},
   "outputs": [],
   "source": []
  }
 ]
}