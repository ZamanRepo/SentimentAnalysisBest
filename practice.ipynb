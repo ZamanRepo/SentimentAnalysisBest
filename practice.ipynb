{
 "metadata": {
  "language_info": {
   "codemirror_mode": {
    "name": "ipython",
    "version": 3
   },
   "file_extension": ".py",
   "mimetype": "text/x-python",
   "name": "python",
   "nbconvert_exporter": "python",
   "pygments_lexer": "ipython3",
   "version": "3.9.1-final"
  },
  "orig_nbformat": 2,
  "kernelspec": {
   "name": "python3",
   "display_name": "Python 3",
   "language": "python"
  }
 },
 "nbformat": 4,
 "nbformat_minor": 2,
 "cells": [
  {
   "cell_type": "code",
   "execution_count": 1,
   "metadata": {},
   "outputs": [],
   "source": [
    "# import modules\n",
    "import json\n",
    "import pandas as pd\n",
    "import re\n",
    "import regex\n",
    "from datetime import datetime\n",
    "pd.set_option(\"display.max_rows\", 999)\n",
    "pd.set_option(\"display.max_columns\", 999)\n",
    "\n",
    "import spacy\n",
    "import pandas as pd\n",
    "import numpy as np\n",
    "import nltk\n",
    "from nltk.tokenize.toktok import ToktokTokenizer\n",
    "import re\n",
    "from bs4 import BeautifulSoup\n",
    "import unicodedata\n",
    "\n",
    "%reload_ext autoreload\n",
    "%autoreload 2\n",
    "from contractions import *\n",
    "\n",
    "# nlp = spacy.load('en_core', parse=True, tag=True, entity=True)\n",
    "# #nlp_vec = spacy.load('en_vecs', parse = True, tag=True, #entity=True)\n",
    "# tokenizer = ToktokTokenizer()\n",
    "# stopword_list = nltk.corpus.stopwords.words('english')\n",
    "# stopword_list.remove('no')\n",
    "# stopword_list.remove('not')"
   ]
  },
  {
   "cell_type": "code",
   "execution_count": 2,
   "metadata": {},
   "outputs": [],
   "source": [
    "# day_count = (end_date - start_date).days + 1\n",
    "# for single_date in (start_date + timedelta(n) for n in range(day_count)):\n",
    "#     print strftime(\"%Y-%m-&d\", single_date.timetuple()) \n",
    "    \n",
    "#     filenames = '2016-07-' + str()"
   ]
  },
  {
   "cell_type": "code",
   "execution_count": 3,
   "metadata": {},
   "outputs": [
    {
     "output_type": "execute_result",
     "data": {
      "text/plain": [
       "                       id   screen_name     user_id  \\\n",
       "0     1241177108442947584   brianschatz    47747074   \n",
       "1     1241048506468622336   PattyMurray   293131808   \n",
       "2     1241139330392961024  amyklobuchar    33537967   \n",
       "3     1241044145994715136          dccc    14676022   \n",
       "4     1241157748408176640  garretgraves   587100576   \n",
       "...                   ...           ...         ...   \n",
       "4684  1241065460478676992      JGO_2020  3857977018   \n",
       "4685  1241065450966077440      JGO_2020  3857977018   \n",
       "4686  1241057746050580480      JGO_2020  3857977018   \n",
       "4687  1241053140973166592      JGO_2020  3857977018   \n",
       "4688  1241053053660344320      JGO_2020  3857977018   \n",
       "\n",
       "                           time  \\\n",
       "0     2020-03-20T21:37:37-04:00   \n",
       "1     2020-03-20T13:06:36-04:00   \n",
       "2     2020-03-20T19:07:30-04:00   \n",
       "3     2020-03-20T12:49:16-04:00   \n",
       "4     2020-03-20T20:20:41-04:00   \n",
       "...                         ...   \n",
       "4684  2020-03-20T14:13:58-04:00   \n",
       "4685  2020-03-20T14:13:56-04:00   \n",
       "4686  2020-03-20T13:43:19-04:00   \n",
       "4687  2020-03-20T13:25:01-04:00   \n",
       "4688  2020-03-20T13:24:40-04:00   \n",
       "\n",
       "                                                   link  \\\n",
       "0     https://www.twitter.com/brianschatz/statuses/1...   \n",
       "1     https://www.twitter.com/PattyMurray/statuses/1...   \n",
       "2     https://www.twitter.com/amyklobuchar/statuses/...   \n",
       "3     https://www.twitter.com/Court_Rice/statuses/12...   \n",
       "4     https://www.twitter.com/garretgraves/statuses/...   \n",
       "...                                                 ...   \n",
       "4684  https://www.twitter.com/Jenniffer2012/statuses...   \n",
       "4685  https://www.twitter.com/Jenniffer2012/statuses...   \n",
       "4686  https://www.twitter.com/RepJenniffer/statuses/...   \n",
       "4687  https://www.twitter.com/Jenniffer2012/statuses...   \n",
       "4688  https://www.twitter.com/Jenniffer2012/statuses...   \n",
       "\n",
       "                                                   text              source  \n",
       "0     @JNTHN_LCKWD @jbarro @CoryBooker Understood. W...  Twitter for iPhone  \n",
       "1     In accordance with current public health recom...     Twitter Web App  \n",
       "2     The American people should know if they're sic...     Twitter Web App  \n",
       "3     RT @Court_Rice LEADERSHIP: @CartwrightPA launc...     Twitter Web App  \n",
       "4     https://www.wbrz.com/news/wbrz-business-direct...  Twitter for iPhone  \n",
       "...                                                 ...                 ...  \n",
       "4684  RT @Jenniffer2012 Esto hará disponible más rec...  Twitter for iPhone  \n",
       "4685  RT @Jenniffer2012 Envié una carta a la Adminis...  Twitter for iPhone  \n",
       "4686  RT @RepJenniffer Sent a letter to @SBAgov Admi...  Twitter for iPhone  \n",
       "4687  RT @Jenniffer2012 Excelente noticia del tesoro...  Twitter for iPhone  \n",
       "4688  RT @Jenniffer2012 Esta mañana tuve un conferen...  Twitter for iPhone  \n",
       "\n",
       "[4689 rows x 7 columns]"
      ],
      "text/html": "<div>\n<style scoped>\n    .dataframe tbody tr th:only-of-type {\n        vertical-align: middle;\n    }\n\n    .dataframe tbody tr th {\n        vertical-align: top;\n    }\n\n    .dataframe thead th {\n        text-align: right;\n    }\n</style>\n<table border=\"1\" class=\"dataframe\">\n  <thead>\n    <tr style=\"text-align: right;\">\n      <th></th>\n      <th>id</th>\n      <th>screen_name</th>\n      <th>user_id</th>\n      <th>time</th>\n      <th>link</th>\n      <th>text</th>\n      <th>source</th>\n    </tr>\n  </thead>\n  <tbody>\n    <tr>\n      <th>0</th>\n      <td>1241177108442947584</td>\n      <td>brianschatz</td>\n      <td>47747074</td>\n      <td>2020-03-20T21:37:37-04:00</td>\n      <td>https://www.twitter.com/brianschatz/statuses/1...</td>\n      <td>@JNTHN_LCKWD @jbarro @CoryBooker Understood. W...</td>\n      <td>Twitter for iPhone</td>\n    </tr>\n    <tr>\n      <th>1</th>\n      <td>1241048506468622336</td>\n      <td>PattyMurray</td>\n      <td>293131808</td>\n      <td>2020-03-20T13:06:36-04:00</td>\n      <td>https://www.twitter.com/PattyMurray/statuses/1...</td>\n      <td>In accordance with current public health recom...</td>\n      <td>Twitter Web App</td>\n    </tr>\n    <tr>\n      <th>2</th>\n      <td>1241139330392961024</td>\n      <td>amyklobuchar</td>\n      <td>33537967</td>\n      <td>2020-03-20T19:07:30-04:00</td>\n      <td>https://www.twitter.com/amyklobuchar/statuses/...</td>\n      <td>The American people should know if they're sic...</td>\n      <td>Twitter Web App</td>\n    </tr>\n    <tr>\n      <th>3</th>\n      <td>1241044145994715136</td>\n      <td>dccc</td>\n      <td>14676022</td>\n      <td>2020-03-20T12:49:16-04:00</td>\n      <td>https://www.twitter.com/Court_Rice/statuses/12...</td>\n      <td>RT @Court_Rice LEADERSHIP: @CartwrightPA launc...</td>\n      <td>Twitter Web App</td>\n    </tr>\n    <tr>\n      <th>4</th>\n      <td>1241157748408176640</td>\n      <td>garretgraves</td>\n      <td>587100576</td>\n      <td>2020-03-20T20:20:41-04:00</td>\n      <td>https://www.twitter.com/garretgraves/statuses/...</td>\n      <td>https://www.wbrz.com/news/wbrz-business-direct...</td>\n      <td>Twitter for iPhone</td>\n    </tr>\n    <tr>\n      <th>...</th>\n      <td>...</td>\n      <td>...</td>\n      <td>...</td>\n      <td>...</td>\n      <td>...</td>\n      <td>...</td>\n      <td>...</td>\n    </tr>\n    <tr>\n      <th>4684</th>\n      <td>1241065460478676992</td>\n      <td>JGO_2020</td>\n      <td>3857977018</td>\n      <td>2020-03-20T14:13:58-04:00</td>\n      <td>https://www.twitter.com/Jenniffer2012/statuses...</td>\n      <td>RT @Jenniffer2012 Esto hará disponible más rec...</td>\n      <td>Twitter for iPhone</td>\n    </tr>\n    <tr>\n      <th>4685</th>\n      <td>1241065450966077440</td>\n      <td>JGO_2020</td>\n      <td>3857977018</td>\n      <td>2020-03-20T14:13:56-04:00</td>\n      <td>https://www.twitter.com/Jenniffer2012/statuses...</td>\n      <td>RT @Jenniffer2012 Envié una carta a la Adminis...</td>\n      <td>Twitter for iPhone</td>\n    </tr>\n    <tr>\n      <th>4686</th>\n      <td>1241057746050580480</td>\n      <td>JGO_2020</td>\n      <td>3857977018</td>\n      <td>2020-03-20T13:43:19-04:00</td>\n      <td>https://www.twitter.com/RepJenniffer/statuses/...</td>\n      <td>RT @RepJenniffer Sent a letter to @SBAgov Admi...</td>\n      <td>Twitter for iPhone</td>\n    </tr>\n    <tr>\n      <th>4687</th>\n      <td>1241053140973166592</td>\n      <td>JGO_2020</td>\n      <td>3857977018</td>\n      <td>2020-03-20T13:25:01-04:00</td>\n      <td>https://www.twitter.com/Jenniffer2012/statuses...</td>\n      <td>RT @Jenniffer2012 Excelente noticia del tesoro...</td>\n      <td>Twitter for iPhone</td>\n    </tr>\n    <tr>\n      <th>4688</th>\n      <td>1241053053660344320</td>\n      <td>JGO_2020</td>\n      <td>3857977018</td>\n      <td>2020-03-20T13:24:40-04:00</td>\n      <td>https://www.twitter.com/Jenniffer2012/statuses...</td>\n      <td>RT @Jenniffer2012 Esta mañana tuve un conferen...</td>\n      <td>Twitter for iPhone</td>\n    </tr>\n  </tbody>\n</table>\n<p>4689 rows × 7 columns</p>\n</div>"
     },
     "metadata": {},
     "execution_count": 3
    }
   ],
   "source": [
    "tw = pd.read_json('data/2020-03-20.json')\n",
    "tw"
   ]
  },
  {
   "cell_type": "code",
   "execution_count": 4,
   "metadata": {},
   "outputs": [],
   "source": [
    "df = tw.drop(columns=[\"link\", \"source\", \"user_id\"], axis=1)"
   ]
  },
  {
   "cell_type": "code",
   "execution_count": 5,
   "metadata": {},
   "outputs": [
    {
     "output_type": "execute_result",
     "data": {
      "text/plain": [
       "                    id   screen_name                       time  \\\n",
       "0  1241177108442947584   brianschatz  2020-03-20T21:37:37-04:00   \n",
       "1  1241048506468622336   PattyMurray  2020-03-20T13:06:36-04:00   \n",
       "2  1241139330392961024  amyklobuchar  2020-03-20T19:07:30-04:00   \n",
       "3  1241044145994715136          dccc  2020-03-20T12:49:16-04:00   \n",
       "4  1241157748408176640  garretgraves  2020-03-20T20:20:41-04:00   \n",
       "\n",
       "                                                text  \n",
       "0  @JNTHN_LCKWD @jbarro @CoryBooker Understood. W...  \n",
       "1  In accordance with current public health recom...  \n",
       "2  The American people should know if they're sic...  \n",
       "3  RT @Court_Rice LEADERSHIP: @CartwrightPA launc...  \n",
       "4  https://www.wbrz.com/news/wbrz-business-direct...  "
      ],
      "text/html": "<div>\n<style scoped>\n    .dataframe tbody tr th:only-of-type {\n        vertical-align: middle;\n    }\n\n    .dataframe tbody tr th {\n        vertical-align: top;\n    }\n\n    .dataframe thead th {\n        text-align: right;\n    }\n</style>\n<table border=\"1\" class=\"dataframe\">\n  <thead>\n    <tr style=\"text-align: right;\">\n      <th></th>\n      <th>id</th>\n      <th>screen_name</th>\n      <th>time</th>\n      <th>text</th>\n    </tr>\n  </thead>\n  <tbody>\n    <tr>\n      <th>0</th>\n      <td>1241177108442947584</td>\n      <td>brianschatz</td>\n      <td>2020-03-20T21:37:37-04:00</td>\n      <td>@JNTHN_LCKWD @jbarro @CoryBooker Understood. W...</td>\n    </tr>\n    <tr>\n      <th>1</th>\n      <td>1241048506468622336</td>\n      <td>PattyMurray</td>\n      <td>2020-03-20T13:06:36-04:00</td>\n      <td>In accordance with current public health recom...</td>\n    </tr>\n    <tr>\n      <th>2</th>\n      <td>1241139330392961024</td>\n      <td>amyklobuchar</td>\n      <td>2020-03-20T19:07:30-04:00</td>\n      <td>The American people should know if they're sic...</td>\n    </tr>\n    <tr>\n      <th>3</th>\n      <td>1241044145994715136</td>\n      <td>dccc</td>\n      <td>2020-03-20T12:49:16-04:00</td>\n      <td>RT @Court_Rice LEADERSHIP: @CartwrightPA launc...</td>\n    </tr>\n    <tr>\n      <th>4</th>\n      <td>1241157748408176640</td>\n      <td>garretgraves</td>\n      <td>2020-03-20T20:20:41-04:00</td>\n      <td>https://www.wbrz.com/news/wbrz-business-direct...</td>\n    </tr>\n  </tbody>\n</table>\n</div>"
     },
     "metadata": {},
     "execution_count": 5
    }
   ],
   "source": [
    "df.head()"
   ]
  },
  {
   "cell_type": "code",
   "execution_count": 6,
   "metadata": {},
   "outputs": [
    {
     "output_type": "execute_result",
     "data": {
      "text/plain": [
       "                       id   screen_name                      time  \\\n",
       "0     1241177108442947584   brianschatz 2020-03-20 21:37:37-04:00   \n",
       "1     1241048506468622336   PattyMurray 2020-03-20 13:06:36-04:00   \n",
       "2     1241139330392961024  amyklobuchar 2020-03-20 19:07:30-04:00   \n",
       "3     1241044145994715136          dccc 2020-03-20 12:49:16-04:00   \n",
       "4     1241157748408176640  garretgraves 2020-03-20 20:20:41-04:00   \n",
       "...                   ...           ...                       ...   \n",
       "4684  1241065460478676992      JGO_2020 2020-03-20 14:13:58-04:00   \n",
       "4685  1241065450966077440      JGO_2020 2020-03-20 14:13:56-04:00   \n",
       "4686  1241057746050580480      JGO_2020 2020-03-20 13:43:19-04:00   \n",
       "4687  1241053140973166592      JGO_2020 2020-03-20 13:25:01-04:00   \n",
       "4688  1241053053660344320      JGO_2020 2020-03-20 13:24:40-04:00   \n",
       "\n",
       "                                                   text  \n",
       "0     @JNTHN_LCKWD @jbarro @CoryBooker Understood. W...  \n",
       "1     In accordance with current public health recom...  \n",
       "2     The American people should know if they're sic...  \n",
       "3     RT @Court_Rice LEADERSHIP: @CartwrightPA launc...  \n",
       "4     https://www.wbrz.com/news/wbrz-business-direct...  \n",
       "...                                                 ...  \n",
       "4684  RT @Jenniffer2012 Esto hará disponible más rec...  \n",
       "4685  RT @Jenniffer2012 Envié una carta a la Adminis...  \n",
       "4686  RT @RepJenniffer Sent a letter to @SBAgov Admi...  \n",
       "4687  RT @Jenniffer2012 Excelente noticia del tesoro...  \n",
       "4688  RT @Jenniffer2012 Esta mañana tuve un conferen...  \n",
       "\n",
       "[4689 rows x 4 columns]"
      ],
      "text/html": "<div>\n<style scoped>\n    .dataframe tbody tr th:only-of-type {\n        vertical-align: middle;\n    }\n\n    .dataframe tbody tr th {\n        vertical-align: top;\n    }\n\n    .dataframe thead th {\n        text-align: right;\n    }\n</style>\n<table border=\"1\" class=\"dataframe\">\n  <thead>\n    <tr style=\"text-align: right;\">\n      <th></th>\n      <th>id</th>\n      <th>screen_name</th>\n      <th>time</th>\n      <th>text</th>\n    </tr>\n  </thead>\n  <tbody>\n    <tr>\n      <th>0</th>\n      <td>1241177108442947584</td>\n      <td>brianschatz</td>\n      <td>2020-03-20 21:37:37-04:00</td>\n      <td>@JNTHN_LCKWD @jbarro @CoryBooker Understood. W...</td>\n    </tr>\n    <tr>\n      <th>1</th>\n      <td>1241048506468622336</td>\n      <td>PattyMurray</td>\n      <td>2020-03-20 13:06:36-04:00</td>\n      <td>In accordance with current public health recom...</td>\n    </tr>\n    <tr>\n      <th>2</th>\n      <td>1241139330392961024</td>\n      <td>amyklobuchar</td>\n      <td>2020-03-20 19:07:30-04:00</td>\n      <td>The American people should know if they're sic...</td>\n    </tr>\n    <tr>\n      <th>3</th>\n      <td>1241044145994715136</td>\n      <td>dccc</td>\n      <td>2020-03-20 12:49:16-04:00</td>\n      <td>RT @Court_Rice LEADERSHIP: @CartwrightPA launc...</td>\n    </tr>\n    <tr>\n      <th>4</th>\n      <td>1241157748408176640</td>\n      <td>garretgraves</td>\n      <td>2020-03-20 20:20:41-04:00</td>\n      <td>https://www.wbrz.com/news/wbrz-business-direct...</td>\n    </tr>\n    <tr>\n      <th>...</th>\n      <td>...</td>\n      <td>...</td>\n      <td>...</td>\n      <td>...</td>\n    </tr>\n    <tr>\n      <th>4684</th>\n      <td>1241065460478676992</td>\n      <td>JGO_2020</td>\n      <td>2020-03-20 14:13:58-04:00</td>\n      <td>RT @Jenniffer2012 Esto hará disponible más rec...</td>\n    </tr>\n    <tr>\n      <th>4685</th>\n      <td>1241065450966077440</td>\n      <td>JGO_2020</td>\n      <td>2020-03-20 14:13:56-04:00</td>\n      <td>RT @Jenniffer2012 Envié una carta a la Adminis...</td>\n    </tr>\n    <tr>\n      <th>4686</th>\n      <td>1241057746050580480</td>\n      <td>JGO_2020</td>\n      <td>2020-03-20 13:43:19-04:00</td>\n      <td>RT @RepJenniffer Sent a letter to @SBAgov Admi...</td>\n    </tr>\n    <tr>\n      <th>4687</th>\n      <td>1241053140973166592</td>\n      <td>JGO_2020</td>\n      <td>2020-03-20 13:25:01-04:00</td>\n      <td>RT @Jenniffer2012 Excelente noticia del tesoro...</td>\n    </tr>\n    <tr>\n      <th>4688</th>\n      <td>1241053053660344320</td>\n      <td>JGO_2020</td>\n      <td>2020-03-20 13:24:40-04:00</td>\n      <td>RT @Jenniffer2012 Esta mañana tuve un conferen...</td>\n    </tr>\n  </tbody>\n</table>\n<p>4689 rows × 4 columns</p>\n</div>"
     },
     "metadata": {},
     "execution_count": 6
    }
   ],
   "source": [
    "format = \"%Y-%m-%dT%H:%M:%S%z\"\n",
    "df.time = df.time.apply(lambda x: datetime.strptime(x, format))\n",
    "df"
   ]
  },
  {
   "cell_type": "code",
   "execution_count": 7,
   "metadata": {},
   "outputs": [
    {
     "output_type": "execute_result",
     "data": {
      "text/plain": [
       "'@JNTHN_LCKWD @jbarro @CoryBooker Understood. Working this hard. Don’t know what the result will be.'"
      ]
     },
     "metadata": {},
     "execution_count": 7
    }
   ],
   "source": [
    "df2 = df.text\n",
    "df2[0]"
   ]
  },
  {
   "cell_type": "code",
   "execution_count": 8,
   "metadata": {},
   "outputs": [
    {
     "output_type": "execute_result",
     "data": {
      "text/plain": [
       "'RT @RepFletcher When it comes to combating #COVID19, Texans should not have to worry about their insurance status. Today, I joined  @RepLloydDoggett and our Texas colleagues to call on Governor Abbot to expand coverage for #COVID19 care for Texans. http://pbs.twimg.com/media/ETmLzjqXYAAfhDV.png http://pbs.twimg.com/media/ETmLz4BXkAA0faZ.png'"
      ]
     },
     "metadata": {},
     "execution_count": 8
    }
   ],
   "source": [
    "df2[6]"
   ]
  },
  {
   "cell_type": "code",
   "execution_count": 9,
   "metadata": {},
   "outputs": [
    {
     "output_type": "execute_result",
     "data": {
      "text/plain": [
       "'The American people should know if they\\'re sick or not. \\n\\nThat’s the only way we can know if people developed immunities—then we will know which workers can be back on the front lines, who can give plasma to other people, &amp; much more. \\n\\nWe need to get more testing for the people. https://twitter.com/esmemurphy/status/1240752676691947527 QT @esmemurphy .@amyklobuchar says she finds lack of access to testing \"appalling\" says her office is getting large numbers of constituent calls needing help with Covid-19 concerns @wcco 5 and 6 pm'"
      ]
     },
     "metadata": {},
     "execution_count": 9
    }
   ],
   "source": [
    "df2[2]"
   ]
  },
  {
   "cell_type": "code",
   "execution_count": 10,
   "metadata": {},
   "outputs": [
    {
     "output_type": "execute_result",
     "data": {
      "text/plain": [
       "'@bubbadog1 And hockey!'"
      ]
     },
     "metadata": {},
     "execution_count": 10
    }
   ],
   "source": [
    "df2[7]"
   ]
  },
  {
   "source": [
    "## Count numbere of words"
   ],
   "cell_type": "markdown",
   "metadata": {}
  },
  {
   "cell_type": "code",
   "execution_count": 11,
   "metadata": {},
   "outputs": [],
   "source": [
    "def num_of_words(df, col):\n",
    "    df['word_count'] = df[col].apply(lambda x: len(str(x).split(\" \")))\n",
    "    print(df[[col, 'word_count']])"
   ]
  },
  {
   "cell_type": "code",
   "execution_count": 12,
   "metadata": {},
   "outputs": [
    {
     "output_type": "stream",
     "name": "stdout",
     "text": [
      "                                                   text  word_count\n0     @JNTHN_LCKWD @jbarro @CoryBooker Understood. W...          14\n1     In accordance with current public health recom...          40\n2     The American people should know if they're sic...          85\n3     RT @Court_Rice LEADERSHIP: @CartwrightPA launc...          29\n4     https://www.wbrz.com/news/wbrz-business-direct...           1\n...                                                 ...         ...\n4684  RT @Jenniffer2012 Esto hará disponible más rec...          28\n4685  RT @Jenniffer2012 Envié una carta a la Adminis...          73\n4686  RT @RepJenniffer Sent a letter to @SBAgov Admi...          43\n4687  RT @Jenniffer2012 Excelente noticia del tesoro...          58\n4688  RT @Jenniffer2012 Esta mañana tuve un conferen...          42\n\n[4689 rows x 2 columns]\n"
     ]
    }
   ],
   "source": [
    "num_of_words(df, 'text')"
   ]
  },
  {
   "source": [
    "## Count number of characters"
   ],
   "cell_type": "markdown",
   "metadata": {}
  },
  {
   "cell_type": "code",
   "execution_count": 13,
   "metadata": {},
   "outputs": [],
   "source": [
    "def num_of_chars(df, col):\n",
    "    df['char_count'] = df[col].str.len()\n",
    "    print(df[[col, 'char_count']])"
   ]
  },
  {
   "cell_type": "code",
   "execution_count": 14,
   "metadata": {},
   "outputs": [
    {
     "output_type": "stream",
     "name": "stdout",
     "text": [
      "                                                   text  char_count\n0     @JNTHN_LCKWD @jbarro @CoryBooker Understood. W...          99\n1     In accordance with current public health recom...         270\n2     The American people should know if they're sic...         540\n3     RT @Court_Rice LEADERSHIP: @CartwrightPA launc...         298\n4     https://www.wbrz.com/news/wbrz-business-direct...          76\n...                                                 ...         ...\n4684  RT @Jenniffer2012 Esto hará disponible más rec...         185\n4685  RT @Jenniffer2012 Envié una carta a la Adminis...         604\n4686  RT @RepJenniffer Sent a letter to @SBAgov Admi...         343\n4687  RT @Jenniffer2012 Excelente noticia del tesoro...         414\n4688  RT @Jenniffer2012 Esta mañana tuve un conferen...         289\n\n[4689 rows x 2 columns]\n"
     ]
    }
   ],
   "source": [
    "num_of_chars(df, 'text')"
   ]
  },
  {
   "source": [
    "## Average World Length"
   ],
   "cell_type": "markdown",
   "metadata": {}
  },
  {
   "cell_type": "code",
   "execution_count": 15,
   "metadata": {},
   "outputs": [],
   "source": [
    "def avg_word(sentence):\n",
    "    words = sentence.split()\n",
    "    return (sum(len(word) for word in words)/len(words))\n",
    "\n",
    "def avg_word_length(df, col):\n",
    "    df['avg_wrd'] = df[col].apply(lambda x: avg_word(x))\n",
    "    print(df[[col, 'avg_wrd']].head())"
   ]
  },
  {
   "cell_type": "code",
   "execution_count": 16,
   "metadata": {},
   "outputs": [
    {
     "output_type": "stream",
     "name": "stdout",
     "text": [
      "                                                text    avg_wrd\n0  @JNTHN_LCKWD @jbarro @CoryBooker Understood. W...   6.142857\n1  In accordance with current public health recom...   5.775000\n2  The American people should know if they're sic...   5.317647\n3  RT @Court_Rice LEADERSHIP: @CartwrightPA launc...   9.241379\n4  https://www.wbrz.com/news/wbrz-business-direct...  76.000000\n"
     ]
    }
   ],
   "source": [
    "avg_word_length(df, 'text')"
   ]
  },
  {
   "cell_type": "code",
   "execution_count": 17,
   "metadata": {},
   "outputs": [],
   "source": [
    "import nltk\n",
    "from nltk.corpus import stopwords\n",
    "stop = stopwords.words('english')"
   ]
  },
  {
   "cell_type": "code",
   "execution_count": 18,
   "metadata": {},
   "outputs": [],
   "source": [
    "def stop_words(df, col):\n",
    "    df['stopwords'] = df[col].apply(lambda x: len([x for x in x.split() if x in stop]))\n",
    "    print(df[[col, 'stopwords']].head())"
   ]
  },
  {
   "cell_type": "code",
   "execution_count": 19,
   "metadata": {},
   "outputs": [
    {
     "output_type": "stream",
     "name": "stdout",
     "text": [
      "                                                text  stopwords\n0  @JNTHN_LCKWD @jbarro @CoryBooker Understood. W...          4\n1  In accordance with current public health recom...         16\n2  The American people should know if they're sic...         31\n3  RT @Court_Rice LEADERSHIP: @CartwrightPA launc...         11\n4  https://www.wbrz.com/news/wbrz-business-direct...          0\n"
     ]
    }
   ],
   "source": [
    "stop_words(df, 'text')"
   ]
  },
  {
   "cell_type": "code",
   "execution_count": 20,
   "metadata": {},
   "outputs": [],
   "source": [
    "def hash_tags(df, col):\n",
    "    df['hashtags'] = df[col].apply(lambda x: len([x for x in x.split() if x.startswith('#')]))\n",
    "    print(df[[col, 'hashtags']].head())"
   ]
  },
  {
   "cell_type": "code",
   "execution_count": 21,
   "metadata": {},
   "outputs": [
    {
     "output_type": "stream",
     "name": "stdout",
     "text": [
      "                                                text  hashtags\n0  @JNTHN_LCKWD @jbarro @CoryBooker Understood. W...         0\n1  In accordance with current public health recom...         0\n2  The American people should know if they're sic...         0\n3  RT @Court_Rice LEADERSHIP: @CartwrightPA launc...         1\n4  https://www.wbrz.com/news/wbrz-business-direct...         0\n"
     ]
    }
   ],
   "source": [
    "hash_tags(df, 'text')"
   ]
  },
  {
   "cell_type": "code",
   "execution_count": 22,
   "metadata": {},
   "outputs": [
    {
     "output_type": "execute_result",
     "data": {
      "text/plain": [
       "0    2787\n",
       "1    1187\n",
       "2     477\n",
       "3     158\n",
       "4      53\n",
       "5      16\n",
       "6       7\n",
       "7       4\n",
       "Name: hashtags, dtype: int64"
      ]
     },
     "metadata": {},
     "execution_count": 22
    }
   ],
   "source": [
    "df.hashtags.value_counts()"
   ]
  },
  {
   "cell_type": "code",
   "execution_count": 23,
   "metadata": {},
   "outputs": [
    {
     "output_type": "stream",
     "name": "stdout",
     "text": [
      "                                                text  numerics\n0  @JNTHN_LCKWD @jbarro @CoryBooker Understood. W...         0\n1  In accordance with current public health recom...         0\n2  The American people should know if they're sic...         2\n3  RT @Court_Rice LEADERSHIP: @CartwrightPA launc...         0\n4  https://www.wbrz.com/news/wbrz-business-direct...         0\n"
     ]
    }
   ],
   "source": [
    "def num_numerics(df, col):\n",
    "    df['numerics'] = df[col].apply(lambda x: len([x for x in x.split() if x.isdigit()]))\n",
    "    print(df[[col, 'numerics']].head())\n",
    "\n",
    "num_numerics(df, 'text')"
   ]
  },
  {
   "cell_type": "code",
   "execution_count": 24,
   "metadata": {},
   "outputs": [
    {
     "output_type": "execute_result",
     "data": {
      "text/plain": [
       "0    3932\n",
       "1     584\n",
       "2     147\n",
       "3      17\n",
       "4       8\n",
       "7       1\n",
       "Name: numerics, dtype: int64"
      ]
     },
     "metadata": {},
     "execution_count": 24
    }
   ],
   "source": [
    "df.numerics.value_counts()"
   ]
  },
  {
   "cell_type": "code",
   "execution_count": 25,
   "metadata": {},
   "outputs": [
    {
     "output_type": "stream",
     "name": "stdout",
     "text": [
      "                                                text  callouts\n0  @JNTHN_LCKWD @jbarro @CoryBooker Understood. W...         3\n1  In accordance with current public health recom...         0\n2  The American people should know if they're sic...         2\n3  RT @Court_Rice LEADERSHIP: @CartwrightPA launc...         2\n4  https://www.wbrz.com/news/wbrz-business-direct...         0\n"
     ]
    }
   ],
   "source": [
    "def num_callouts(df, col):\n",
    "    df['callouts'] = df[col].apply(lambda x: len([x for x in x.split() if x.startswith('@')]))\n",
    "    print(df[[col, 'callouts']].head())\n",
    "\n",
    "num_callouts(df, 'text')"
   ]
  },
  {
   "cell_type": "code",
   "execution_count": 26,
   "metadata": {},
   "outputs": [
    {
     "output_type": "execute_result",
     "data": {
      "text/plain": [
       "1     1769\n",
       "0     1560\n",
       "2      760\n",
       "3      309\n",
       "4      136\n",
       "5       64\n",
       "6       43\n",
       "7       10\n",
       "9        9\n",
       "8        6\n",
       "13       5\n",
       "10       5\n",
       "11       5\n",
       "15       3\n",
       "14       2\n",
       "16       1\n",
       "12       1\n",
       "19       1\n",
       "Name: callouts, dtype: int64"
      ]
     },
     "metadata": {},
     "execution_count": 26
    }
   ],
   "source": [
    "df.callouts.value_counts()"
   ]
  },
  {
   "cell_type": "code",
   "execution_count": 27,
   "metadata": {},
   "outputs": [
    {
     "output_type": "execute_result",
     "data": {
      "text/plain": [
       "                    id   screen_name                      time  \\\n",
       "0  1241177108442947584   brianschatz 2020-03-20 21:37:37-04:00   \n",
       "1  1241048506468622336   PattyMurray 2020-03-20 13:06:36-04:00   \n",
       "2  1241139330392961024  amyklobuchar 2020-03-20 19:07:30-04:00   \n",
       "3  1241044145994715136          dccc 2020-03-20 12:49:16-04:00   \n",
       "4  1241157748408176640  garretgraves 2020-03-20 20:20:41-04:00   \n",
       "\n",
       "                                                text  word_count  char_count  \\\n",
       "0  @JNTHN_LCKWD @jbarro @CoryBooker Understood. W...          14          99   \n",
       "1  In accordance with current public health recom...          40         270   \n",
       "2  The American people should know if they're sic...          85         540   \n",
       "3  RT @Court_Rice LEADERSHIP: @CartwrightPA launc...          29         298   \n",
       "4  https://www.wbrz.com/news/wbrz-business-direct...           1          76   \n",
       "\n",
       "     avg_wrd  stopwords  hashtags  numerics  callouts  \n",
       "0   6.142857          4         0         0         3  \n",
       "1   5.775000         16         0         0         0  \n",
       "2   5.317647         31         0         2         2  \n",
       "3   9.241379         11         1         0         2  \n",
       "4  76.000000          0         0         0         0  "
      ],
      "text/html": "<div>\n<style scoped>\n    .dataframe tbody tr th:only-of-type {\n        vertical-align: middle;\n    }\n\n    .dataframe tbody tr th {\n        vertical-align: top;\n    }\n\n    .dataframe thead th {\n        text-align: right;\n    }\n</style>\n<table border=\"1\" class=\"dataframe\">\n  <thead>\n    <tr style=\"text-align: right;\">\n      <th></th>\n      <th>id</th>\n      <th>screen_name</th>\n      <th>time</th>\n      <th>text</th>\n      <th>word_count</th>\n      <th>char_count</th>\n      <th>avg_wrd</th>\n      <th>stopwords</th>\n      <th>hashtags</th>\n      <th>numerics</th>\n      <th>callouts</th>\n    </tr>\n  </thead>\n  <tbody>\n    <tr>\n      <th>0</th>\n      <td>1241177108442947584</td>\n      <td>brianschatz</td>\n      <td>2020-03-20 21:37:37-04:00</td>\n      <td>@JNTHN_LCKWD @jbarro @CoryBooker Understood. W...</td>\n      <td>14</td>\n      <td>99</td>\n      <td>6.142857</td>\n      <td>4</td>\n      <td>0</td>\n      <td>0</td>\n      <td>3</td>\n    </tr>\n    <tr>\n      <th>1</th>\n      <td>1241048506468622336</td>\n      <td>PattyMurray</td>\n      <td>2020-03-20 13:06:36-04:00</td>\n      <td>In accordance with current public health recom...</td>\n      <td>40</td>\n      <td>270</td>\n      <td>5.775000</td>\n      <td>16</td>\n      <td>0</td>\n      <td>0</td>\n      <td>0</td>\n    </tr>\n    <tr>\n      <th>2</th>\n      <td>1241139330392961024</td>\n      <td>amyklobuchar</td>\n      <td>2020-03-20 19:07:30-04:00</td>\n      <td>The American people should know if they're sic...</td>\n      <td>85</td>\n      <td>540</td>\n      <td>5.317647</td>\n      <td>31</td>\n      <td>0</td>\n      <td>2</td>\n      <td>2</td>\n    </tr>\n    <tr>\n      <th>3</th>\n      <td>1241044145994715136</td>\n      <td>dccc</td>\n      <td>2020-03-20 12:49:16-04:00</td>\n      <td>RT @Court_Rice LEADERSHIP: @CartwrightPA launc...</td>\n      <td>29</td>\n      <td>298</td>\n      <td>9.241379</td>\n      <td>11</td>\n      <td>1</td>\n      <td>0</td>\n      <td>2</td>\n    </tr>\n    <tr>\n      <th>4</th>\n      <td>1241157748408176640</td>\n      <td>garretgraves</td>\n      <td>2020-03-20 20:20:41-04:00</td>\n      <td>https://www.wbrz.com/news/wbrz-business-direct...</td>\n      <td>1</td>\n      <td>76</td>\n      <td>76.000000</td>\n      <td>0</td>\n      <td>0</td>\n      <td>0</td>\n      <td>0</td>\n    </tr>\n  </tbody>\n</table>\n</div>"
     },
     "metadata": {},
     "execution_count": 27
    }
   ],
   "source": [
    "df.head()"
   ]
  },
  {
   "source": [
    "# Basic Text Processing"
   ],
   "cell_type": "markdown",
   "metadata": {}
  },
  {
   "cell_type": "code",
   "execution_count": 28,
   "metadata": {},
   "outputs": [
    {
     "output_type": "execute_result",
     "data": {
      "text/plain": [
       "0    @JNTHN_LCKWD @jbarro @CoryBooker Understood. W...\n",
       "1    In accordance with current public health recom...\n",
       "2    The American people should know if they're sic...\n",
       "3    RT @Court_Rice LEADERSHIP: @CartwrightPA launc...\n",
       "4    https://www.wbrz.com/news/wbrz-business-direct...\n",
       "Name: text, dtype: object"
      ]
     },
     "metadata": {},
     "execution_count": 28
    }
   ],
   "source": [
    "X = df2\n",
    "X.head()"
   ]
  },
  {
   "cell_type": "code",
   "execution_count": 29,
   "metadata": {},
   "outputs": [
    {
     "output_type": "execute_result",
     "data": {
      "text/plain": [
       "                                                text\n",
       "0  @JNTHN_LCKWD @jbarro @CoryBooker Understood. W...\n",
       "1  In accordance with current public health recom...\n",
       "2  The American people should know if they're sic...\n",
       "3  RT @Court_Rice LEADERSHIP: @CartwrightPA launc...\n",
       "4  https://www.wbrz.com/news/wbrz-business-direct..."
      ],
      "text/html": "<div>\n<style scoped>\n    .dataframe tbody tr th:only-of-type {\n        vertical-align: middle;\n    }\n\n    .dataframe tbody tr th {\n        vertical-align: top;\n    }\n\n    .dataframe thead th {\n        text-align: right;\n    }\n</style>\n<table border=\"1\" class=\"dataframe\">\n  <thead>\n    <tr style=\"text-align: right;\">\n      <th></th>\n      <th>text</th>\n    </tr>\n  </thead>\n  <tbody>\n    <tr>\n      <th>0</th>\n      <td>@JNTHN_LCKWD @jbarro @CoryBooker Understood. W...</td>\n    </tr>\n    <tr>\n      <th>1</th>\n      <td>In accordance with current public health recom...</td>\n    </tr>\n    <tr>\n      <th>2</th>\n      <td>The American people should know if they're sic...</td>\n    </tr>\n    <tr>\n      <th>3</th>\n      <td>RT @Court_Rice LEADERSHIP: @CartwrightPA launc...</td>\n    </tr>\n    <tr>\n      <th>4</th>\n      <td>https://www.wbrz.com/news/wbrz-business-direct...</td>\n    </tr>\n  </tbody>\n</table>\n</div>"
     },
     "metadata": {},
     "execution_count": 29
    }
   ],
   "source": [
    "tw = pd.DataFrame(df2, columns=[\"text\"])\n",
    "tw.head()"
   ]
  },
  {
   "cell_type": "code",
   "execution_count": 30,
   "metadata": {
    "tags": []
   },
   "outputs": [],
   "source": [
    "from sklearn.feature_extraction.text import CountVectorizer\n",
    "cv = CountVectorizer()\n",
    "X = cv.fit_transform(df2)\n",
    "words = cv.get_feature_names()"
   ]
  },
  {
   "cell_type": "code",
   "execution_count": 31,
   "metadata": {},
   "outputs": [
    {
     "output_type": "execute_result",
     "data": {
      "text/plain": [
       "17226"
      ]
     },
     "metadata": {},
     "execution_count": 31
    }
   ],
   "source": [
    "len(words)"
   ]
  },
  {
   "cell_type": "code",
   "execution_count": 32,
   "metadata": {
    "tags": []
   },
   "outputs": [],
   "source": [
    "cv2 = CountVectorizer(analyzer='word', ngram_range=(2,2))\n",
    "X2 = cv2.fit_transform(df2)\n",
    "pairs = cv2.get_feature_names()"
   ]
  },
  {
   "cell_type": "code",
   "execution_count": 33,
   "metadata": {},
   "outputs": [
    {
     "output_type": "execute_result",
     "data": {
      "text/plain": [
       "83221"
      ]
     },
     "metadata": {},
     "execution_count": 33
    }
   ],
   "source": [
    "len(pairs)"
   ]
  },
  {
   "cell_type": "code",
   "execution_count": 34,
   "metadata": {},
   "outputs": [
    {
     "output_type": "stream",
     "name": "stdout",
     "text": [
      "(4689, 1048576)\n"
     ]
    }
   ],
   "source": [
    "from sklearn.feature_extraction.text import HashingVectorizer\n",
    "hv = HashingVectorizer()\n",
    "X = hv.fit_transform(df2)\n",
    "print(X.shape)"
   ]
  },
  {
   "cell_type": "code",
   "execution_count": 35,
   "metadata": {},
   "outputs": [
    {
     "output_type": "stream",
     "name": "stdout",
     "text": [
      "0    @jnthn_lckwd @jbarro @corybooker understood. w...\n1    in accordance with current public health recom...\n2    the american people should know if they're sic...\n3    rt @court_rice leadership: @cartwrightpa launc...\n4    https://www.wbrz.com/news/wbrz-business-direct...\nName: text, dtype: object\n"
     ]
    }
   ],
   "source": [
    "def lower_case(df, col):\n",
    "    df['text'] = df.text.apply(lambda x: \" \".join(x.lower() for x in x.split()))\n",
    "    print(df.text.head())\n",
    "\n",
    "lower_case(tw, 'text')"
   ]
  },
  {
   "cell_type": "code",
   "execution_count": 36,
   "metadata": {},
   "outputs": [
    {
     "output_type": "execute_result",
     "data": {
      "text/plain": [
       "                                                text\n",
       "0  @jnthn_lckwd @jbarro @corybooker understood. w...\n",
       "1  in accordance with current public health recom...\n",
       "2  the american people should know if they're sic...\n",
       "3  rt @court_rice leadership: @cartwrightpa launc...\n",
       "4  https://www.wbrz.com/news/wbrz-business-direct..."
      ],
      "text/html": "<div>\n<style scoped>\n    .dataframe tbody tr th:only-of-type {\n        vertical-align: middle;\n    }\n\n    .dataframe tbody tr th {\n        vertical-align: top;\n    }\n\n    .dataframe thead th {\n        text-align: right;\n    }\n</style>\n<table border=\"1\" class=\"dataframe\">\n  <thead>\n    <tr style=\"text-align: right;\">\n      <th></th>\n      <th>text</th>\n    </tr>\n  </thead>\n  <tbody>\n    <tr>\n      <th>0</th>\n      <td>@jnthn_lckwd @jbarro @corybooker understood. w...</td>\n    </tr>\n    <tr>\n      <th>1</th>\n      <td>in accordance with current public health recom...</td>\n    </tr>\n    <tr>\n      <th>2</th>\n      <td>the american people should know if they're sic...</td>\n    </tr>\n    <tr>\n      <th>3</th>\n      <td>rt @court_rice leadership: @cartwrightpa launc...</td>\n    </tr>\n    <tr>\n      <th>4</th>\n      <td>https://www.wbrz.com/news/wbrz-business-direct...</td>\n    </tr>\n  </tbody>\n</table>\n</div>"
     },
     "metadata": {},
     "execution_count": 36
    }
   ],
   "source": [
    "tw.head()"
   ]
  },
  {
   "cell_type": "code",
   "execution_count": 37,
   "metadata": {},
   "outputs": [
    {
     "output_type": "execute_result",
     "data": {
      "text/plain": [
       "0    [@jnthn_lckwd, @jbarro, @corybooker]\n",
       "1                                      []\n",
       "2     [@esmemurphy, @amyklobuchar, @wcco]\n",
       "3            [@court_rice, @cartwrightpa]\n",
       "4                                      []\n",
       "Name: callouts, dtype: object"
      ]
     },
     "metadata": {},
     "execution_count": 37
    }
   ],
   "source": [
    "tw['callouts'] = tw.text.apply(lambda x: re.findall(r'@[\\S]+', str(x)))\n",
    "tw['callouts'].head()"
   ]
  },
  {
   "cell_type": "code",
   "execution_count": 38,
   "metadata": {},
   "outputs": [
    {
     "output_type": "execute_result",
     "data": {
      "text/plain": [
       "0         []\n",
       "1         []\n",
       "2         []\n",
       "3    [#pa08]\n",
       "4         []\n",
       "Name: hashtags, dtype: object"
      ]
     },
     "metadata": {},
     "execution_count": 38
    }
   ],
   "source": [
    "tw['hashtags'] = tw.text.apply(lambda x: re.findall(r'#[\\S]+', str(x)))\n",
    "tw.hashtags.head()"
   ]
  },
  {
   "cell_type": "code",
   "execution_count": 39,
   "metadata": {},
   "outputs": [
    {
     "output_type": "execute_result",
     "data": {
      "text/plain": [
       "1306"
      ]
     },
     "metadata": {},
     "execution_count": 39
    }
   ],
   "source": [
    "charref = [x for x in df.text.apply(lambda x: re.findall(r'&[\\S]+', str(x)))]\n",
    "charref\n",
    "flat_list = [item for sublist in charref for item in sublist]\n",
    "len(flat_list)"
   ]
  },
  {
   "cell_type": "code",
   "execution_count": 40,
   "metadata": {},
   "outputs": [
    {
     "output_type": "execute_result",
     "data": {
      "text/plain": [
       "['&amp;',\n",
       " '&amp;',\n",
       " '&amp;',\n",
       " '&utm_source=twitter.com&utm_content=tw-RecordBee&utm_campaign=socialflow',\n",
       " '&utm_source=twitter.com&utm_medium=social&utm_campaign=politics',\n",
       " '&amp;',\n",
       " '&amp;',\n",
       " '&amp;',\n",
       " '&amp;',\n",
       " '&gt;&gt;',\n",
       " '&amp;',\n",
       " '&amp;',\n",
       " '&amp;',\n",
       " '&amp;',\n",
       " '&amp;',\n",
       " '&amp;',\n",
       " '&amp;',\n",
       " '&amp;',\n",
       " '&amp;',\n",
       " '&amp;']"
      ]
     },
     "metadata": {},
     "execution_count": 40
    }
   ],
   "source": [
    "flat_list[:20]"
   ]
  },
  {
   "cell_type": "code",
   "execution_count": null,
   "metadata": {},
   "outputs": [],
   "source": []
  },
  {
   "cell_type": "code",
   "execution_count": 42,
   "metadata": {},
   "outputs": [
    {
     "output_type": "execute_result",
     "data": {
      "text/plain": [
       "0         []\n",
       "1         []\n",
       "2         []\n",
       "3    [#PA08]\n",
       "4         []\n",
       "Name: hashtags, dtype: object"
      ]
     },
     "metadata": {},
     "execution_count": 42
    }
   ],
   "source": [
    "# extract all hashtags into new column\n",
    "df['hashtags'] = df.text.apply(lambda x: re.findall(r'#\\S+', str(x)))\n",
    "df.hashtags.head()"
   ]
  },
  {
   "cell_type": "code",
   "execution_count": 43,
   "metadata": {},
   "outputs": [
    {
     "output_type": "execute_result",
     "data": {
      "text/plain": [
       "0    [@JNTHN_LCKWD, @jbarro, @CoryBooker]\n",
       "1                                      []\n",
       "2     [@esmemurphy, @amyklobuchar, @wcco]\n",
       "3            [@Court_Rice, @CartwrightPA]\n",
       "4                                      []\n",
       "Name: callouts, dtype: object"
      ]
     },
     "metadata": {},
     "execution_count": 43
    }
   ],
   "source": [
    "df['callouts'] = df.text.apply(lambda x: re.findall(r'@\\S+', str(x)))\n",
    "df['callouts'].head()"
   ]
  },
  {
   "cell_type": "code",
   "execution_count": 46,
   "metadata": {},
   "outputs": [
    {
     "output_type": "execute_result",
     "data": {
      "text/plain": [
       "1306"
      ]
     },
     "metadata": {},
     "execution_count": 46
    }
   ],
   "source": [
    "charref = [x for x in df.text.apply(lambda x: re.findall(r'&[\\S]+', str(x)))]\n",
    "charref\n",
    "flat_list = [item for sublist in charref for item in sublist]\n",
    "len(flat_list)"
   ]
  },
  {
   "cell_type": "code",
   "execution_count": 47,
   "metadata": {},
   "outputs": [
    {
     "output_type": "execute_result",
     "data": {
      "text/plain": [
       "0        Understood. Working this hard. Don’t know w...\n",
       "1     In accordance with current public health recom...\n",
       "2     The American people should know if they're sic...\n",
       "3     RT  LEADERSHIP:  launched a hotline yesterday ...\n",
       "4     https://www.wbrz.com/news/wbrz-business-direct...\n",
       "5     A big update for small businesses and those wh...\n",
       "6     RT  When it comes to combating  Texans should ...\n",
       "7                                           And hockey!\n",
       "8     RT  𝘋𝘪𝘥 𝘺𝘰𝘶 𝘬𝘯𝘰𝘸 𝘵𝘩𝘢𝘵 1 𝘶𝘯𝘪𝘵 𝘰𝘧 𝘥𝘰𝘯𝘢𝘵𝘦𝘥 𝘣𝘭𝘰𝘰𝘥 ...\n",
       "9     . has suspended their voter contact program an...\n",
       "10    RT  Thanks to  who shared in our daily call th...\n",
       "11    With  at the center of the  outbreak, we need ...\n",
       "12    RT  CURFEW: In  by executive order of  Demings...\n",
       "13    I'm hosting a  Telephone Town Hall on Monday, ...\n",
       "14    It’s great, of course. But, you all do realize...\n",
       "15    RT  While Congress continues its work respondi...\n",
       "16    RT  Tribes need the resources to fight  \\n\\nTh...\n",
       "17    RT  Garamendi applauds signing of Families Fir...\n",
       "18    Today I sent a letter to President Trump deman...\n",
       "19    I joined over 70 of my colleagues in writing a...\n",
       "20    As we continue to deal with this unprecedented...\n",
       "21    This week, I’ve met with senior leadership fro...\n",
       "22     https://twitter.com/repwalberg/status/1241056...\n",
       "23    RT  As schools close in response to  please th...\n",
       "24    RT  ***PLEASE SHARE***\\n\\nThis is a complete l...\n",
       "25    With more people being at home, access to info...\n",
       "26         Hi,  Could you DM us so we can connect vi...\n",
       "27     \"Coronavirus In Pennsylvania: All Non-Life-Su...\n",
       "28    I'm truly inspired by my fellow Americans. It'...\n",
       "29    🚨Call 855-840-6970 right now to join my Casewo...\n",
       "Name: text, dtype: object"
      ]
     },
     "metadata": {},
     "execution_count": 47
    }
   ],
   "source": [
    "# replace all hashtags, ampersands, and callouts with no space\n",
    "df.text = df.text.apply(lambda x: re.sub(r'[#@&][\\S]+', '', str(x)))\n",
    "df.text.head(30)"
   ]
  },
  {
   "cell_type": "code",
   "execution_count": 48,
   "metadata": {},
   "outputs": [
    {
     "output_type": "execute_result",
     "data": {
      "text/plain": [
       "0        Understood. Working this hard. Don’t know w...\n",
       "1     In accordance with current public health recom...\n",
       "2     The American people should know if they're sic...\n",
       "3     \\n\\nhttps://www.thetimes-tribune.com/coronavir...\n",
       "4     https://www.wbrz.com/news/wbrz-business-direct...\n",
       "5     A big update for small businesses and those wh...\n",
       "6                                                      \n",
       "7                                           And hockey!\n",
       "8     \\n \\n“During this crisis, we all need to pitch...\n",
       "9     . has suspended their voter contact program an...\n",
       "10                              \\n\\n1-888-407-4747\\n\\n \n",
       "11    With  at the center of the  outbreak, we need ...\n",
       "12                                                     \n",
       "13    I'm hosting a  Telephone Town Hall on Monday, ...\n",
       "14    It’s great, of course. But, you all do realize...\n",
       "15    \\n\\n✔️ Buy gift cards\\n✔️ Order take out or de...\n",
       "16    \\n\\nThey need this money now to prepare and ha...\n",
       "17                                                     \n",
       "18    Today I sent a letter to President Trump deman...\n",
       "19    I joined over 70 of my colleagues in writing a...\n",
       "20    As we continue to deal with this unprecedented...\n",
       "21    This week, I’ve met with senior leadership fro...\n",
       "22     https://twitter.com/repwalberg/status/1241056...\n",
       "23    \\n\\nhttps://www.cnn.com/2020/03/13/us/iyw-how-...\n",
       "24    \\n\\nThis is a complete list of FREE and DISCOU...\n",
       "25    With more people being at home, access to info...\n",
       "26         Hi,  Could you DM us so we can connect vi...\n",
       "27     \"Coronavirus In Pennsylvania: All Non-Life-Su...\n",
       "28    I'm truly inspired by my fellow Americans. It'...\n",
       "29    🚨Call 855-840-6970 right now to join my Casewo...\n",
       "Name: text, dtype: object"
      ]
     },
     "metadata": {},
     "execution_count": 48
    }
   ],
   "source": [
    "# remove twitter RT and QT\n",
    "df.text = df.text.apply(lambda x: re.sub(r'(\\bRT.*|\\bQT.*)', '', str(x)))\n",
    "df.text.head(30)"
   ]
  },
  {
   "cell_type": "code",
   "execution_count": 49,
   "metadata": {},
   "outputs": [
    {
     "output_type": "execute_result",
     "data": {
      "text/plain": [
       "0        Understood. Working this hard. Don’t know w...\n",
       "1     In accordance with current public health recom...\n",
       "2     The American people should know if they're sic...\n",
       "3     \\n\\nhttps://www.thetimes-tribune.com/coronavir...\n",
       "4     https://www.wbrz.com/news/wbrz-business-direct...\n",
       "5     A big update for small businesses and those wh...\n",
       "6                                                      \n",
       "7                                           And hockey!\n",
       "8     \\n \\n“During this crisis, we all need to pitch...\n",
       "9     . has suspended their voter contact program an...\n",
       "10                              \\n\\n1-888-407-4747\\n\\n \n",
       "11    With  at the center of the  outbreak, we need ...\n",
       "12                                                     \n",
       "13    I'm hosting a  Telephone Town Hall on Monday, ...\n",
       "14    It’s great, of course. But, you all do realize...\n",
       "15    \\n\\n✔️ Buy gift cards\\n✔️ Order take out or de...\n",
       "16    \\n\\nThey need this money now to prepare and ha...\n",
       "17                                                     \n",
       "18    Today I sent a letter to President Trump deman...\n",
       "19    I joined over 70 of my colleagues in writing a...\n",
       "20    As we continue to deal with this unprecedented...\n",
       "21    This week, I’ve met with senior leadership fro...\n",
       "22     https://twitter.com/repwalberg/status/1241056...\n",
       "23    \\n\\nhttps://www.cnn.com/2020/03/13/us/iyw-how-...\n",
       "24    \\n\\nThis is a complete list of FREE and DISCOU...\n",
       "25    With more people being at home, access to info...\n",
       "26         Hi,  Could you DM us so we can connect vi...\n",
       "27     \"Coronavirus In Pennsylvania: All Non-Life-Su...\n",
       "28    I'm truly inspired by my fellow Americans. It'...\n",
       "29    🚨Call 855-840-6970 right now to join my Casewo...\n",
       "Name: text, dtype: object"
      ]
     },
     "metadata": {},
     "execution_count": 49
    }
   ],
   "source": [
    "df.text.head(30)"
   ]
  },
  {
   "cell_type": "code",
   "execution_count": 50,
   "metadata": {},
   "outputs": [],
   "source": [
    "pd.set_option(\"display.max_rows\", 200)\n",
    "pd.set_option(\"display.max_columns\", 200)"
   ]
  },
  {
   "cell_type": "code",
   "execution_count": 51,
   "metadata": {},
   "outputs": [
    {
     "output_type": "execute_result",
     "data": {
      "text/plain": [
       "0        Understood. Working this hard. Don’t know w...\n",
       "1     In accordance with current public health recom...\n",
       "2     The American people should know if they're sic...\n",
       "3     \\n\\ns://www.thetimes-tribune.com/coronavirus/c...\n",
       "4     s://www.wbrz.com/news/wbrz-business-directory-...\n",
       "5     A big update for small businesses and those wh...\n",
       "6                                                      \n",
       "7                                           And hockey!\n",
       "8     \\n \\n“During this crisis, we all need to pitch...\n",
       "9     . has suspended their voter contact program an...\n",
       "10                              \\n\\n1-888-407-4747\\n\\n \n",
       "11    With  at the center of the  outbreak, we need ...\n",
       "12                                                     \n",
       "13    I'm hosting a  Telephone Town Hall on Monday, ...\n",
       "14    It’s great, of course. But, you all do realize...\n",
       "15    \\n\\n✔️ Buy gift cards\\n✔️ Order take out or de...\n",
       "16    \\n\\nThey need this money now to prepare and ha...\n",
       "17                                                     \n",
       "18    Today I sent a letter to President Trump deman...\n",
       "19    I joined over 70 of my colleagues in writing a...\n",
       "20    As we continue to deal with this unprecedented...\n",
       "21    This week, I’ve met with senior leadership fro...\n",
       "22     s://twitter.com/repwalberg/status/12410566394...\n",
       "23    \\n\\ns://www.cnn.com/2020/03/13/us/iyw-how-to-h...\n",
       "24    \\n\\nThis is a complete list of FREE and DISCOU...\n",
       "25    With more people being at home, access to info...\n",
       "26         Hi,  Could you DM us so we can connect vi...\n",
       "27     \"Coronavirus In Pennsylvania: All Non-Life-Su...\n",
       "28    I'm truly inspired by my fellow Americans. It'...\n",
       "29    🚨Call 855-840-6970 right now to join my Casewo...\n",
       "Name: text, dtype: object"
      ]
     },
     "metadata": {},
     "execution_count": 51
    }
   ],
   "source": [
    "# remove html links\n",
    "df.text = df.text.apply(lambda x:re.sub(r'(http)?', '', str(x)))\n",
    "df.text.head(30)"
   ]
  },
  {
   "cell_type": "code",
   "execution_count": 52,
   "metadata": {},
   "outputs": [
    {
     "output_type": "error",
     "ename": "AttributeError",
     "evalue": "module 'contractions' has no attribute 'fix'",
     "traceback": [
      "\u001b[0;31m---------------------------------------------------------------------------\u001b[0m",
      "\u001b[0;31mAttributeError\u001b[0m                            Traceback (most recent call last)",
      "\u001b[0;32m<ipython-input-52-d29771fc3217>\u001b[0m in \u001b[0;36m<module>\u001b[0;34m\u001b[0m\n\u001b[1;32m      3\u001b[0m     \u001b[0;32mreturn\u001b[0m \u001b[0mtext\u001b[0m\u001b[0;34m\u001b[0m\u001b[0;34m\u001b[0m\u001b[0m\n\u001b[1;32m      4\u001b[0m \u001b[0;34m\u001b[0m\u001b[0m\n\u001b[0;32m----> 5\u001b[0;31m \u001b[0mdf\u001b[0m\u001b[0;34m.\u001b[0m\u001b[0mtext\u001b[0m \u001b[0;34m=\u001b[0m \u001b[0mdf\u001b[0m\u001b[0;34m.\u001b[0m\u001b[0mtext\u001b[0m\u001b[0;34m.\u001b[0m\u001b[0mapply\u001b[0m\u001b[0;34m(\u001b[0m\u001b[0;32mlambda\u001b[0m \u001b[0mx\u001b[0m\u001b[0;34m:\u001b[0m \u001b[0mexpand_contractions\u001b[0m\u001b[0;34m(\u001b[0m\u001b[0mx\u001b[0m\u001b[0;34m)\u001b[0m\u001b[0;34m)\u001b[0m\u001b[0;34m\u001b[0m\u001b[0;34m\u001b[0m\u001b[0m\n\u001b[0m",
      "\u001b[0;32m~/opt/anaconda3/envs/learn-env/lib/python3.9/site-packages/pandas/core/series.py\u001b[0m in \u001b[0;36mapply\u001b[0;34m(self, func, convert_dtype, args, **kwds)\u001b[0m\n\u001b[1;32m   4211\u001b[0m             \u001b[0;32melse\u001b[0m\u001b[0;34m:\u001b[0m\u001b[0;34m\u001b[0m\u001b[0;34m\u001b[0m\u001b[0m\n\u001b[1;32m   4212\u001b[0m                 \u001b[0mvalues\u001b[0m \u001b[0;34m=\u001b[0m \u001b[0mself\u001b[0m\u001b[0;34m.\u001b[0m\u001b[0mastype\u001b[0m\u001b[0;34m(\u001b[0m\u001b[0mobject\u001b[0m\u001b[0;34m)\u001b[0m\u001b[0;34m.\u001b[0m\u001b[0m_values\u001b[0m\u001b[0;34m\u001b[0m\u001b[0;34m\u001b[0m\u001b[0m\n\u001b[0;32m-> 4213\u001b[0;31m                 \u001b[0mmapped\u001b[0m \u001b[0;34m=\u001b[0m \u001b[0mlib\u001b[0m\u001b[0;34m.\u001b[0m\u001b[0mmap_infer\u001b[0m\u001b[0;34m(\u001b[0m\u001b[0mvalues\u001b[0m\u001b[0;34m,\u001b[0m \u001b[0mf\u001b[0m\u001b[0;34m,\u001b[0m \u001b[0mconvert\u001b[0m\u001b[0;34m=\u001b[0m\u001b[0mconvert_dtype\u001b[0m\u001b[0;34m)\u001b[0m\u001b[0;34m\u001b[0m\u001b[0;34m\u001b[0m\u001b[0m\n\u001b[0m\u001b[1;32m   4214\u001b[0m \u001b[0;34m\u001b[0m\u001b[0m\n\u001b[1;32m   4215\u001b[0m         \u001b[0;32mif\u001b[0m \u001b[0mlen\u001b[0m\u001b[0;34m(\u001b[0m\u001b[0mmapped\u001b[0m\u001b[0;34m)\u001b[0m \u001b[0;32mand\u001b[0m \u001b[0misinstance\u001b[0m\u001b[0;34m(\u001b[0m\u001b[0mmapped\u001b[0m\u001b[0;34m[\u001b[0m\u001b[0;36m0\u001b[0m\u001b[0;34m]\u001b[0m\u001b[0;34m,\u001b[0m \u001b[0mSeries\u001b[0m\u001b[0;34m)\u001b[0m\u001b[0;34m:\u001b[0m\u001b[0;34m\u001b[0m\u001b[0;34m\u001b[0m\u001b[0m\n",
      "\u001b[0;32mpandas/_libs/lib.pyx\u001b[0m in \u001b[0;36mpandas._libs.lib.map_infer\u001b[0;34m()\u001b[0m\n",
      "\u001b[0;32m<ipython-input-52-d29771fc3217>\u001b[0m in \u001b[0;36m<lambda>\u001b[0;34m(x)\u001b[0m\n\u001b[1;32m      3\u001b[0m     \u001b[0;32mreturn\u001b[0m \u001b[0mtext\u001b[0m\u001b[0;34m\u001b[0m\u001b[0;34m\u001b[0m\u001b[0m\n\u001b[1;32m      4\u001b[0m \u001b[0;34m\u001b[0m\u001b[0m\n\u001b[0;32m----> 5\u001b[0;31m \u001b[0mdf\u001b[0m\u001b[0;34m.\u001b[0m\u001b[0mtext\u001b[0m \u001b[0;34m=\u001b[0m \u001b[0mdf\u001b[0m\u001b[0;34m.\u001b[0m\u001b[0mtext\u001b[0m\u001b[0;34m.\u001b[0m\u001b[0mapply\u001b[0m\u001b[0;34m(\u001b[0m\u001b[0;32mlambda\u001b[0m \u001b[0mx\u001b[0m\u001b[0;34m:\u001b[0m \u001b[0mexpand_contractions\u001b[0m\u001b[0;34m(\u001b[0m\u001b[0mx\u001b[0m\u001b[0;34m)\u001b[0m\u001b[0;34m)\u001b[0m\u001b[0;34m\u001b[0m\u001b[0;34m\u001b[0m\u001b[0m\n\u001b[0m",
      "\u001b[0;32m<ipython-input-52-d29771fc3217>\u001b[0m in \u001b[0;36mexpand_contractions\u001b[0;34m(text)\u001b[0m\n\u001b[1;32m      1\u001b[0m \u001b[0;32mdef\u001b[0m \u001b[0mexpand_contractions\u001b[0m\u001b[0;34m(\u001b[0m\u001b[0mtext\u001b[0m\u001b[0;34m)\u001b[0m\u001b[0;34m:\u001b[0m\u001b[0;34m\u001b[0m\u001b[0;34m\u001b[0m\u001b[0m\n\u001b[0;32m----> 2\u001b[0;31m     \u001b[0mtext\u001b[0m \u001b[0;34m=\u001b[0m \u001b[0mcontractions\u001b[0m\u001b[0;34m.\u001b[0m\u001b[0mfix\u001b[0m\u001b[0;34m(\u001b[0m\u001b[0mtext\u001b[0m\u001b[0;34m)\u001b[0m\u001b[0;34m\u001b[0m\u001b[0;34m\u001b[0m\u001b[0m\n\u001b[0m\u001b[1;32m      3\u001b[0m     \u001b[0;32mreturn\u001b[0m \u001b[0mtext\u001b[0m\u001b[0;34m\u001b[0m\u001b[0;34m\u001b[0m\u001b[0m\n\u001b[1;32m      4\u001b[0m \u001b[0;34m\u001b[0m\u001b[0m\n\u001b[1;32m      5\u001b[0m \u001b[0mdf\u001b[0m\u001b[0;34m.\u001b[0m\u001b[0mtext\u001b[0m \u001b[0;34m=\u001b[0m \u001b[0mdf\u001b[0m\u001b[0;34m.\u001b[0m\u001b[0mtext\u001b[0m\u001b[0;34m.\u001b[0m\u001b[0mapply\u001b[0m\u001b[0;34m(\u001b[0m\u001b[0;32mlambda\u001b[0m \u001b[0mx\u001b[0m\u001b[0;34m:\u001b[0m \u001b[0mexpand_contractions\u001b[0m\u001b[0;34m(\u001b[0m\u001b[0mx\u001b[0m\u001b[0;34m)\u001b[0m\u001b[0;34m)\u001b[0m\u001b[0;34m\u001b[0m\u001b[0;34m\u001b[0m\u001b[0m\n",
      "\u001b[0;31mAttributeError\u001b[0m: module 'contractions' has no attribute 'fix'"
     ]
    }
   ],
   "source": [
    "def expand_contractions(text):\n",
    "    text = contractions.fix(text)\n",
    "    return text\n",
    "\n",
    "df.text = df.text.apply(lambda x: expand_contractions(x))"
   ]
  },
  {
   "cell_type": "code",
   "execution_count": 53,
   "metadata": {},
   "outputs": [
    {
     "output_type": "execute_result",
     "data": {
      "text/plain": [
       "0        Understood Working this hard Dont know what...\n",
       "1     In accordance with current public health recom...\n",
       "2     The American people should know if theyre sick...\n",
       "3     \\n\\nswwwthetimestribunecomcoronaviruscartwrigh...\n",
       "4     swwwwbrzcomnewswbrzbusinessdirectorystorehours...\n",
       "5     A big update for small businesses and those wh...\n",
       "6                                                      \n",
       "7                                            And hockey\n",
       "8     \\n \\nDuring this crisis we all need to pitch i...\n",
       "9      has suspended their voter contact program and...\n",
       "10                                 \\n\\n18884074747\\n\\n \n",
       "11    With  at the center of the  outbreak we need t...\n",
       "12                                                     \n",
       "13    Im hosting a  Telephone Town Hall on Monday Ma...\n",
       "14    Its great of course But you all do realize tha...\n",
       "15    \\n\\n Buy gift cards\\n Order take out or delive...\n",
       "16    \\n\\nThey need this money now to prepare and ha...\n",
       "17                                                     \n",
       "18    Today I sent a letter to President Trump deman...\n",
       "19    I joined over 70 of my colleagues in writing a...\n",
       "20    As we continue to deal with this unprecedented...\n",
       "21    This week Ive met with senior leadership from ...\n",
       "22      stwittercomrepwalbergstatus1241056639416967173 \n",
       "23    \\n\\nswwwcnncom20200313usiywhowtohelphungrystud...\n",
       "24    \\n\\nThis is a complete list of FREE and DISCOU...\n",
       "25    With more people being at home access to infor...\n",
       "26         Hi  Could you DM us so we can connect via...\n",
       "27     Coronavirus In Pennsylvania All NonLifeSustai...\n",
       "28    Im truly inspired by my fellow Americans Itll ...\n",
       "29    Call 8558406970 right now to join my Casework ...\n",
       "Name: text, dtype: object"
      ]
     },
     "metadata": {},
     "execution_count": 53
    }
   ],
   "source": [
    "df.text = df.text.apply(lambda x: re.sub(r'[^\\w\\s]', r'', str(x)))\n",
    "df.text.head(30)"
   ]
  },
  {
   "cell_type": "code",
   "execution_count": 54,
   "metadata": {},
   "outputs": [
    {
     "output_type": "execute_result",
     "data": {
      "text/plain": [
       "0     understood working this hard dont know what th...\n",
       "1     in accordance with current public health recom...\n",
       "2     the american people should know if theyre sick...\n",
       "3     swwwthetimestribunecomcoronaviruscartwrightpre...\n",
       "4     swwwwbrzcomnewswbrzbusinessdirectorystorehours...\n",
       "5     a big update for small businesses and those wh...\n",
       "6                                                      \n",
       "7                                            and hockey\n",
       "8     during this crisis we all need to pitch in ple...\n",
       "9     has suspended their voter contact program and ...\n",
       "10                                          18884074747\n",
       "11    with at the center of the outbreak we need to ...\n",
       "12                                                     \n",
       "13    im hosting a telephone town hall on monday mar...\n",
       "14    its great of course but you all do realize tha...\n",
       "15    buy gift cards order take out or delivery prom...\n",
       "16    they need this money now to prepare and have t...\n",
       "17                                                     \n",
       "18    today i sent a letter to president trump deman...\n",
       "19    i joined over 70 of my colleagues in writing a...\n",
       "20    as we continue to deal with this unprecedented...\n",
       "21    this week ive met with senior leadership from ...\n",
       "22       stwittercomrepwalbergstatus1241056639416967173\n",
       "23    swwwcnncom20200313usiywhowtohelphungrystudents...\n",
       "24    this is a complete list of free and discounted...\n",
       "25    with more people being at home access to infor...\n",
       "26    hi could you dm us so we can connect via email...\n",
       "27    coronavirus in pennsylvania all nonlifesustain...\n",
       "28    im truly inspired by my fellow americans itll ...\n",
       "29    call 8558406970 right now to join my casework ...\n",
       "Name: text, dtype: object"
      ]
     },
     "metadata": {},
     "execution_count": 54
    }
   ],
   "source": [
    "# lower casing\n",
    "df.text = df.text.apply(lambda x: \" \".join(x.lower() for x in x.split()))\n",
    "df.text.head(30)"
   ]
  },
  {
   "cell_type": "code",
   "execution_count": 55,
   "metadata": {},
   "outputs": [
    {
     "output_type": "stream",
     "name": "stdout",
     "text": [
      "[3, cups, of, coffee]\n"
     ]
    }
   ],
   "source": [
    "text = \"\"\"three cups of coffee\"\"\"\n",
    "doc = nlp(text)\n",
    "tokens = [w2n.word_to_num(token.text) if token.pos_ == 'NUM' else token for token in doc]\n",
    "\n",
    "print(tokens) # result: [3, cups, of, coffee]\n"
   ]
  },
  {
   "cell_type": "code",
   "execution_count": 56,
   "metadata": {},
   "outputs": [
    {
     "output_type": "execute_result",
     "data": {
      "text/plain": [
       "0     understood working this hard dont know what th...\n",
       "1     in accordance with current public health recom...\n",
       "2     the american people should know if theyre sick...\n",
       "3                                                      \n",
       "4     swwwwbrzcomnewswbrzbusinessdirectorystorehours...\n",
       "5     a big update for small businesses and those wh...\n",
       "6                                                      \n",
       "7                                            and hockey\n",
       "8     during this crisis we all need to pitch in ple...\n",
       "9     has suspended their voter contact program and ...\n",
       "10                                                     \n",
       "11    with at the center of the outbreak we need to ...\n",
       "12                                                     \n",
       "13    im hosting a telephone town hall on monday mar...\n",
       "14    its great of course but you all do realize tha...\n",
       "15    buy gift cards order take out or delivery prom...\n",
       "16    they need this money now to prepare and have t...\n",
       "17                                                     \n",
       "18    today i sent a letter to president trump deman...\n",
       "19    i joined over  of my colleagues in writing a l...\n",
       "20    as we continue to deal with this unprecedented...\n",
       "21    this week ive met with senior leadership from ...\n",
       "22                                                     \n",
       "23                                                     \n",
       "24    this is a complete list of free and discounted...\n",
       "25    with more people being at home access to infor...\n",
       "26    hi could you dm us so we can connect via email...\n",
       "27    coronavirus in pennsylvania all nonlifesustain...\n",
       "28    im truly inspired by my fellow americans itll ...\n",
       "29    call  right now to join my casework telephone ...\n",
       "Name: text, dtype: object"
      ]
     },
     "metadata": {},
     "execution_count": 56
    }
   ],
   "source": [
    "# remove numbers or words with digits  \n",
    "df.text = df.text.apply(lambda x: re.sub(r'\\w*\\d\\w*', r'', str(x)))\n",
    "df.text.head(30)"
   ]
  },
  {
   "cell_type": "code",
   "execution_count": 57,
   "metadata": {},
   "outputs": [
    {
     "output_type": "execute_result",
     "data": {
      "text/plain": [
       "0     understood working this hard dont know what th...\n",
       "1     in accordance with current public health recom...\n",
       "2     the american people should know if theyre sick...\n",
       "3                                                      \n",
       "4     swwwwbrzcomnewswbrzbusinessdirectorystorehours...\n",
       "5     a big update for small businesses and those wh...\n",
       "6                                                      \n",
       "7                                            and hockey\n",
       "8     during this crisis we all need to pitch in ple...\n",
       "9     has suspended their voter contact program and ...\n",
       "10                                                     \n",
       "11    with at the center of the outbreak we need to ...\n",
       "12                                                     \n",
       "13    im hosting a telephone town hall on monday mar...\n",
       "14    its great of course but you all do realize tha...\n",
       "15    buy gift cards order take out or delivery prom...\n",
       "16    they need this money now to prepare and have t...\n",
       "17                                                     \n",
       "18    today i sent a letter to president trump deman...\n",
       "19    i joined over of my colleagues in writing a le...\n",
       "20    as we continue to deal with this unprecedented...\n",
       "21    this week ive met with senior leadership from ...\n",
       "22                                                     \n",
       "23                                                     \n",
       "24    this is a complete list of free and discounted...\n",
       "25    with more people being at home access to infor...\n",
       "26    hi could you dm us so we can connect via email...\n",
       "27    coronavirus in pennsylvania all nonlifesustain...\n",
       "28    im truly inspired by my fellow americans itll ...\n",
       "29    call right now to join my casework telephone t...\n",
       "Name: text, dtype: object"
      ]
     },
     "metadata": {},
     "execution_count": 57
    }
   ],
   "source": [
    "# remove any double or more whitespaces to single whitespaces\n",
    "df.text = df.text.apply(lambda x: re.sub(r'\\s\\s+', ' ', str(x)))\n",
    "df.text.head(30)"
   ]
  },
  {
   "cell_type": "code",
   "execution_count": 58,
   "metadata": {},
   "outputs": [
    {
     "output_type": "execute_result",
     "data": {
      "text/plain": [
       "0     understood working this hard dont know what th...\n",
       "1     in accordance with current public health recom...\n",
       "2     the american people should know if theyre sick...\n",
       "3                                                      \n",
       "4     swwwwbrzcomnewswbrzbusinessdirectorystorehours...\n",
       "5     a big update for small businesses and those wh...\n",
       "6                                                      \n",
       "7                                            and hockey\n",
       "8     during this crisis we all need to pitch in ple...\n",
       "9     has suspended their voter contact program and ...\n",
       "10                                                     \n",
       "11    with at the center of the outbreak we need to ...\n",
       "12                                                     \n",
       "13    im hosting a telephone town hall on monday mar...\n",
       "14    its great of course but you all do realize tha...\n",
       "15    buy gift cards order take out or delivery prom...\n",
       "16    they need this money now to prepare and have t...\n",
       "17                                                     \n",
       "18    today i sent a letter to president trump deman...\n",
       "19    i joined over of my colleagues in writing a le...\n",
       "20    as we continue to deal with this unprecedented...\n",
       "21    this week ive met with senior leadership from ...\n",
       "22                                                     \n",
       "23                                                     \n",
       "24    this is a complete list of free and discounted...\n",
       "25    with more people being at home access to infor...\n",
       "26    hi could you dm us so we can connect via email...\n",
       "27    coronavirus in pennsylvania all nonlifesustain...\n",
       "28    im truly inspired by my fellow americans itll ...\n",
       "29    call right now to join my casework telephone t...\n",
       "Name: text, dtype: object"
      ]
     },
     "metadata": {},
     "execution_count": 58
    }
   ],
   "source": [
    "# remove any leading and trailing whitespace\n",
    "df.text = df.text.apply(lambda x: re.sub(r'(\\A\\s+|\\s+\\Z)', '', str(x)))\n",
    "df.text.head(30)"
   ]
  },
  {
   "cell_type": "code",
   "execution_count": 59,
   "metadata": {},
   "outputs": [],
   "source": [
    "import nltk\n",
    "from nltk.corpus import gutenberg, stopwords\n",
    "from nltk.collocations import *\n",
    "from nltk import FreqDist\n",
    "from nltk import word_tokenize\n",
    "import string\n",
    "import re"
   ]
  },
  {
   "cell_type": "code",
   "execution_count": 60,
   "metadata": {},
   "outputs": [
    {
     "output_type": "stream",
     "name": "stdout",
     "text": [
      "887071\n"
     ]
    },
    {
     "output_type": "execute_result",
     "data": {
      "text/plain": [
       "'[Emma by Jane Austen 1816]\\n\\nVOLUME I\\n\\nCHAPTER I\\n\\n\\nEmma Woodhouse, handsome,'"
      ]
     },
     "metadata": {},
     "execution_count": 60
    }
   ],
   "source": [
    "f = open('data/austen-emma.txt')\n",
    "raw = f.read()\n",
    "print(len(raw))\n",
    "raw[:75]"
   ]
  },
  {
   "cell_type": "code",
   "execution_count": 61,
   "metadata": {},
   "outputs": [
    {
     "output_type": "stream",
     "name": "stdout",
     "text": [
      "<class 'list'>\n191785\n"
     ]
    },
    {
     "output_type": "execute_result",
     "data": {
      "text/plain": [
       "['[', 'Emma', 'by', 'Jane', 'Austen', '1816', ']', 'VOLUME', 'I', 'CHAPTER']"
      ]
     },
     "metadata": {},
     "execution_count": 61
    }
   ],
   "source": [
    "tokens = word_tokenize(raw)\n",
    "print(type(tokens))\n",
    "print(len(tokens))\n",
    "tokens[:10]"
   ]
  },
  {
   "cell_type": "code",
   "execution_count": 62,
   "metadata": {},
   "outputs": [
    {
     "output_type": "stream",
     "name": "stdout",
     "text": [
      "<class 'nltk.text.Text'>\n"
     ]
    },
    {
     "output_type": "execute_result",
     "data": {
      "text/plain": [
       "28"
      ]
     },
     "metadata": {},
     "execution_count": 62
    }
   ],
   "source": [
    "text = nltk.Text(tokens)\n",
    "print(type(text))\n",
    "raw.find(\"VOLUME I\")"
   ]
  },
  {
   "cell_type": "code",
   "execution_count": 63,
   "metadata": {},
   "outputs": [
    {
     "output_type": "stream",
     "name": "stdout",
     "text": [
      "<class 'list'>\n"
     ]
    },
    {
     "output_type": "execute_result",
     "data": {
      "text/plain": [
       "['emma',\n",
       " 'by',\n",
       " 'jane',\n",
       " 'austen',\n",
       " '1816',\n",
       " ']',\n",
       " 'volume',\n",
       " 'i',\n",
       " 'chapter',\n",
       " 'i',\n",
       " 'emma',\n",
       " 'woodhouse',\n",
       " ',',\n",
       " 'handsome',\n",
       " ',',\n",
       " 'clever',\n",
       " ',',\n",
       " 'and',\n",
       " 'rich',\n",
       " ',',\n",
       " 'with',\n",
       " 'a',\n",
       " 'comfortable',\n",
       " 'home']"
      ]
     },
     "metadata": {},
     "execution_count": 63
    }
   ],
   "source": [
    "words = [w.lower() for w in tokens]\n",
    "print(type(words))\n",
    "words[1:25]"
   ]
  },
  {
   "cell_type": "code",
   "execution_count": 64,
   "metadata": {},
   "outputs": [
    {
     "output_type": "execute_result",
     "data": {
      "text/plain": [
       "[(',', 12016),\n",
       " ('.', 6355),\n",
       " ('the', 5201),\n",
       " ('to', 5181),\n",
       " ('and', 4877),\n",
       " ('of', 4284),\n",
       " ('i', 3177),\n",
       " ('a', 3124),\n",
       " ('--', 3100),\n",
       " ('it', 2503),\n",
       " (\"''\", 2452),\n",
       " ('her', 2448),\n",
       " ('was', 2396),\n",
       " (';', 2353),\n",
       " ('she', 2336),\n",
       " ('not', 2281),\n",
       " ('in', 2173),\n",
       " ('be', 1970),\n",
       " ('you', 1967),\n",
       " ('he', 1806)]"
      ]
     },
     "metadata": {},
     "execution_count": 64
    }
   ],
   "source": [
    "fdist1 = FreqDist(words)\n",
    "fdist1.most_common(20)"
   ]
  },
  {
   "cell_type": "code",
   "execution_count": 65,
   "metadata": {},
   "outputs": [
    {
     "output_type": "execute_result",
     "data": {
      "text/plain": [
       "['backgammon-table',\n",
       " 'cheerful-tempered',\n",
       " 'companionableness',\n",
       " 'congratulations.',\n",
       " 'conscience-stricken',\n",
       " 'disagreeableness',\n",
       " 'disingenuousness',\n",
       " 'disinterestedness',\n",
       " 'eight-and-thirty',\n",
       " 'fore-shortening.',\n",
       " 'gentleman-farmer',\n",
       " 'incomprehensible',\n",
       " 'manchester-street',\n",
       " 'misunderstanding',\n",
       " 'misunderstandings',\n",
       " 'open-heartedness',\n",
       " 'self-approbation',\n",
       " 'self-consequence',\n",
       " 'self-contentment',\n",
       " 'self-examination',\n",
       " 'seven-and-twenty',\n",
       " 'strawberry-beds.',\n",
       " 'three-and-twenty',\n",
       " 'unceremoniousness',\n",
       " 'undistinguishing',\n",
       " 'unseasonableness',\n",
       " 'wedding-present.']"
      ]
     },
     "metadata": {},
     "execution_count": 65
    }
   ],
   "source": [
    "V = set(words)\n",
    "long_words = [w for w in V if len(w) > 15]\n",
    "sorted(long_words)"
   ]
  },
  {
   "source": [],
   "cell_type": "markdown",
   "metadata": {}
  },
  {
   "cell_type": "code",
   "execution_count": null,
   "metadata": {},
   "outputs": [],
   "source": []
  },
  {
   "cell_type": "code",
   "execution_count": 66,
   "metadata": {},
   "outputs": [],
   "source": [
    "pattern = \"([a-zA-Z]+(?:'[a-z]+)?)\"\n",
    "tokens_raw = nltk.regexp_tokenize(raw, pattern)\n",
    "tokens = [word.lower() for word in tokens_raw]"
   ]
  },
  {
   "cell_type": "code",
   "execution_count": 67,
   "metadata": {},
   "outputs": [
    {
     "output_type": "execute_result",
     "data": {
      "text/plain": [
       "[('to', 5242),\n",
       " ('the', 5204),\n",
       " ('and', 4897),\n",
       " ('of', 4293),\n",
       " ('i', 3191),\n",
       " ('a', 3130),\n",
       " ('it', 2529),\n",
       " ('her', 2483),\n",
       " ('was', 2400),\n",
       " ('she', 2364)]"
      ]
     },
     "metadata": {},
     "execution_count": 67
    }
   ],
   "source": [
    "fd = FreqDist(tokens)\n",
    "fd.most_common(10)"
   ]
  },
  {
   "cell_type": "code",
   "execution_count": 68,
   "metadata": {},
   "outputs": [],
   "source": [
    "stopwords_list = stopwords.words('english')\n",
    "stopwords_list += list(string.punctuation)\n",
    "stopwords_list += ['0', '1', '2', '3', '4', '5', '6', '7', '8', '9']\n",
    "\n",
    "words_stopped = [word for word in tokens if word not in stopwords_list]"
   ]
  },
  {
   "cell_type": "code",
   "execution_count": 69,
   "metadata": {},
   "outputs": [
    {
     "output_type": "execute_result",
     "data": {
      "text/plain": [
       "[('mr', 1154),\n",
       " ('could', 837),\n",
       " ('would', 821),\n",
       " ('emma', 786),\n",
       " ('mrs', 701),\n",
       " ('miss', 602),\n",
       " ('must', 571),\n",
       " ('much', 486),\n",
       " ('said', 484),\n",
       " ('one', 448)]"
      ]
     },
     "metadata": {},
     "execution_count": 69
    }
   ],
   "source": [
    "stopped_fd = FreqDist(words_stopped)\n",
    "stopped_fd.most_common(10)"
   ]
  },
  {
   "cell_type": "code",
   "execution_count": 70,
   "metadata": {},
   "outputs": [
    {
     "output_type": "stream",
     "name": "stdout",
     "text": [
      "Word\t\t\tNormalized Frequency\nmr \t\t\t 0.01574\ncould \t\t\t 0.01141\nwould \t\t\t 0.01119\nemma \t\t\t 0.01072\nmrs \t\t\t 0.009559\nmiss \t\t\t 0.008209\nmust \t\t\t 0.007786\nmuch \t\t\t 0.006627\nsaid \t\t\t 0.0066\none \t\t\t 0.006109\nevery \t\t\t 0.005932\nharriet \t\t\t 0.005659\nwell \t\t\t 0.005495\nthing \t\t\t 0.005427\nweston \t\t\t 0.005304\nthink \t\t\t 0.005236\nlittle \t\t\t 0.004922\nnever \t\t\t 0.004882\ngood \t\t\t 0.004882\nknightley \t\t\t 0.004854\nknow \t\t\t 0.004595\nmight \t\t\t 0.004445\nelton \t\t\t 0.004363\nsay \t\t\t 0.004254\njane \t\t\t 0.003845\nquite \t\t\t 0.003845\ntime \t\t\t 0.003818\nwoodhouse \t\t\t 0.003791\ngreat \t\t\t 0.003613\nnothing \t\t\t 0.003491\ndear \t\t\t 0.003286\nalways \t\t\t 0.003245\nthought \t\t\t 0.003082\nsoon \t\t\t 0.003054\nmay \t\t\t 0.003041\nsee \t\t\t 0.003027\nman \t\t\t 0.002986\nshall \t\t\t 0.002986\nwithout \t\t\t 0.002918\nfirst \t\t\t 0.002877\nfairfax \t\t\t 0.002863\nsure \t\t\t 0.002782\nindeed \t\t\t 0.002754\nlike \t\t\t 0.002727\nfrank \t\t\t 0.002727\nmade \t\t\t 0.002714\never \t\t\t 0.002632\noh \t\t\t 0.002632\nchurchill \t\t\t 0.002632\nyoung \t\t\t 0.002618\n"
     ]
    }
   ],
   "source": [
    "total_count = sum(stopped_fd.values())\n",
    "top_50 = stopped_fd.most_common(50)\n",
    "print('Word\\t\\t\\tNormalized Frequency')\n",
    "for word in top_50:\n",
    "    norm_freq = word[1] / total_count\n",
    "    print('{} \\t\\t\\t {:.4}'.format(word[0], norm_freq))"
   ]
  },
  {
   "cell_type": "code",
   "execution_count": 71,
   "metadata": {},
   "outputs": [
    {
     "output_type": "execute_result",
     "data": {
      "text/plain": [
       "[(('mr', 'knightley'), 0.003667998418260905),\n",
       " (('mrs', 'weston'), 0.003122571144170064),\n",
       " (('mr', 'elton'), 0.0025907795519314945),\n",
       " (('miss', 'woodhouse'), 0.0022226161419201767),\n",
       " (('mr', 'weston'), 0.0019499025048747563),\n",
       " (('frank', 'churchill'), 0.001799910004499775),\n",
       " (('every', 'thing'), 0.0017044602315338779),\n",
       " (('mrs', 'elton'), 0.001690824549681607),\n",
       " (('mr', 'woodhouse'), 0.0014999250037498126),\n",
       " (('miss', 'fairfax'), 0.0014862893218975414),\n",
       " (('miss', 'bates'), 0.0014044752307839153),\n",
       " (('jane', 'fairfax'), 0.0013090254578180182),\n",
       " (('every', 'body'), 0.001227211366704392),\n",
       " (('young', 'man'), 0.0010908545481816817),\n",
       " (('said', 'emma'), 0.0008863193203976165),\n",
       " (('great', 'deal'), 0.0008726836385453455),\n",
       " (('emma', 'could'), 0.0008454122748408035),\n",
       " (('john', 'knightley'), 0.0007635981837271772),\n",
       " (('dare', 'say'), 0.0006954197744658222),\n",
       " (('miss', 'smith'), 0.0006954197744658222)]"
      ]
     },
     "metadata": {},
     "execution_count": 71
    }
   ],
   "source": [
    "bm = nltk.collocations.BigramAssocMeasures()\n",
    "finder = BigramCollocationFinder.from_words(words_stopped)\n",
    "scored = finder.score_ngrams(bm.raw_freq)\n",
    "scored[:20]"
   ]
  },
  {
   "cell_type": "code",
   "execution_count": 72,
   "metadata": {},
   "outputs": [
    {
     "output_type": "execute_result",
     "data": {
      "text/plain": [
       "[(('barouche', 'landau'), 13.354898708356725),\n",
       " (('court', 'plaister'), 12.70282201177703),\n",
       " (('brunswick', 'square'), 12.577291129693169),\n",
       " (('sore', 'throat'), 12.384646051750776),\n",
       " (('mill', 'farm'), 11.854825105222083),\n",
       " (('william', 'larkins'), 11.769936207635563),\n",
       " (('baked', 'apples'), 11.67040053408465),\n",
       " (('post', 'office'), 11.461813912273234),\n",
       " (('box', 'hill'), 11.349185057162329),\n",
       " (('sixteen', 'miles'), 11.22679388260904),\n",
       " (('maple', 'grove'), 11.208057320027452),\n",
       " (('abbey', 'mill'), 11.20805732002745),\n",
       " (('colonel', \"campbell's\"), 10.721681039028347),\n",
       " (('hair', 'cut'), 10.676826803244088),\n",
       " (('south', 'end'), 10.57729112969317),\n",
       " (('shook', 'head'), 10.42528803624812),\n",
       " (('colonel', 'campbell'), 9.880378785047402),\n",
       " (('robert', 'martin'), 9.747216131135483),\n",
       " (('self', 'command'), 9.501188150607382),\n",
       " (('vast', 'deal'), 9.375657268523524)]"
      ]
     },
     "metadata": {},
     "execution_count": 72
    }
   ],
   "source": [
    "pmi_finder = BigramCollocationFinder.from_words(words_stopped)\n",
    "pmi_finder.apply_freq_filter(5)\n",
    "pmi_scored = pmi_finder.score_ngrams(bm.pmi)\n",
    "pmi_scored[:20]"
   ]
  },
  {
   "cell_type": "code",
   "execution_count": null,
   "metadata": {},
   "outputs": [],
   "source": []
  },
  {
   "cell_type": "code",
   "execution_count": null,
   "metadata": {},
   "outputs": [],
   "source": []
  }
 ]
}