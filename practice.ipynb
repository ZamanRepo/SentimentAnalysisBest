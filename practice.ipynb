{
 "metadata": {
  "language_info": {
   "codemirror_mode": {
    "name": "ipython",
    "version": 3
   },
   "file_extension": ".py",
   "mimetype": "text/x-python",
   "name": "python",
   "nbconvert_exporter": "python",
   "pygments_lexer": "ipython3",
   "version": "3.9.1-final"
  },
  "orig_nbformat": 2,
  "kernelspec": {
   "name": "python3",
   "display_name": "Python 3",
   "language": "python"
  }
 },
 "nbformat": 4,
 "nbformat_minor": 2,
 "cells": [
  {
   "cell_type": "code",
   "execution_count": 32,
   "metadata": {},
   "outputs": [],
   "source": [
    "# import modules\n",
    "import json\n",
    "import pandas as pd\n",
    "import re\n",
    "import regex\n",
    "from datetime import datetime\n",
    "pd.set_option(\"display.max_rows\", 999)\n",
    "pd.set_option(\"display.max_columns\", 999)\n",
    "\n",
    "import spacy\n",
    "import pandas as pd\n",
    "import numpy as np\n",
    "import nltk\n",
    "from nltk.tokenize.toktok import ToktokTokenizer\n",
    "import re\n",
    "from bs4 import BeautifulSoup\n",
    "import unicodedata\n",
    "\n",
    "%reload_ext autoreload\n",
    "%autoreload 2\n",
    "from contractions import *\n",
    "\n",
    "# nlp = spacy.load('en_core', parse=True, tag=True, entity=True)\n",
    "# #nlp_vec = spacy.load('en_vecs', parse = True, tag=True, #entity=True)\n",
    "# tokenizer = ToktokTokenizer()\n",
    "# stopword_list = nltk.corpus.stopwords.words('english')\n",
    "# stopword_list.remove('no')\n",
    "# stopword_list.remove('not')"
   ]
  },
  {
   "cell_type": "code",
   "execution_count": 2,
   "metadata": {},
   "outputs": [],
   "source": [
    "# day_count = (end_date - start_date).days + 1\n",
    "# for single_date in (start_date + timedelta(n) for n in range(day_count)):\n",
    "#     print strftime(\"%Y-%m-&d\", single_date.timetuple()) \n",
    "    \n",
    "#     filenames = '2016-07-' + str()"
   ]
  },
  {
   "cell_type": "code",
   "execution_count": 3,
   "metadata": {},
   "outputs": [
    {
     "output_type": "execute_result",
     "data": {
      "text/plain": [
       "                       id   screen_name     user_id  \\\n",
       "0     1241177108442947584   brianschatz    47747074   \n",
       "1     1241048506468622336   PattyMurray   293131808   \n",
       "2     1241139330392961024  amyklobuchar    33537967   \n",
       "3     1241044145994715136          dccc    14676022   \n",
       "4     1241157748408176640  garretgraves   587100576   \n",
       "...                   ...           ...         ...   \n",
       "4684  1241065460478676992      JGO_2020  3857977018   \n",
       "4685  1241065450966077440      JGO_2020  3857977018   \n",
       "4686  1241057746050580480      JGO_2020  3857977018   \n",
       "4687  1241053140973166592      JGO_2020  3857977018   \n",
       "4688  1241053053660344320      JGO_2020  3857977018   \n",
       "\n",
       "                           time  \\\n",
       "0     2020-03-20T21:37:37-04:00   \n",
       "1     2020-03-20T13:06:36-04:00   \n",
       "2     2020-03-20T19:07:30-04:00   \n",
       "3     2020-03-20T12:49:16-04:00   \n",
       "4     2020-03-20T20:20:41-04:00   \n",
       "...                         ...   \n",
       "4684  2020-03-20T14:13:58-04:00   \n",
       "4685  2020-03-20T14:13:56-04:00   \n",
       "4686  2020-03-20T13:43:19-04:00   \n",
       "4687  2020-03-20T13:25:01-04:00   \n",
       "4688  2020-03-20T13:24:40-04:00   \n",
       "\n",
       "                                                   link  \\\n",
       "0     https://www.twitter.com/brianschatz/statuses/1...   \n",
       "1     https://www.twitter.com/PattyMurray/statuses/1...   \n",
       "2     https://www.twitter.com/amyklobuchar/statuses/...   \n",
       "3     https://www.twitter.com/Court_Rice/statuses/12...   \n",
       "4     https://www.twitter.com/garretgraves/statuses/...   \n",
       "...                                                 ...   \n",
       "4684  https://www.twitter.com/Jenniffer2012/statuses...   \n",
       "4685  https://www.twitter.com/Jenniffer2012/statuses...   \n",
       "4686  https://www.twitter.com/RepJenniffer/statuses/...   \n",
       "4687  https://www.twitter.com/Jenniffer2012/statuses...   \n",
       "4688  https://www.twitter.com/Jenniffer2012/statuses...   \n",
       "\n",
       "                                                   text              source  \n",
       "0     @JNTHN_LCKWD @jbarro @CoryBooker Understood. W...  Twitter for iPhone  \n",
       "1     In accordance with current public health recom...     Twitter Web App  \n",
       "2     The American people should know if they're sic...     Twitter Web App  \n",
       "3     RT @Court_Rice LEADERSHIP: @CartwrightPA launc...     Twitter Web App  \n",
       "4     https://www.wbrz.com/news/wbrz-business-direct...  Twitter for iPhone  \n",
       "...                                                 ...                 ...  \n",
       "4684  RT @Jenniffer2012 Esto hará disponible más rec...  Twitter for iPhone  \n",
       "4685  RT @Jenniffer2012 Envié una carta a la Adminis...  Twitter for iPhone  \n",
       "4686  RT @RepJenniffer Sent a letter to @SBAgov Admi...  Twitter for iPhone  \n",
       "4687  RT @Jenniffer2012 Excelente noticia del tesoro...  Twitter for iPhone  \n",
       "4688  RT @Jenniffer2012 Esta mañana tuve un conferen...  Twitter for iPhone  \n",
       "\n",
       "[4689 rows x 7 columns]"
      ],
      "text/html": "<div>\n<style scoped>\n    .dataframe tbody tr th:only-of-type {\n        vertical-align: middle;\n    }\n\n    .dataframe tbody tr th {\n        vertical-align: top;\n    }\n\n    .dataframe thead th {\n        text-align: right;\n    }\n</style>\n<table border=\"1\" class=\"dataframe\">\n  <thead>\n    <tr style=\"text-align: right;\">\n      <th></th>\n      <th>id</th>\n      <th>screen_name</th>\n      <th>user_id</th>\n      <th>time</th>\n      <th>link</th>\n      <th>text</th>\n      <th>source</th>\n    </tr>\n  </thead>\n  <tbody>\n    <tr>\n      <th>0</th>\n      <td>1241177108442947584</td>\n      <td>brianschatz</td>\n      <td>47747074</td>\n      <td>2020-03-20T21:37:37-04:00</td>\n      <td>https://www.twitter.com/brianschatz/statuses/1...</td>\n      <td>@JNTHN_LCKWD @jbarro @CoryBooker Understood. W...</td>\n      <td>Twitter for iPhone</td>\n    </tr>\n    <tr>\n      <th>1</th>\n      <td>1241048506468622336</td>\n      <td>PattyMurray</td>\n      <td>293131808</td>\n      <td>2020-03-20T13:06:36-04:00</td>\n      <td>https://www.twitter.com/PattyMurray/statuses/1...</td>\n      <td>In accordance with current public health recom...</td>\n      <td>Twitter Web App</td>\n    </tr>\n    <tr>\n      <th>2</th>\n      <td>1241139330392961024</td>\n      <td>amyklobuchar</td>\n      <td>33537967</td>\n      <td>2020-03-20T19:07:30-04:00</td>\n      <td>https://www.twitter.com/amyklobuchar/statuses/...</td>\n      <td>The American people should know if they're sic...</td>\n      <td>Twitter Web App</td>\n    </tr>\n    <tr>\n      <th>3</th>\n      <td>1241044145994715136</td>\n      <td>dccc</td>\n      <td>14676022</td>\n      <td>2020-03-20T12:49:16-04:00</td>\n      <td>https://www.twitter.com/Court_Rice/statuses/12...</td>\n      <td>RT @Court_Rice LEADERSHIP: @CartwrightPA launc...</td>\n      <td>Twitter Web App</td>\n    </tr>\n    <tr>\n      <th>4</th>\n      <td>1241157748408176640</td>\n      <td>garretgraves</td>\n      <td>587100576</td>\n      <td>2020-03-20T20:20:41-04:00</td>\n      <td>https://www.twitter.com/garretgraves/statuses/...</td>\n      <td>https://www.wbrz.com/news/wbrz-business-direct...</td>\n      <td>Twitter for iPhone</td>\n    </tr>\n    <tr>\n      <th>...</th>\n      <td>...</td>\n      <td>...</td>\n      <td>...</td>\n      <td>...</td>\n      <td>...</td>\n      <td>...</td>\n      <td>...</td>\n    </tr>\n    <tr>\n      <th>4684</th>\n      <td>1241065460478676992</td>\n      <td>JGO_2020</td>\n      <td>3857977018</td>\n      <td>2020-03-20T14:13:58-04:00</td>\n      <td>https://www.twitter.com/Jenniffer2012/statuses...</td>\n      <td>RT @Jenniffer2012 Esto hará disponible más rec...</td>\n      <td>Twitter for iPhone</td>\n    </tr>\n    <tr>\n      <th>4685</th>\n      <td>1241065450966077440</td>\n      <td>JGO_2020</td>\n      <td>3857977018</td>\n      <td>2020-03-20T14:13:56-04:00</td>\n      <td>https://www.twitter.com/Jenniffer2012/statuses...</td>\n      <td>RT @Jenniffer2012 Envié una carta a la Adminis...</td>\n      <td>Twitter for iPhone</td>\n    </tr>\n    <tr>\n      <th>4686</th>\n      <td>1241057746050580480</td>\n      <td>JGO_2020</td>\n      <td>3857977018</td>\n      <td>2020-03-20T13:43:19-04:00</td>\n      <td>https://www.twitter.com/RepJenniffer/statuses/...</td>\n      <td>RT @RepJenniffer Sent a letter to @SBAgov Admi...</td>\n      <td>Twitter for iPhone</td>\n    </tr>\n    <tr>\n      <th>4687</th>\n      <td>1241053140973166592</td>\n      <td>JGO_2020</td>\n      <td>3857977018</td>\n      <td>2020-03-20T13:25:01-04:00</td>\n      <td>https://www.twitter.com/Jenniffer2012/statuses...</td>\n      <td>RT @Jenniffer2012 Excelente noticia del tesoro...</td>\n      <td>Twitter for iPhone</td>\n    </tr>\n    <tr>\n      <th>4688</th>\n      <td>1241053053660344320</td>\n      <td>JGO_2020</td>\n      <td>3857977018</td>\n      <td>2020-03-20T13:24:40-04:00</td>\n      <td>https://www.twitter.com/Jenniffer2012/statuses...</td>\n      <td>RT @Jenniffer2012 Esta mañana tuve un conferen...</td>\n      <td>Twitter for iPhone</td>\n    </tr>\n  </tbody>\n</table>\n<p>4689 rows × 7 columns</p>\n</div>"
     },
     "metadata": {},
     "execution_count": 3
    }
   ],
   "source": [
    "\n",
    "tw = pd.read_json('data/2020-03-20.json')\n",
    "tw"
   ]
  },
  {
   "cell_type": "code",
   "execution_count": 4,
   "metadata": {},
   "outputs": [],
   "source": [
    "df = tw.drop(columns=[\"link\", \"source\", \"user_id\"], axis=1)"
   ]
  },
  {
   "cell_type": "code",
   "execution_count": 5,
   "metadata": {},
   "outputs": [
    {
     "output_type": "execute_result",
     "data": {
      "text/plain": [
       "                    id   screen_name                       time  \\\n",
       "0  1241177108442947584   brianschatz  2020-03-20T21:37:37-04:00   \n",
       "1  1241048506468622336   PattyMurray  2020-03-20T13:06:36-04:00   \n",
       "2  1241139330392961024  amyklobuchar  2020-03-20T19:07:30-04:00   \n",
       "3  1241044145994715136          dccc  2020-03-20T12:49:16-04:00   \n",
       "4  1241157748408176640  garretgraves  2020-03-20T20:20:41-04:00   \n",
       "\n",
       "                                                text  \n",
       "0  @JNTHN_LCKWD @jbarro @CoryBooker Understood. W...  \n",
       "1  In accordance with current public health recom...  \n",
       "2  The American people should know if they're sic...  \n",
       "3  RT @Court_Rice LEADERSHIP: @CartwrightPA launc...  \n",
       "4  https://www.wbrz.com/news/wbrz-business-direct...  "
      ],
      "text/html": "<div>\n<style scoped>\n    .dataframe tbody tr th:only-of-type {\n        vertical-align: middle;\n    }\n\n    .dataframe tbody tr th {\n        vertical-align: top;\n    }\n\n    .dataframe thead th {\n        text-align: right;\n    }\n</style>\n<table border=\"1\" class=\"dataframe\">\n  <thead>\n    <tr style=\"text-align: right;\">\n      <th></th>\n      <th>id</th>\n      <th>screen_name</th>\n      <th>time</th>\n      <th>text</th>\n    </tr>\n  </thead>\n  <tbody>\n    <tr>\n      <th>0</th>\n      <td>1241177108442947584</td>\n      <td>brianschatz</td>\n      <td>2020-03-20T21:37:37-04:00</td>\n      <td>@JNTHN_LCKWD @jbarro @CoryBooker Understood. W...</td>\n    </tr>\n    <tr>\n      <th>1</th>\n      <td>1241048506468622336</td>\n      <td>PattyMurray</td>\n      <td>2020-03-20T13:06:36-04:00</td>\n      <td>In accordance with current public health recom...</td>\n    </tr>\n    <tr>\n      <th>2</th>\n      <td>1241139330392961024</td>\n      <td>amyklobuchar</td>\n      <td>2020-03-20T19:07:30-04:00</td>\n      <td>The American people should know if they're sic...</td>\n    </tr>\n    <tr>\n      <th>3</th>\n      <td>1241044145994715136</td>\n      <td>dccc</td>\n      <td>2020-03-20T12:49:16-04:00</td>\n      <td>RT @Court_Rice LEADERSHIP: @CartwrightPA launc...</td>\n    </tr>\n    <tr>\n      <th>4</th>\n      <td>1241157748408176640</td>\n      <td>garretgraves</td>\n      <td>2020-03-20T20:20:41-04:00</td>\n      <td>https://www.wbrz.com/news/wbrz-business-direct...</td>\n    </tr>\n  </tbody>\n</table>\n</div>"
     },
     "metadata": {},
     "execution_count": 5
    }
   ],
   "source": [
    "df.head()"
   ]
  },
  {
   "cell_type": "code",
   "execution_count": 6,
   "metadata": {},
   "outputs": [
    {
     "output_type": "execute_result",
     "data": {
      "text/plain": [
       "                       id   screen_name                      time  \\\n",
       "0     1241177108442947584   brianschatz 2020-03-20 21:37:37-04:00   \n",
       "1     1241048506468622336   PattyMurray 2020-03-20 13:06:36-04:00   \n",
       "2     1241139330392961024  amyklobuchar 2020-03-20 19:07:30-04:00   \n",
       "3     1241044145994715136          dccc 2020-03-20 12:49:16-04:00   \n",
       "4     1241157748408176640  garretgraves 2020-03-20 20:20:41-04:00   \n",
       "...                   ...           ...                       ...   \n",
       "4684  1241065460478676992      JGO_2020 2020-03-20 14:13:58-04:00   \n",
       "4685  1241065450966077440      JGO_2020 2020-03-20 14:13:56-04:00   \n",
       "4686  1241057746050580480      JGO_2020 2020-03-20 13:43:19-04:00   \n",
       "4687  1241053140973166592      JGO_2020 2020-03-20 13:25:01-04:00   \n",
       "4688  1241053053660344320      JGO_2020 2020-03-20 13:24:40-04:00   \n",
       "\n",
       "                                                   text  \n",
       "0     @JNTHN_LCKWD @jbarro @CoryBooker Understood. W...  \n",
       "1     In accordance with current public health recom...  \n",
       "2     The American people should know if they're sic...  \n",
       "3     RT @Court_Rice LEADERSHIP: @CartwrightPA launc...  \n",
       "4     https://www.wbrz.com/news/wbrz-business-direct...  \n",
       "...                                                 ...  \n",
       "4684  RT @Jenniffer2012 Esto hará disponible más rec...  \n",
       "4685  RT @Jenniffer2012 Envié una carta a la Adminis...  \n",
       "4686  RT @RepJenniffer Sent a letter to @SBAgov Admi...  \n",
       "4687  RT @Jenniffer2012 Excelente noticia del tesoro...  \n",
       "4688  RT @Jenniffer2012 Esta mañana tuve un conferen...  \n",
       "\n",
       "[4689 rows x 4 columns]"
      ],
      "text/html": "<div>\n<style scoped>\n    .dataframe tbody tr th:only-of-type {\n        vertical-align: middle;\n    }\n\n    .dataframe tbody tr th {\n        vertical-align: top;\n    }\n\n    .dataframe thead th {\n        text-align: right;\n    }\n</style>\n<table border=\"1\" class=\"dataframe\">\n  <thead>\n    <tr style=\"text-align: right;\">\n      <th></th>\n      <th>id</th>\n      <th>screen_name</th>\n      <th>time</th>\n      <th>text</th>\n    </tr>\n  </thead>\n  <tbody>\n    <tr>\n      <th>0</th>\n      <td>1241177108442947584</td>\n      <td>brianschatz</td>\n      <td>2020-03-20 21:37:37-04:00</td>\n      <td>@JNTHN_LCKWD @jbarro @CoryBooker Understood. W...</td>\n    </tr>\n    <tr>\n      <th>1</th>\n      <td>1241048506468622336</td>\n      <td>PattyMurray</td>\n      <td>2020-03-20 13:06:36-04:00</td>\n      <td>In accordance with current public health recom...</td>\n    </tr>\n    <tr>\n      <th>2</th>\n      <td>1241139330392961024</td>\n      <td>amyklobuchar</td>\n      <td>2020-03-20 19:07:30-04:00</td>\n      <td>The American people should know if they're sic...</td>\n    </tr>\n    <tr>\n      <th>3</th>\n      <td>1241044145994715136</td>\n      <td>dccc</td>\n      <td>2020-03-20 12:49:16-04:00</td>\n      <td>RT @Court_Rice LEADERSHIP: @CartwrightPA launc...</td>\n    </tr>\n    <tr>\n      <th>4</th>\n      <td>1241157748408176640</td>\n      <td>garretgraves</td>\n      <td>2020-03-20 20:20:41-04:00</td>\n      <td>https://www.wbrz.com/news/wbrz-business-direct...</td>\n    </tr>\n    <tr>\n      <th>...</th>\n      <td>...</td>\n      <td>...</td>\n      <td>...</td>\n      <td>...</td>\n    </tr>\n    <tr>\n      <th>4684</th>\n      <td>1241065460478676992</td>\n      <td>JGO_2020</td>\n      <td>2020-03-20 14:13:58-04:00</td>\n      <td>RT @Jenniffer2012 Esto hará disponible más rec...</td>\n    </tr>\n    <tr>\n      <th>4685</th>\n      <td>1241065450966077440</td>\n      <td>JGO_2020</td>\n      <td>2020-03-20 14:13:56-04:00</td>\n      <td>RT @Jenniffer2012 Envié una carta a la Adminis...</td>\n    </tr>\n    <tr>\n      <th>4686</th>\n      <td>1241057746050580480</td>\n      <td>JGO_2020</td>\n      <td>2020-03-20 13:43:19-04:00</td>\n      <td>RT @RepJenniffer Sent a letter to @SBAgov Admi...</td>\n    </tr>\n    <tr>\n      <th>4687</th>\n      <td>1241053140973166592</td>\n      <td>JGO_2020</td>\n      <td>2020-03-20 13:25:01-04:00</td>\n      <td>RT @Jenniffer2012 Excelente noticia del tesoro...</td>\n    </tr>\n    <tr>\n      <th>4688</th>\n      <td>1241053053660344320</td>\n      <td>JGO_2020</td>\n      <td>2020-03-20 13:24:40-04:00</td>\n      <td>RT @Jenniffer2012 Esta mañana tuve un conferen...</td>\n    </tr>\n  </tbody>\n</table>\n<p>4689 rows × 4 columns</p>\n</div>"
     },
     "metadata": {},
     "execution_count": 6
    }
   ],
   "source": [
    "format = \"%Y-%m-%dT%H:%M:%S%z\"\n",
    "df.time = df.time.apply(lambda x: datetime.strptime(x, format))\n",
    "df"
   ]
  },
  {
   "cell_type": "code",
   "execution_count": 7,
   "metadata": {},
   "outputs": [
    {
     "output_type": "execute_result",
     "data": {
      "text/plain": [
       "'@JNTHN_LCKWD @jbarro @CoryBooker Understood. Working this hard. Don’t know what the result will be.'"
      ]
     },
     "metadata": {},
     "execution_count": 7
    }
   ],
   "source": [
    "df2 = df.text\n",
    "df2[0]"
   ]
  },
  {
   "cell_type": "code",
   "execution_count": 8,
   "metadata": {},
   "outputs": [
    {
     "output_type": "execute_result",
     "data": {
      "text/plain": [
       "'RT @RepFletcher When it comes to combating #COVID19, Texans should not have to worry about their insurance status. Today, I joined  @RepLloydDoggett and our Texas colleagues to call on Governor Abbot to expand coverage for #COVID19 care for Texans. http://pbs.twimg.com/media/ETmLzjqXYAAfhDV.png http://pbs.twimg.com/media/ETmLz4BXkAA0faZ.png'"
      ]
     },
     "metadata": {},
     "execution_count": 8
    }
   ],
   "source": [
    "df2[6]"
   ]
  },
  {
   "cell_type": "code",
   "execution_count": 9,
   "metadata": {},
   "outputs": [
    {
     "output_type": "execute_result",
     "data": {
      "text/plain": [
       "'The American people should know if they\\'re sick or not. \\n\\nThat’s the only way we can know if people developed immunities—then we will know which workers can be back on the front lines, who can give plasma to other people, &amp; much more. \\n\\nWe need to get more testing for the people. https://twitter.com/esmemurphy/status/1240752676691947527 QT @esmemurphy .@amyklobuchar says she finds lack of access to testing \"appalling\" says her office is getting large numbers of constituent calls needing help with Covid-19 concerns @wcco 5 and 6 pm'"
      ]
     },
     "metadata": {},
     "execution_count": 9
    }
   ],
   "source": [
    "df2[2]"
   ]
  },
  {
   "cell_type": "code",
   "execution_count": 10,
   "metadata": {},
   "outputs": [
    {
     "output_type": "execute_result",
     "data": {
      "text/plain": [
       "'@bubbadog1 And hockey!'"
      ]
     },
     "metadata": {},
     "execution_count": 10
    }
   ],
   "source": [
    "df2[7]"
   ]
  },
  {
   "source": [
    "## Count numbere of words"
   ],
   "cell_type": "markdown",
   "metadata": {}
  },
  {
   "cell_type": "code",
   "execution_count": 11,
   "metadata": {},
   "outputs": [],
   "source": [
    "def num_of_words(df, col):\n",
    "    df['word_count'] = df[col].apply(lambda x: len(str(x).split(\" \")))\n",
    "    print(df[[col, 'word_count']])"
   ]
  },
  {
   "cell_type": "code",
   "execution_count": 12,
   "metadata": {},
   "outputs": [
    {
     "output_type": "stream",
     "name": "stdout",
     "text": [
      "                                                   text  word_count\n0     @JNTHN_LCKWD @jbarro @CoryBooker Understood. W...          14\n1     In accordance with current public health recom...          40\n2     The American people should know if they're sic...          85\n3     RT @Court_Rice LEADERSHIP: @CartwrightPA launc...          29\n4     https://www.wbrz.com/news/wbrz-business-direct...           1\n...                                                 ...         ...\n4684  RT @Jenniffer2012 Esto hará disponible más rec...          28\n4685  RT @Jenniffer2012 Envié una carta a la Adminis...          73\n4686  RT @RepJenniffer Sent a letter to @SBAgov Admi...          43\n4687  RT @Jenniffer2012 Excelente noticia del tesoro...          58\n4688  RT @Jenniffer2012 Esta mañana tuve un conferen...          42\n\n[4689 rows x 2 columns]\n"
     ]
    }
   ],
   "source": [
    "num_of_words(df, 'text')"
   ]
  },
  {
   "source": [
    "## Count number of characters"
   ],
   "cell_type": "markdown",
   "metadata": {}
  },
  {
   "cell_type": "code",
   "execution_count": 13,
   "metadata": {},
   "outputs": [],
   "source": [
    "def num_of_chars(df, col):\n",
    "    df['char_count'] = df[col].str.len()\n",
    "    print(df[[col, 'char_count']])"
   ]
  },
  {
   "cell_type": "code",
   "execution_count": 14,
   "metadata": {},
   "outputs": [
    {
     "output_type": "stream",
     "name": "stdout",
     "text": [
      "                                                   text  char_count\n0     @JNTHN_LCKWD @jbarro @CoryBooker Understood. W...          99\n1     In accordance with current public health recom...         270\n2     The American people should know if they're sic...         540\n3     RT @Court_Rice LEADERSHIP: @CartwrightPA launc...         298\n4     https://www.wbrz.com/news/wbrz-business-direct...          76\n...                                                 ...         ...\n4684  RT @Jenniffer2012 Esto hará disponible más rec...         185\n4685  RT @Jenniffer2012 Envié una carta a la Adminis...         604\n4686  RT @RepJenniffer Sent a letter to @SBAgov Admi...         343\n4687  RT @Jenniffer2012 Excelente noticia del tesoro...         414\n4688  RT @Jenniffer2012 Esta mañana tuve un conferen...         289\n\n[4689 rows x 2 columns]\n"
     ]
    }
   ],
   "source": [
    "num_of_chars(df, 'text')"
   ]
  },
  {
   "source": [
    "## Average World Length"
   ],
   "cell_type": "markdown",
   "metadata": {}
  },
  {
   "cell_type": "code",
   "execution_count": 15,
   "metadata": {},
   "outputs": [],
   "source": [
    "def avg_word(sentence):\n",
    "    words = sentence.split()\n",
    "    return (sum(len(word) for word in words)/len(words))\n",
    "\n",
    "def avg_word_length(df, col):\n",
    "    df['avg_wrd'] = df[col].apply(lambda x: avg_word(x))\n",
    "    print(df[[col, 'avg_wrd']].head())"
   ]
  },
  {
   "cell_type": "code",
   "execution_count": 16,
   "metadata": {},
   "outputs": [
    {
     "output_type": "stream",
     "name": "stdout",
     "text": [
      "                                                text    avg_wrd\n0  @JNTHN_LCKWD @jbarro @CoryBooker Understood. W...   6.142857\n1  In accordance with current public health recom...   5.775000\n2  The American people should know if they're sic...   5.317647\n3  RT @Court_Rice LEADERSHIP: @CartwrightPA launc...   9.241379\n4  https://www.wbrz.com/news/wbrz-business-direct...  76.000000\n"
     ]
    }
   ],
   "source": [
    "avg_word_length(df, 'text')"
   ]
  },
  {
   "cell_type": "code",
   "execution_count": 17,
   "metadata": {},
   "outputs": [],
   "source": [
    "import nltk\n",
    "from nltk.corpus import stopwords\n",
    "stop = stopwords.words('english')"
   ]
  },
  {
   "cell_type": "code",
   "execution_count": 18,
   "metadata": {},
   "outputs": [],
   "source": [
    "def stop_words(df, col):\n",
    "    df['stopwords'] = df[col].apply(lambda x: len([x for x in x.split() if x in stop]))\n",
    "    print(df[[col, 'stopwords']].head())"
   ]
  },
  {
   "cell_type": "code",
   "execution_count": 19,
   "metadata": {},
   "outputs": [
    {
     "output_type": "stream",
     "name": "stdout",
     "text": [
      "                                                text  stopwords\n0  @JNTHN_LCKWD @jbarro @CoryBooker Understood. W...          4\n1  In accordance with current public health recom...         16\n2  The American people should know if they're sic...         31\n3  RT @Court_Rice LEADERSHIP: @CartwrightPA launc...         11\n4  https://www.wbrz.com/news/wbrz-business-direct...          0\n"
     ]
    }
   ],
   "source": [
    "stop_words(df, 'text')"
   ]
  },
  {
   "cell_type": "code",
   "execution_count": 20,
   "metadata": {
    "tags": []
   },
   "outputs": [],
   "source": [
    "from sklearn.feature_extraction.text import CountVectorizer\n",
    "vectorizer = CountVectorizer()\n",
    "X = vectorizer.fit_transform(df2)\n",
    "words = vectorizer.get_feature_names()"
   ]
  },
  {
   "cell_type": "code",
   "execution_count": 21,
   "metadata": {},
   "outputs": [
    {
     "output_type": "execute_result",
     "data": {
      "text/plain": [
       "17226"
      ]
     },
     "metadata": {},
     "execution_count": 21
    }
   ],
   "source": [
    "len(words)"
   ]
  },
  {
   "cell_type": "code",
   "execution_count": 22,
   "metadata": {
    "tags": []
   },
   "outputs": [],
   "source": [
    "vectorizer2 = CountVectorizer(analyzer='word', ngram_range=(2,2))\n",
    "X2 = vectorizer2.fit_transform(df2)\n",
    "pairs = vectorizer2.get_feature_names()"
   ]
  },
  {
   "cell_type": "code",
   "execution_count": 23,
   "metadata": {},
   "outputs": [
    {
     "output_type": "execute_result",
     "data": {
      "text/plain": [
       "83221"
      ]
     },
     "metadata": {},
     "execution_count": 23
    }
   ],
   "source": [
    "len(pairs)"
   ]
  },
  {
   "cell_type": "code",
   "execution_count": 24,
   "metadata": {},
   "outputs": [
    {
     "output_type": "stream",
     "name": "stdout",
     "text": [
      "(4689, 16)\n"
     ]
    }
   ],
   "source": [
    "from sklearn.feature_extraction.text import HashingVectorizer\n",
    "vectorizer3 = HashingVectorizer(n_features=2**4)\n",
    "X = vectorizer3.fit_transform(df2)\n",
    "print(X.shape)"
   ]
  },
  {
   "cell_type": "code",
   "execution_count": 25,
   "metadata": {},
   "outputs": [
    {
     "output_type": "execute_result",
     "data": {
      "text/plain": [
       "<bound method NDFrame.copy of 0       @JNTHN_LCKWD @jbarro @CoryBooker Understood. W...\n",
       "1       In accordance with current public health recom...\n",
       "2       The American people should know if they're sic...\n",
       "3       RT @Court_Rice LEADERSHIP: @CartwrightPA launc...\n",
       "4       https://www.wbrz.com/news/wbrz-business-direct...\n",
       "                              ...                        \n",
       "4684    RT @Jenniffer2012 Esto hará disponible más rec...\n",
       "4685    RT @Jenniffer2012 Envié una carta a la Adminis...\n",
       "4686    RT @RepJenniffer Sent a letter to @SBAgov Admi...\n",
       "4687    RT @Jenniffer2012 Excelente noticia del tesoro...\n",
       "4688    RT @Jenniffer2012 Esta mañana tuve un conferen...\n",
       "Name: text, Length: 4689, dtype: object>"
      ]
     },
     "metadata": {},
     "execution_count": 25
    }
   ],
   "source": [
    "df3 = df2.copy\n",
    "df3"
   ]
  },
  {
   "cell_type": "code",
   "execution_count": null,
   "metadata": {},
   "outputs": [],
   "source": []
  },
  {
   "cell_type": "code",
   "execution_count": null,
   "metadata": {},
   "outputs": [],
   "source": [
    "from twitter_scraper import get_tweets\n",
    "\n",
    "for tweet in get_tweets('twitter', pages=1):\n",
    "    print(tweet['text'])"
   ]
  },
  {
   "cell_type": "code",
   "execution_count": null,
   "metadata": {},
   "outputs": [],
   "source": []
  },
  {
   "cell_type": "code",
   "execution_count": 103,
   "metadata": {},
   "outputs": [
    {
     "output_type": "execute_result",
     "data": {
      "text/plain": [
       "0    [#Shero]\n",
       "1          []\n",
       "2          []\n",
       "3          []\n",
       "4          []\n",
       "Name: hashtags, dtype: object"
      ]
     },
     "metadata": {},
     "execution_count": 103
    }
   ],
   "source": [
    "# extract all hashtags into new column\n",
    "df['hashtags'] = df.text.apply(lambda x: re.findall(r'#\\S+', str(x)))\n",
    "df.hashtags.head()"
   ]
  },
  {
   "cell_type": "code",
   "execution_count": 104,
   "metadata": {},
   "outputs": [
    {
     "output_type": "execute_result",
     "data": {
      "text/plain": [
       "0    [@RepTerriSewell]\n",
       "1         [@SenateGOP]\n",
       "2           [@thehill]\n",
       "3                   []\n",
       "4             [@WIRED]\n",
       "Name: callouts, dtype: object"
      ]
     },
     "metadata": {},
     "execution_count": 104
    }
   ],
   "source": [
    "df['callouts'] = df.text.apply(lambda x: re.findall(r'@\\S+', str(x)))\n",
    "df['callouts'].head()"
   ]
  },
  {
   "cell_type": "code",
   "execution_count": 105,
   "metadata": {},
   "outputs": [
    {
     "output_type": "execute_result",
     "data": {
      "text/plain": [
       "0     RT @RepTerriSewell 62 years ago today, Rosa Pa...\n",
       "1     .@SenateGOP How about we take a break until yo...\n",
       "2     RT @thehill Maxine Waters tears into Trump aft...\n",
       "3     It truly captures and takes action on the fron...\n",
       "4     RT @WIRED Opinion: \"Until the US establishes s...\n",
       "5     The #GOPTaxScam doesn’t just affect taxes. It ...\n",
       "6     RT @cnnbrk Ex-FBI Director James Comey tweets ...\n",
       "7     RT @CRTV WATCH: @RepDeSantis shares w/ @NateMa...\n",
       "8     Kate Steinle's family suffered a terrible loss...\n",
       "9     \"I'm completely convinced that when we pass [t...\n",
       "10    RT @SolomonSyed Hear from @RepPaulTonko this S...\n",
       "11    George Papadopoulos. Paul Manafort. Rick Gates...\n",
       "12    RT @HouseJudDems 🚨#BREAKING: Ranking Member @R...\n",
       "13    Now voting on Passage of H.R. 1699 – 5 minute ...\n",
       "14    Today's development only underscores the need ...\n",
       "15    In 2016, California had nearly double the numb...\n",
       "16    #GOPTaxScam is riddled with special interest p...\n",
       "17    #Flynn's fall is staggeringly significant - th...\n",
       "18    Something that has been quietly slipped into t...\n",
       "19    GOP claims tax relief for small biz, but cuts ...\n",
       "20    Toady on #WorldAIDSDay I must celebrate the wo...\n",
       "21    RT @allinwithchris Vote to impeach Trump will ...\n",
       "22    RT @ksfynews Lawmakers in Washington are looki...\n",
       "23    Don't forget! Our Access to Capital Fair for #...\n",
       "24    Motion To Recommit YEA 192 NAY 227\\nFinal Pass...\n",
       "25    Congratulations, @ADPHattiesburg, on 25 years!...\n",
       "26    (202) 224-3121. Memorize it. Add it to speed d...\n",
       "27    The #GOPTaxScam takes aim at:\\n→ Students\\n→ T...\n",
       "28    “Any argument should at least be taking place ...\n",
       "29    I'm encouraging the Senate to pass its tax ref...\n",
       "30    Just a reminder, the Senate version of the #GO...\n",
       "31    RT @SenatorDurbin Senate Republicans can’t put...\n",
       "32    The global fight against HIV/AIDS requires our...\n",
       "33    A day we can unite 👫 in support of those who s...\n",
       "34    RT @SenToomey The Senate’s Tax Cuts and Jobs A...\n",
       "35    Stephen Miller is Trump's senior policy advise...\n",
       "36    RT @USNHistory USS Taylor (FFG 50) is commissi...\n",
       "37    Wow https://twitter.com/joyindc/status/9366266...\n",
       "38    A stunning, sobering moment as Mueller investi...\n",
       "39    Today's #GOPTaxScam vote is a choice between R...\n",
       "40    Former FCC Chair @TomWheelerFCC talks Net Neut...\n",
       "41    This proposal is going to move our country and...\n",
       "42    Not agreed to, 48-52: Wyden (for Nelson) motio...\n",
       "43    OMG. If true, this is collusion with a foreign...\n",
       "44    RT @SenBooker Update: @CoryBooker got to page ...\n",
       "45    NiLP Report: Latino Leaders on Latino Leadersh...\n",
       "46    ⚡️ @HouseScience Weekly Wrap-Up ⤵️ https://twi...\n",
       "47    RT @GOPLeader It is beyond comprehension that ...\n",
       "48    RT @allinwithchris Vote to impeach Trump will ...\n",
       "49    @realDonaldTrump @HouseJudiciary \"I urge Chair...\n",
       "50    @LisaLisayr @AjitPaiFCC Strongly support #NetN...\n",
       "51    The National Landslide Preparedness Act is cri...\n",
       "52    RT @washingtonpost Four former Trump campaign ...\n",
       "53    RT @SenWarren Well there you have it: The @Sen...\n",
       "54    RT @NoradSanta The website is LIVE!!!  Jump st...\n",
       "55    On #WorldAIDSDay, we remember those we have lo...\n",
       "56    RT @SenatorTester I was just handed a 479-page...\n",
       "57    RT @arianrubio .@realDonaldTrump and @Secretar...\n",
       "58    Swamp the drain! #GOPTaxScam https://twitter.c...\n",
       "59    Looking forward to events with Secretary Zinke...\n",
       "60    The Cardin motion to commit was not agreed to,...\n",
       "61    Our current tax system has the highest busines...\n",
       "62    Sounds swampy to us. http://pbs.twimg.com/medi...\n",
       "63    RT @RepJerryNadler Dear @RepGoodlatte: If you ...\n",
       "64    Sedona is #1 in my book! http://ktar.com/story...\n",
       "65    Attorney General Jeff Sessions must follow thr...\n",
       "66    This account must include whether President Tr...\n",
       "67    \"This development adds further weight to our s...\n",
       "68    I'll be hosting Neighborhood Office Hours in M...\n",
       "69    #Progressive #QOTD 62 years ago, #RosaParks re...\n",
       "70    RT @SenatorDurbin Trying to review the #GOPTax...\n",
       "71    #LGBT people are disproportionately affected b...\n",
       "72    RT @kylegriffin1 A year after Trump promised t...\n",
       "73    Here’s my floor speech on #GOPTaxScam- Step 1:...\n",
       "74    RT @SenGillibrand I want to note that we’ve ba...\n",
       "75    RT @SenSanders Historians will look back on De...\n",
       "76    In this week's e-newsletter, I'm recapping the...\n",
       "77    The House passed #CHIP reauthorization earlier...\n",
       "78    Must watch TV. https://twitter.com/time/status...\n",
       "79    There are just 15 days left to #GetCovered on ...\n",
       "80    Kate’s Killer 2b picked up &amp; prosecuted. J...\n",
       "81    Today, the Senate may pass a tax bill that eff...\n",
       "82    Congressional Republicans are attempting to re...\n",
       "83    Republican leaders in the Senate are scramblin...\n",
       "84    Ultimately saving taxpayer dollars.  The bill ...\n",
       "85    FACT: Shrinking #monuments is nothing new, in ...\n",
       "86    TUNE IN to @1420TheAnswer at 9:20am, I'll be t...\n",
       "87    @RepJohnConyers' actions are deplorable and th...\n",
       "88    In case you missed my interview on @foxnews wi...\n",
       "89    RT @nowthisnews Sen. McCaskill pulled out ever...\n",
       "90    My latest in @defense_news: A congressional pe...\n",
       "91    On #WorldAIDSDay, we remember those we have lo...\n",
       "92    My op-ed in @TheHill: Congress must stop priva...\n",
       "93    @TheViKingDebate @TheJusticeDept Help us take ...\n",
       "94    It’s increasingly clear that the #GOPTaxScam i...\n",
       "95    RT @ABCWorldNews Regular chocolate milk back o...\n",
       "96    RT @RepBRochester On World AIDS Day, I’m celeb...\n",
       "97    Under the #GOPTaxScam the cost of getting a co...\n",
       "98    RT @RepBillShuster The president of the Frankl...\n",
       "99    RT @NBCPolitics BREAKING: Jared Kushner is the...\n",
       "Name: text, dtype: object"
      ]
     },
     "metadata": {},
     "execution_count": 105
    }
   ],
   "source": [
    "df.text.head(100)"
   ]
  },
  {
   "cell_type": "code",
   "execution_count": 106,
   "metadata": {},
   "outputs": [
    {
     "output_type": "execute_result",
     "data": {
      "text/plain": [
       "584"
      ]
     },
     "metadata": {},
     "execution_count": 106
    }
   ],
   "source": [
    "charref = [x for x in df.text.apply(lambda x: re.findall(r'&[\\S]+', str(x)))]\n",
    "charref\n",
    "flat_list = [item for sublist in charref for item in sublist]\n",
    "len(flat_list)"
   ]
  },
  {
   "cell_type": "code",
   "execution_count": 107,
   "metadata": {},
   "outputs": [
    {
     "output_type": "execute_result",
     "data": {
      "text/plain": [
       "0     RT  62 years ago today, Rosa Parks took a bold...\n",
       "1     . How about we take a break until you can type...\n",
       "2     RT  Maxine Waters tears into Trump after Flynn...\n",
       "3     It truly captures and takes action on the fron...\n",
       "4     RT  Opinion: \"Until the US establishes stronge...\n",
       "5     The  doesn’t just affect taxes. It will also g...\n",
       "6     RT  Ex-FBI Director James Comey tweets let \"ju...\n",
       "7     RT  WATCH:  shares w/  his insider perspective...\n",
       "8     Kate Steinle's family suffered a terrible loss...\n",
       "9     \"I'm completely convinced that when we pass [t...\n",
       "10    RT  Hear from  this Sunday on  for more on why...\n",
       "11    George Papadopoulos. Paul Manafort. Rick Gates...\n",
       "12    RT  🚨 Ranking Member  After  Guilty Plea, Judi...\n",
       "13    Now voting on Passage of H.R. 1699 – 5 minute ...\n",
       "14    Today's development only underscores the need ...\n",
       "15    In 2016, California had nearly double the numb...\n",
       "16     is riddled with special interest provisions, ...\n",
       "17     fall is staggeringly significant - the tip of...\n",
       "18    Something that has been quietly slipped into t...\n",
       "19    GOP claims tax relief for small biz, but cuts ...\n",
       "20    Toady on  I must celebrate the work and dedica...\n",
       "21    RT  Vote to impeach Trump will happen next wee...\n",
       "22    RT  Lawmakers in Washington are looking for wa...\n",
       "23    Don't forget! Our Access to Capital Fair for  ...\n",
       "24    Motion To Recommit YEA 192 NAY 227\\nFinal Pass...\n",
       "25    Congratulations,  on 25 years! I wish I could ...\n",
       "26    (202) 224-3121. Memorize it. Add it to speed d...\n",
       "27    The  takes aim at:\\n→ Students\\n→ Teachers\\n→V...\n",
       "28    “Any argument should at least be taking place ...\n",
       "29    I'm encouraging the Senate to pass its tax ref...\n",
       "Name: text, dtype: object"
      ]
     },
     "metadata": {},
     "execution_count": 107
    }
   ],
   "source": [
    "# replace all hashtags, ampersands, and callouts with no space\n",
    "df.text = df.text.apply(lambda x: re.sub(r'[#@&][\\S]+', '', str(x)))\n",
    "df.text.head(30)"
   ]
  },
  {
   "cell_type": "code",
   "execution_count": 108,
   "metadata": {},
   "outputs": [
    {
     "output_type": "execute_result",
     "data": {
      "text/plain": [
       "0                                                      \n",
       "1     . How about we take a break until you can type...\n",
       "2                                                      \n",
       "3     It truly captures and takes action on the fron...\n",
       "4                                                      \n",
       "5     The  doesn’t just affect taxes. It will also g...\n",
       "6                                                      \n",
       "7     \\nGet  in your inbox daily for FREE:\\nhttp://c...\n",
       "8     Kate Steinle's family suffered a terrible loss...\n",
       "9     \"I'm completely convinced that when we pass [t...\n",
       "10                                                     \n",
       "11    George Papadopoulos. Paul Manafort. Rick Gates...\n",
       "12    \\n\\nhttps://medium.com/the-committee-on-the-ju...\n",
       "13    Now voting on Passage of H.R. 1699 – 5 minute ...\n",
       "14    Today's development only underscores the need ...\n",
       "15    In 2016, California had nearly double the numb...\n",
       "16     is riddled with special interest provisions, ...\n",
       "17     fall is staggeringly significant - the tip of...\n",
       "18    Something that has been quietly slipped into t...\n",
       "19    GOP claims tax relief for small biz, but cuts ...\n",
       "20    Toady on  I must celebrate the work and dedica...\n",
       "21                                                     \n",
       "22                                                     \n",
       "23    Don't forget! Our Access to Capital Fair for  ...\n",
       "24    Motion To Recommit YEA 192 NAY 227\\nFinal Pass...\n",
       "25    Congratulations,  on 25 years! I wish I could ...\n",
       "26    (202) 224-3121. Memorize it. Add it to speed d...\n",
       "27    The  takes aim at:\\n→ Students\\n→ Teachers\\n→V...\n",
       "28    “Any argument should at least be taking place ...\n",
       "29    I'm encouraging the Senate to pass its tax ref...\n",
       "Name: text, dtype: object"
      ]
     },
     "metadata": {},
     "execution_count": 108
    }
   ],
   "source": [
    "# remove twitter RT and QT\n",
    "df.text = df.text.apply(lambda x: re.sub(r'(\\bRT.*|\\bQT.*)', '', str(x)))\n",
    "df.text.head(30)"
   ]
  },
  {
   "cell_type": "code",
   "execution_count": 109,
   "metadata": {},
   "outputs": [
    {
     "output_type": "execute_result",
     "data": {
      "text/plain": [
       "0                                                      \n",
       "1     . How about we take a break until you can type...\n",
       "2                                                      \n",
       "3     It truly captures and takes action on the fron...\n",
       "4                                                      \n",
       "5     The  doesn’t just affect taxes. It will also g...\n",
       "6                                                      \n",
       "7     \\nGet  in your inbox daily for FREE:\\nhttp://c...\n",
       "8     Kate Steinle's family suffered a terrible loss...\n",
       "9     \"I'm completely convinced that when we pass [t...\n",
       "10                                                     \n",
       "11    George Papadopoulos. Paul Manafort. Rick Gates...\n",
       "12    \\n\\nhttps://medium.com/the-committee-on-the-ju...\n",
       "13    Now voting on Passage of H.R. 1699 – 5 minute ...\n",
       "14    Today's development only underscores the need ...\n",
       "15    In 2016, California had nearly double the numb...\n",
       "16     is riddled with special interest provisions, ...\n",
       "17     fall is staggeringly significant - the tip of...\n",
       "18    Something that has been quietly slipped into t...\n",
       "19    GOP claims tax relief for small biz, but cuts ...\n",
       "20    Toady on  I must celebrate the work and dedica...\n",
       "21                                                     \n",
       "22                                                     \n",
       "23    Don't forget! Our Access to Capital Fair for  ...\n",
       "24    Motion To Recommit YEA 192 NAY 227\\nFinal Pass...\n",
       "25    Congratulations,  on 25 years! I wish I could ...\n",
       "26    (202) 224-3121. Memorize it. Add it to speed d...\n",
       "27    The  takes aim at:\\n→ Students\\n→ Teachers\\n→V...\n",
       "28    “Any argument should at least be taking place ...\n",
       "29    I'm encouraging the Senate to pass its tax ref...\n",
       "Name: text, dtype: object"
      ]
     },
     "metadata": {},
     "execution_count": 109
    }
   ],
   "source": [
    "df.text.head(30)"
   ]
  },
  {
   "cell_type": "code",
   "execution_count": 110,
   "metadata": {},
   "outputs": [],
   "source": [
    "pd.set_option(\"display.max_rows\", 200)\n",
    "pd.set_option(\"display.max_columns\", 200)"
   ]
  },
  {
   "cell_type": "code",
   "execution_count": 111,
   "metadata": {},
   "outputs": [
    {
     "output_type": "execute_result",
     "data": {
      "text/plain": [
       "0                                                      \n",
       "1     . How about we take a break until you can type...\n",
       "2                                                      \n",
       "3     It truly captures and takes action on the fron...\n",
       "4                                                      \n",
       "5     The  doesn’t just affect taxes. It will also g...\n",
       "6                                                      \n",
       "7              \\nGet  in your inbox daily for FREE:\\n  \n",
       "8     Kate Steinle's family suffered a terrible loss...\n",
       "9     \"I'm completely convinced that when we pass [t...\n",
       "10                                                     \n",
       "11    George Papadopoulos. Paul Manafort. Rick Gates...\n",
       "12                                                 \\n\\n\n",
       "13    Now voting on Passage of H.R. 1699 – 5 minute ...\n",
       "14    Today's development only underscores the need ...\n",
       "15    In 2016, California had nearly double the numb...\n",
       "16     is riddled with special interest provisions, ...\n",
       "17     fall is staggeringly significant - the tip of...\n",
       "18    Something that has been quietly slipped into t...\n",
       "19    GOP claims tax relief for small biz, but cuts ...\n",
       "20    Toady on  I must celebrate the work and dedica...\n",
       "21                                                     \n",
       "22                                                     \n",
       "23    Don't forget! Our Access to Capital Fair for  ...\n",
       "24    Motion To Recommit YEA 192 NAY 227\\nFinal Pass...\n",
       "25    Congratulations,  on 25 years! I wish I could ...\n",
       "26    (202) 224-3121. Memorize it. Add it to speed d...\n",
       "27    The  takes aim at:\\n→ Students\\n→ Teachers\\n→V...\n",
       "28    “Any argument should at least be taking place ...\n",
       "29    I'm encouraging the Senate to pass its tax ref...\n",
       "Name: text, dtype: object"
      ]
     },
     "metadata": {},
     "execution_count": 111
    }
   ],
   "source": [
    "# remove html links\n",
    "df.text = df.text.apply(lambda x:re.sub(r'(http)?', '', str(x)))\n",
    "df.text.head(30)"
   ]
  },
  {
   "cell_type": "code",
   "execution_count": null,
   "metadata": {},
   "outputs": [],
   "source": [
    "def expand_contractions(text):\n",
    "    text = contractions.fix(text)\n",
    "    return text\n",
    "\n",
    "df.text = df.text.apply(lambda x: expand_contractions(x))"
   ]
  },
  {
   "cell_type": "code",
   "execution_count": 112,
   "metadata": {},
   "outputs": [
    {
     "output_type": "execute_result",
     "data": {
      "text/plain": [
       "0                                                      \n",
       "1      How about we take a break until you can type ...\n",
       "2                                                      \n",
       "3     It truly captures and takes action on the fron...\n",
       "4                                                      \n",
       "5     The  doesnt just affect taxes It will also gut...\n",
       "6                                                      \n",
       "7               \\nGet  in your inbox daily for FREE\\n  \n",
       "8     Kate Steinles family suffered a terrible loss ...\n",
       "9     Im completely convinced that when we pass the ...\n",
       "10                                                     \n",
       "11    George Papadopoulos Paul Manafort Rick Gates N...\n",
       "12                                                 \\n\\n\n",
       "13      Now voting on Passage of HR 1699  5 minute vote\n",
       "14    Todays development only underscores the need t...\n",
       "15    In 2016 California had nearly double the numbe...\n",
       "16     is riddled with special interest provisions b...\n",
       "17     fall is staggeringly significant  the tip of ...\n",
       "18    Something that has been quietly slipped into t...\n",
       "19    GOP claims tax relief for small biz but cuts f...\n",
       "20    Toady on  I must celebrate the work and dedica...\n",
       "21                                                     \n",
       "22                                                     \n",
       "23    Dont forget Our Access to Capital Fair for   i...\n",
       "24    Motion To Recommit YEA 192 NAY 227\\nFinal Pass...\n",
       "25    Congratulations  on 25 years I wish I could ha...\n",
       "26    202 2243121 Memorize it Add it to speed dial M...\n",
       "27    The  takes aim at\\n Students\\n Teachers\\nVeter...\n",
       "28    Any argument should at least be taking place w...\n",
       "29    Im encouraging the Senate to pass its tax refo...\n",
       "Name: text, dtype: object"
      ]
     },
     "metadata": {},
     "execution_count": 112
    }
   ],
   "source": [
    "df.text = df.text.apply(lambda x: re.sub(r'[^\\w\\s]', r'', str(x)))\n",
    "df.text.head(30)"
   ]
  },
  {
   "cell_type": "code",
   "execution_count": 114,
   "metadata": {},
   "outputs": [
    {
     "output_type": "execute_result",
     "data": {
      "text/plain": [
       "0                                                      \n",
       "1     how about we take a break until you can type a...\n",
       "2                                                      \n",
       "3     it truly captures and takes action on the fron...\n",
       "4                                                      \n",
       "5     the doesnt just affect taxes it will also gut ...\n",
       "6                                                      \n",
       "7                      get in your inbox daily for free\n",
       "8     kate steinles family suffered a terrible loss ...\n",
       "9     im completely convinced that when we pass the ...\n",
       "10                                                     \n",
       "11    george papadopoulos paul manafort rick gates n...\n",
       "12                                                     \n",
       "13       now voting on passage of hr 1699 5 minute vote\n",
       "14    todays development only underscores the need t...\n",
       "15    in 2016 california had nearly double the numbe...\n",
       "16    is riddled with special interest provisions bu...\n",
       "17    fall is staggeringly significant the tip of th...\n",
       "18    something that has been quietly slipped into t...\n",
       "19    gop claims tax relief for small biz but cuts f...\n",
       "20    toady on i must celebrate the work and dedicat...\n",
       "21                                                     \n",
       "22                                                     \n",
       "23    dont forget our access to capital fair for is ...\n",
       "24    motion to recommit yea 192 nay 227 final passa...\n",
       "25    congratulations on 25 years i wish i could hav...\n",
       "26    202 2243121 memorize it add it to speed dial m...\n",
       "27    the takes aim at students teachers veterans se...\n",
       "28    any argument should at least be taking place w...\n",
       "29    im encouraging the senate to pass its tax refo...\n",
       "Name: text, dtype: object"
      ]
     },
     "metadata": {},
     "execution_count": 114
    }
   ],
   "source": [
    "# lower casing\n",
    "df.text = df.text.apply(lambda x: \" \".join(x.lower() for x in x.split()))\n",
    "df.text.head(30)"
   ]
  },
  {
   "cell_type": "code",
   "execution_count": null,
   "metadata": {},
   "outputs": [],
   "source": [
    "text = \"\"\"three cups of coffee\"\"\"\n",
    "doc = nlp(text)\n",
    "tokens = [w2n.word_to_num(token.text) if token.pos_ == 'NUM' else token for token in doc]\n",
    "\n",
    "print(tokens) # result: [3, cups, of, coffee]\n"
   ]
  },
  {
   "cell_type": "code",
   "execution_count": 117,
   "metadata": {},
   "outputs": [
    {
     "output_type": "execute_result",
     "data": {
      "text/plain": [
       "0                                                      \n",
       "1     how about we take a break until you can type a...\n",
       "2                                                      \n",
       "3     it truly captures and takes action on the fron...\n",
       "4                                                      \n",
       "5     the doesnt just affect taxes it will also gut ...\n",
       "6                                                      \n",
       "7                      get in your inbox daily for free\n",
       "8     kate steinles family suffered a terrible loss ...\n",
       "9     im completely convinced that when we pass the ...\n",
       "10                                                     \n",
       "11    george papadopoulos paul manafort rick gates n...\n",
       "12                                                     \n",
       "13            now voting on passage of hr   minute vote\n",
       "14    todays development only underscores the need t...\n",
       "15    in  california had nearly double the number of...\n",
       "16    is riddled with special interest provisions bu...\n",
       "17    fall is staggeringly significant the tip of th...\n",
       "18    something that has been quietly slipped into t...\n",
       "19    gop claims tax relief for small biz but cuts f...\n",
       "20    toady on i must celebrate the work and dedicat...\n",
       "21                                                     \n",
       "22                                                     \n",
       "23    dont forget our access to capital fair for is ...\n",
       "24    motion to recommit yea  nay  final passage of ...\n",
       "25    congratulations on  years i wish i could have ...\n",
       "26      memorize it add it to speed dial make as man...\n",
       "27    the takes aim at students teachers veterans se...\n",
       "28    any argument should at least be taking place w...\n",
       "29    im encouraging the senate to pass its tax refo...\n",
       "Name: text, dtype: object"
      ]
     },
     "metadata": {},
     "execution_count": 117
    }
   ],
   "source": [
    "# remove numbers or words with digits  \n",
    "df.text = df.text.apply(lambda x: re.sub(r'\\w*\\d\\w*', r'', str(x)))\n",
    "df.text.head(30)"
   ]
  },
  {
   "cell_type": "code",
   "execution_count": 118,
   "metadata": {},
   "outputs": [
    {
     "output_type": "execute_result",
     "data": {
      "text/plain": [
       "0                                                      \n",
       "1     how about we take a break until you can type a...\n",
       "2                                                      \n",
       "3     it truly captures and takes action on the fron...\n",
       "4                                                      \n",
       "5     the doesnt just affect taxes it will also gut ...\n",
       "6                                                      \n",
       "7                      get in your inbox daily for free\n",
       "8     kate steinles family suffered a terrible loss ...\n",
       "9     im completely convinced that when we pass the ...\n",
       "10                                                     \n",
       "11    george papadopoulos paul manafort rick gates n...\n",
       "12                                                     \n",
       "13              now voting on passage of hr minute vote\n",
       "14    todays development only underscores the need t...\n",
       "15    in california had nearly double the number of ...\n",
       "16    is riddled with special interest provisions bu...\n",
       "17    fall is staggeringly significant the tip of th...\n",
       "18    something that has been quietly slipped into t...\n",
       "19    gop claims tax relief for small biz but cuts f...\n",
       "20    toady on i must celebrate the work and dedicat...\n",
       "21                                                     \n",
       "22                                                     \n",
       "23    dont forget our access to capital fair for is ...\n",
       "24    motion to recommit yea nay final passage of hr...\n",
       "25    congratulations on years i wish i could have b...\n",
       "26     memorize it add it to speed dial make as many...\n",
       "27    the takes aim at students teachers veterans se...\n",
       "28    any argument should at least be taking place w...\n",
       "29    im encouraging the senate to pass its tax refo...\n",
       "Name: text, dtype: object"
      ]
     },
     "metadata": {},
     "execution_count": 118
    }
   ],
   "source": [
    "# remove any double or more whitespaces to single whitespaces\n",
    "df.text = df.text.apply(lambda x: re.sub(r'\\s\\s+', ' ', str(x)))\n",
    "df.text.head(30)"
   ]
  },
  {
   "cell_type": "code",
   "execution_count": 119,
   "metadata": {},
   "outputs": [
    {
     "output_type": "execute_result",
     "data": {
      "text/plain": [
       "0                                                      \n",
       "1     how about we take a break until you can type a...\n",
       "2                                                      \n",
       "3     it truly captures and takes action on the fron...\n",
       "4                                                      \n",
       "5     the doesnt just affect taxes it will also gut ...\n",
       "6                                                      \n",
       "7                      get in your inbox daily for free\n",
       "8     kate steinles family suffered a terrible loss ...\n",
       "9     im completely convinced that when we pass the ...\n",
       "10                                                     \n",
       "11    george papadopoulos paul manafort rick gates n...\n",
       "12                                                     \n",
       "13              now voting on passage of hr minute vote\n",
       "14    todays development only underscores the need t...\n",
       "15    in california had nearly double the number of ...\n",
       "16    is riddled with special interest provisions bu...\n",
       "17    fall is staggeringly significant the tip of th...\n",
       "18    something that has been quietly slipped into t...\n",
       "19    gop claims tax relief for small biz but cuts f...\n",
       "20    toady on i must celebrate the work and dedicat...\n",
       "21                                                     \n",
       "22                                                     \n",
       "23    dont forget our access to capital fair for is ...\n",
       "24    motion to recommit yea nay final passage of hr...\n",
       "25    congratulations on years i wish i could have b...\n",
       "26    memorize it add it to speed dial make as many ...\n",
       "27    the takes aim at students teachers veterans se...\n",
       "28    any argument should at least be taking place w...\n",
       "29    im encouraging the senate to pass its tax refo...\n",
       "Name: text, dtype: object"
      ]
     },
     "metadata": {},
     "execution_count": 119
    }
   ],
   "source": [
    "# remove any leading and trailing whitespace\n",
    "df.text = df.text.apply(lambda x: re.sub(r'(\\A\\s+|\\s+\\Z)', '', str(x)))\n",
    "df.text.head(30)"
   ]
  },
  {
   "cell_type": "code",
   "execution_count": 120,
   "metadata": {},
   "outputs": [],
   "source": [
    "from nltk.corpus import stopwords\n",
    "import string"
   ]
  },
  {
   "cell_type": "code",
   "execution_count": 121,
   "metadata": {},
   "outputs": [],
   "source": [
    "stopwords_list = stopwords.words('english')\n",
    "stopwords_list += list(string.punctuation)"
   ]
  },
  {
   "cell_type": "code",
   "execution_count": null,
   "metadata": {},
   "outputs": [],
   "source": [
    "from mltk import word_tokenize\n",
    "\n",
    "tokens = word_token"
   ]
  }
 ]
}